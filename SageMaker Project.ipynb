{
 "cells": [
  {
   "cell_type": "markdown",
   "metadata": {},
   "source": [
    "# Creating a Sentiment Analysis Web App\n",
    "## Using PyTorch and SageMaker\n",
    "\n",
    "_Deep Learning Nanodegree Program | Deployment_\n",
    "\n",
    "---\n",
    "\n",
    "Now that we have a basic understanding of how SageMaker works we will try to use it to construct a complete project from end to end. Our goal will be to have a simple web page which a user can use to enter a movie review. The web page will then send the review off to our deployed model which will predict the sentiment of the entered review.\n",
    "\n",
    "## Instructions\n",
    "\n",
    "Some template code has already been provided for you, and you will need to implement additional functionality to successfully complete this notebook. You will not need to modify the included code beyond what is requested. Sections that begin with '**TODO**' in the header indicate that you need to complete or implement some portion within them. Instructions will be provided for each section and the specifics of the implementation are marked in the code block with a `# TODO: ...` comment. Please be sure to read the instructions carefully!\n",
    "\n",
    "In addition to implementing code, there will be questions for you to answer which relate to the task and your implementation. Each section where you will answer a question is preceded by a '**Question:**' header. Carefully read each question and provide your answer below the '**Answer:**' header by editing the Markdown cell.\n",
    "\n",
    "> **Note**: Code and Markdown cells can be executed using the **Shift+Enter** keyboard shortcut. In addition, a cell can be edited by typically clicking it (double-click for Markdown cells) or by pressing **Enter** while it is highlighted.\n",
    "\n",
    "## General Outline\n",
    "\n",
    "Recall the general outline for SageMaker projects using a notebook instance.\n",
    "\n",
    "1. Download or otherwise retrieve the data.\n",
    "2. Process / Prepare the data.\n",
    "3. Upload the processed data to S3.\n",
    "4. Train a chosen model.\n",
    "5. Test the trained model (typically using a batch transform job).\n",
    "6. Deploy the trained model.\n",
    "7. Use the deployed model.\n",
    "\n",
    "For this project, you will be following the steps in the general outline with some modifications. \n",
    "\n",
    "First, you will not be testing the model in its own step. You will still be testing the model, however, you will do it by deploying your model and then using the deployed model by sending the test data to it. One of the reasons for doing this is so that you can make sure that your deployed model is working correctly before moving forward.\n",
    "\n",
    "In addition, you will deploy and use your trained model a second time. In the second iteration you will customize the way that your trained model is deployed by including some of your own code. In addition, your newly deployed model will be used in the sentiment analysis web app."
   ]
  },
  {
   "cell_type": "markdown",
   "metadata": {},
   "source": [
    "## Step 1: Downloading the data\n",
    "\n",
    "As in the XGBoost in SageMaker notebook, we will be using the [IMDb dataset](http://ai.stanford.edu/~amaas/data/sentiment/)\n",
    "\n",
    "> Maas, Andrew L., et al. [Learning Word Vectors for Sentiment Analysis](http://ai.stanford.edu/~amaas/data/sentiment/). In _Proceedings of the 49th Annual Meeting of the Association for Computational Linguistics: Human Language Technologies_. Association for Computational Linguistics, 2011."
   ]
  },
  {
   "cell_type": "code",
   "execution_count": 1,
   "metadata": {},
   "outputs": [
    {
     "name": "stdout",
     "output_type": "stream",
     "text": [
      "mkdir: cannot create directory ‘../data’: File exists\n",
      "--2020-03-05 01:43:49--  http://ai.stanford.edu/~amaas/data/sentiment/aclImdb_v1.tar.gz\n",
      "Resolving ai.stanford.edu (ai.stanford.edu)... 171.64.68.10\n",
      "Connecting to ai.stanford.edu (ai.stanford.edu)|171.64.68.10|:80... connected.\n",
      "HTTP request sent, awaiting response... 200 OK\n",
      "Length: 84125825 (80M) [application/x-gzip]\n",
      "Saving to: ‘../data/aclImdb_v1.tar.gz’\n",
      "\n",
      "../data/aclImdb_v1. 100%[===================>]  80.23M  8.74MB/s    in 13s     \n",
      "\n",
      "2020-03-05 01:44:02 (6.28 MB/s) - ‘../data/aclImdb_v1.tar.gz’ saved [84125825/84125825]\n",
      "\n"
     ]
    }
   ],
   "source": [
    "%mkdir ../data\n",
    "!wget -O ../data/aclImdb_v1.tar.gz http://ai.stanford.edu/~amaas/data/sentiment/aclImdb_v1.tar.gz\n",
    "!tar -zxf ../data/aclImdb_v1.tar.gz -C ../data"
   ]
  },
  {
   "cell_type": "markdown",
   "metadata": {},
   "source": [
    "## Step 2: Preparing and Processing the data\n",
    "\n",
    "Also, as in the XGBoost notebook, we will be doing some initial data processing. The first few steps are the same as in the XGBoost example. To begin with, we will read in each of the reviews and combine them into a single input structure. Then, we will split the dataset into a training set and a testing set."
   ]
  },
  {
   "cell_type": "code",
   "execution_count": 2,
   "metadata": {},
   "outputs": [],
   "source": [
    "import os\n",
    "import glob\n",
    "\n",
    "def read_imdb_data(data_dir='../data/aclImdb'):\n",
    "    data = {}\n",
    "    labels = {}\n",
    "    \n",
    "    for data_type in ['train', 'test']:\n",
    "        data[data_type] = {}\n",
    "        labels[data_type] = {}\n",
    "        \n",
    "        for sentiment in ['pos', 'neg']:\n",
    "            data[data_type][sentiment] = []\n",
    "            labels[data_type][sentiment] = []\n",
    "            \n",
    "            path = os.path.join(data_dir, data_type, sentiment, '*.txt')\n",
    "            files = glob.glob(path)\n",
    "            \n",
    "            for f in files:\n",
    "                with open(f) as review:\n",
    "                    data[data_type][sentiment].append(review.read())\n",
    "                    # Here we represent a positive review by '1' and a negative review by '0'\n",
    "                    labels[data_type][sentiment].append(1 if sentiment == 'pos' else 0)\n",
    "                    \n",
    "            assert len(data[data_type][sentiment]) == len(labels[data_type][sentiment]), \\\n",
    "                    \"{}/{} data size does not match labels size\".format(data_type, sentiment)\n",
    "                \n",
    "    return data, labels"
   ]
  },
  {
   "cell_type": "code",
   "execution_count": 3,
   "metadata": {},
   "outputs": [
    {
     "name": "stdout",
     "output_type": "stream",
     "text": [
      "IMDB reviews: train = 12500 pos / 12500 neg, test = 12500 pos / 12500 neg\n"
     ]
    }
   ],
   "source": [
    "data, labels = read_imdb_data()\n",
    "print(\"IMDB reviews: train = {} pos / {} neg, test = {} pos / {} neg\".format(\n",
    "            len(data['train']['pos']), len(data['train']['neg']),\n",
    "            len(data['test']['pos']), len(data['test']['neg'])))"
   ]
  },
  {
   "cell_type": "markdown",
   "metadata": {},
   "source": [
    "Now that we've read the raw training and testing data from the downloaded dataset, we will combine the positive and negative reviews and shuffle the resulting records."
   ]
  },
  {
   "cell_type": "code",
   "execution_count": 4,
   "metadata": {},
   "outputs": [],
   "source": [
    "from sklearn.utils import shuffle\n",
    "\n",
    "def prepare_imdb_data(data, labels):\n",
    "    \"\"\"Prepare training and test sets from IMDb movie reviews.\"\"\"\n",
    "    \n",
    "    #Combine positive and negative reviews and labels\n",
    "    data_train = data['train']['pos'] + data['train']['neg']\n",
    "    data_test = data['test']['pos'] + data['test']['neg']\n",
    "    labels_train = labels['train']['pos'] + labels['train']['neg']\n",
    "    labels_test = labels['test']['pos'] + labels['test']['neg']\n",
    "    \n",
    "    #Shuffle reviews and corresponding labels within training and test sets\n",
    "    data_train, labels_train = shuffle(data_train, labels_train)\n",
    "    data_test, labels_test = shuffle(data_test, labels_test)\n",
    "    \n",
    "    # Return a unified training data, test data, training labels, test labets\n",
    "    return data_train, data_test, labels_train, labels_test"
   ]
  },
  {
   "cell_type": "code",
   "execution_count": 7,
   "metadata": {},
   "outputs": [
    {
     "name": "stdout",
     "output_type": "stream",
     "text": [
      "IMDb reviews (combined): train = 25000, test = 25000\n"
     ]
    }
   ],
   "source": [
    "train_X, test_X, train_y, test_y = prepare_imdb_data(data, labels)\n",
    "#train_X1, test_X1, train_y1, test_y1 = prepare_imdb_data(data, labels)\n",
    "print(\"IMDb reviews (combined): train = {}, test = {}\".format(len(train_X1), len(test_X1)))"
   ]
  },
  {
   "cell_type": "markdown",
   "metadata": {},
   "source": [
    "Now that we have our training and testing sets unified and prepared, we should do a quick check and see an example of the data our model will be trained on. This is generally a good idea as it allows you to see how each of the further processing steps affects the reviews and it also ensures that the data has been loaded correctly."
   ]
  },
  {
   "cell_type": "code",
   "execution_count": 8,
   "metadata": {},
   "outputs": [
    {
     "name": "stdout",
     "output_type": "stream",
     "text": [
      "Okay, this show is nothing but AWESOME! It has a great story line and plot and great actors and actresses. Jeremy Sumpter is so hott and he is perfect for the role! He is gunna be big in Hollywood. He has a bright future ahead! This show better last a long time because I really love this show, and I hope that it has a lot of success! It is so interesting. I have been waiting for it to come out for about 6 or 7 months and it's finally here, and it's great! I tape it, too. I can watch it whenever I want now! Too bad its only on once a week though. I wish it was on at least twice a week because now I wish that it was Tuesday every day! Hope you all like this show!<br /><br />~Ashley~\n",
      "-------\n",
      "1\n"
     ]
    }
   ],
   "source": [
    "print(train_X[111])\n",
    "print(\"-------\")\n",
    "print(train_y[111])"
   ]
  },
  {
   "cell_type": "markdown",
   "metadata": {},
   "source": [
    "The first step in processing the reviews is to make sure that any html tags that appear should be removed. In addition we wish to tokenize our input, that way words such as *entertained* and *entertaining* are considered the same with regard to sentiment analysis."
   ]
  },
  {
   "cell_type": "code",
   "execution_count": 9,
   "metadata": {},
   "outputs": [],
   "source": [
    "import nltk\n",
    "from nltk.corpus import stopwords\n",
    "from nltk.stem.porter import *\n",
    "\n",
    "import re\n",
    "from bs4 import BeautifulSoup\n",
    "\n",
    "def review_to_words(review):\n",
    "    nltk.download(\"stopwords\", quiet=True)\n",
    "    stemmer = PorterStemmer()\n",
    "    \n",
    "    text = BeautifulSoup(review, \"html.parser\").get_text() # Remove HTML tags\n",
    "    text = re.sub(r\"[^a-zA-Z0-9]\", \" \", text.lower()) # Convert to lower case\n",
    "    words = text.split() # Split string into words\n",
    "    words = [w for w in words if w not in stopwords.words(\"english\")] # Remove stopwords\n",
    "    words = [PorterStemmer().stem(w) for w in words] # stem\n",
    "    \n",
    "    return words"
   ]
  },
  {
   "cell_type": "markdown",
   "metadata": {},
   "source": [
    "The `review_to_words` method defined above uses `BeautifulSoup` to remove any html tags that appear and uses the `nltk` package to tokenize the reviews. As a check to ensure we know how everything is working, try applying `review_to_words` to one of the reviews in the training set."
   ]
  },
  {
   "cell_type": "code",
   "execution_count": 10,
   "metadata": {},
   "outputs": [
    {
     "data": {
      "text/plain": [
       "['dumb',\n",
       " 'comedi',\n",
       " 'realli',\n",
       " 'good',\n",
       " 'job',\n",
       " 'wast',\n",
       " 'comed',\n",
       " 'talent',\n",
       " 'particular',\n",
       " 'dan',\n",
       " 'aykroyd',\n",
       " 'howard',\n",
       " 'hesseman',\n",
       " 'misus',\n",
       " 'badli',\n",
       " 'might',\n",
       " 'chuckl',\n",
       " 'twice',\n",
       " 'film',\n",
       " 'gener',\n",
       " 'bore',\n",
       " 'movi',\n",
       " 'littl',\n",
       " 'bit',\n",
       " 'stupid',\n",
       " 'thrown',\n",
       " 'good',\n",
       " 'measur',\n",
       " 'premis',\n",
       " 'although',\n",
       " 'routin',\n",
       " 'still',\n",
       " 'bad',\n",
       " 'plot',\n",
       " 'set',\n",
       " 'film',\n",
       " 'went',\n",
       " 'nowher',\n",
       " 'wast',\n",
       " 'time',\n",
       " 'misfir']"
      ]
     },
     "execution_count": 10,
     "metadata": {},
     "output_type": "execute_result"
    }
   ],
   "source": [
    "# TODO: Apply review_to_words to a review (train_X[100] or any other review)\n",
    "review_to_words(train_X1[111])"
   ]
  },
  {
   "cell_type": "markdown",
   "metadata": {},
   "source": [
    "**Question:** Above we mentioned that `review_to_words` method removes html formatting and allows us to tokenize the words found in a review, for example, converting *entertained* and *entertaining* into *entertain* so that they are treated as though they are the same word. What else, if anything, does this method do to the input?"
   ]
  },
  {
   "cell_type": "markdown",
   "metadata": {},
   "source": [
    "**Answer:**\n",
    "In additon to html formatting removal and word tokenization, the review_to_words method above also convert all words to lower-case and remove english stopwords."
   ]
  },
  {
   "cell_type": "markdown",
   "metadata": {},
   "source": [
    "The method below applies the `review_to_words` method to each of the reviews in the training and testing datasets. In addition it caches the results. This is because performing this processing step can take a long time. This way if you are unable to complete the notebook in the current session, you can come back without needing to process the data a second time."
   ]
  },
  {
   "cell_type": "code",
   "execution_count": 11,
   "metadata": {},
   "outputs": [],
   "source": [
    "import pickle\n",
    "\n",
    "cache_dir = os.path.join(\"../cache\", \"sentiment_analysis\")  # where to store cache files\n",
    "os.makedirs(cache_dir, exist_ok=True)  # ensure cache directory exists\n",
    "\n",
    "def preprocess_data(data_train, data_test, labels_train, labels_test,\n",
    "                    cache_dir=cache_dir, cache_file=\"preprocessed_data.pkl\"):\n",
    "    \"\"\"Convert each review to words; read from cache if available.\"\"\"\n",
    "\n",
    "    # If cache_file is not None, try to read from it first\n",
    "    cache_data = None\n",
    "    if cache_file is not None:\n",
    "        try:\n",
    "            with open(os.path.join(cache_dir, cache_file), \"rb\") as f:\n",
    "                cache_data = pickle.load(f)\n",
    "            print(\"Read preprocessed data from cache file:\", cache_file)\n",
    "        except:\n",
    "            pass  # unable to read from cache, but that's okay\n",
    "    \n",
    "    # If cache is missing, then do the heavy lifting\n",
    "    if cache_data is None:\n",
    "        # Preprocess training and test data to obtain words for each review\n",
    "        #words_train = list(map(review_to_words, data_train))\n",
    "        #words_test = list(map(review_to_words, data_test))\n",
    "        words_train = [review_to_words(review) for review in data_train]\n",
    "        words_test = [review_to_words(review) for review in data_test]\n",
    "        \n",
    "        # Write to cache file for future runs\n",
    "        if cache_file is not None:\n",
    "            cache_data = dict(words_train=words_train, words_test=words_test,\n",
    "                              labels_train=labels_train, labels_test=labels_test)\n",
    "            with open(os.path.join(cache_dir, cache_file), \"wb\") as f:\n",
    "                pickle.dump(cache_data, f)\n",
    "            print(\"Wrote preprocessed data to cache file:\", cache_file)\n",
    "    else:\n",
    "        # Unpack data loaded from cache file\n",
    "        words_train, words_test, labels_train, labels_test = (cache_data['words_train'],\n",
    "                cache_data['words_test'], cache_data['labels_train'], cache_data['labels_test'])\n",
    "    \n",
    "    return words_train, words_test, labels_train, labels_test"
   ]
  },
  {
   "cell_type": "code",
   "execution_count": 12,
   "metadata": {},
   "outputs": [
    {
     "name": "stdout",
     "output_type": "stream",
     "text": [
      "Read preprocessed data from cache file: preprocessed_data.pkl\n"
     ]
    }
   ],
   "source": [
    "# Preprocess data\n",
    "train_X, test_X, train_y, test_y = preprocess_data(train_X, test_X, train_y, test_y)\n",
    "#train_X1, test_X1, train_y1, test_y1 = preprocess_data(train_X1, test_X1, train_y1, test_y1)"
   ]
  },
  {
   "cell_type": "code",
   "execution_count": 13,
   "metadata": {},
   "outputs": [
    {
     "data": {
      "text/plain": [
       "[['heard',\n",
       "  'hammerhead',\n",
       "  'releas',\n",
       "  'dvd',\n",
       "  'final',\n",
       "  'found',\n",
       "  'local',\n",
       "  'dvd',\n",
       "  'store',\n",
       "  'thought',\n",
       "  'well',\n",
       "  'anoth',\n",
       "  'cheap',\n",
       "  'monster',\n",
       "  'movi',\n",
       "  'nu',\n",
       "  'imag',\n",
       "  'guy',\n",
       "  'around',\n",
       "  'boaz',\n",
       "  'davidson',\n",
       "  'avi',\n",
       "  'lerner',\n",
       "  'produc',\n",
       "  'cheap',\n",
       "  'entertain',\n",
       "  'b',\n",
       "  'pictur',\n",
       "  'past',\n",
       "  'month',\n",
       "  'also',\n",
       "  'disappoint',\n",
       "  'movi',\n",
       "  'expect',\n",
       "  'much',\n",
       "  'especi',\n",
       "  'watch',\n",
       "  'rather',\n",
       "  'disappoint',\n",
       "  'shark',\n",
       "  'zone',\n",
       "  'day',\n",
       "  'hammerhead',\n",
       "  'turn',\n",
       "  'excel',\n",
       "  'reviv',\n",
       "  '1950',\n",
       "  'monster',\n",
       "  'movi',\n",
       "  'mad',\n",
       "  'scientist',\n",
       "  'group',\n",
       "  'peopl',\n",
       "  'danger',\n",
       "  'situat',\n",
       "  'scream',\n",
       "  'women',\n",
       "  'damsel',\n",
       "  'distress',\n",
       "  'man',\n",
       "  'eat',\n",
       "  'plant',\n",
       "  'cours',\n",
       "  'creatur',\n",
       "  'huge',\n",
       "  'mutant',\n",
       "  'mix',\n",
       "  'man',\n",
       "  'hammerhead',\n",
       "  'shark',\n",
       "  'everyth',\n",
       "  'need',\n",
       "  'entertain',\n",
       "  'monster',\n",
       "  'movi',\n",
       "  'thing',\n",
       "  'miss',\n",
       "  'graphic',\n",
       "  'sex',\n",
       "  'scene',\n",
       "  'nuditi',\n",
       "  'expect',\n",
       "  'movi',\n",
       "  'kind',\n",
       "  'sinc',\n",
       "  'movi',\n",
       "  'made',\n",
       "  'tv',\n",
       "  'understand',\n",
       "  'scene',\n",
       "  'miss',\n",
       "  'matter',\n",
       "  'anyway',\n",
       "  'caus',\n",
       "  'hammerhead',\n",
       "  'action',\n",
       "  'horror',\n",
       "  'entertain',\n",
       "  'best',\n",
       "  'two',\n",
       "  'reason',\n",
       "  'gave',\n",
       "  'seven',\n",
       "  'ten',\n",
       "  'point',\n",
       "  'though',\n",
       "  'first',\n",
       "  'monster',\n",
       "  'seen',\n",
       "  'often',\n",
       "  'showdown',\n",
       "  'destruct',\n",
       "  'creatur',\n",
       "  'fast',\n",
       "  'poorli',\n",
       "  'done',\n",
       "  'secondli',\n",
       "  'william',\n",
       "  'forsyth',\n",
       "  'right',\n",
       "  'guy',\n",
       "  'hero',\n",
       "  'part',\n",
       "  'fall',\n",
       "  'love',\n",
       "  'gorgeou',\n",
       "  'hunter',\n",
       "  'tylo',\n",
       "  'highli',\n",
       "  'recommend',\n",
       "  'movi',\n",
       "  'monster',\n",
       "  'movi',\n",
       "  'fan',\n",
       "  'grab',\n",
       "  'cool',\n",
       "  'drink',\n",
       "  'popcorn',\n",
       "  'watch',\n",
       "  'movi',\n",
       "  'fun',\n",
       "  'jasper',\n",
       "  'p',\n",
       "  'morgan'],\n",
       " ['sure',\n",
       "  'hk',\n",
       "  'movi',\n",
       "  'review',\n",
       "  'watch',\n",
       "  'enter',\n",
       "  'eagl',\n",
       "  'nowher',\n",
       "  'near',\n",
       "  'top',\n",
       "  'heap',\n",
       "  'hk',\n",
       "  'action',\n",
       "  'michael',\n",
       "  'fitz',\n",
       "  'wong',\n",
       "  'glad',\n",
       "  'get',\n",
       "  'act',\n",
       "  'job',\n",
       "  'hk',\n",
       "  'act',\n",
       "  'way',\n",
       "  'wet',\n",
       "  'paper',\n",
       "  'bag',\n",
       "  'english',\n",
       "  'shannon',\n",
       "  'lee',\n",
       "  'look',\n",
       "  'good',\n",
       "  'fantast',\n",
       "  'fighter',\n",
       "  'even',\n",
       "  'better',\n",
       "  'leg',\n",
       "  'fight',\n",
       "  'dad',\n",
       "  'act',\n",
       "  'skill',\n",
       "  'also',\n",
       "  'sub',\n",
       "  'par',\n",
       "  'fact',\n",
       "  'english',\n",
       "  'dialog',\n",
       "  '90',\n",
       "  'movi',\n",
       "  'even',\n",
       "  'gen',\n",
       "  'cop',\n",
       "  'bad',\n",
       "  'switch',\n",
       "  'mandarin',\n",
       "  'audio',\n",
       "  'spare',\n",
       "  'miseri',\n",
       "  'bad',\n",
       "  'dialog',\n",
       "  'deliveri',\n",
       "  'redund',\n",
       "  'english',\n",
       "  'sub',\n",
       "  'sure',\n",
       "  'decent',\n",
       "  'gunfight',\n",
       "  'noth',\n",
       "  'alreadi',\n",
       "  'seen',\n",
       "  'good',\n",
       "  'cinematographi',\n",
       "  'cheesi',\n",
       "  'visual',\n",
       "  'effect',\n",
       "  'realli',\n",
       "  'spoil',\n",
       "  'action',\n",
       "  'said',\n",
       "  'worth',\n",
       "  'price',\n",
       "  'admiss',\n",
       "  'watch',\n",
       "  'shannon',\n",
       "  'benni',\n",
       "  'jet',\n",
       "  'urquidez',\n",
       "  'go',\n",
       "  'spectacular',\n",
       "  'almost',\n",
       "  'worth',\n",
       "  'watch',\n",
       "  'rest',\n",
       "  'movi',\n",
       "  'final',\n",
       "  'might',\n",
       "  'notic',\n",
       "  'scene',\n",
       "  'seem',\n",
       "  'familiar',\n",
       "  'notabl',\n",
       "  'shootout',\n",
       "  'outdoor',\n",
       "  'market',\n",
       "  'think',\n",
       "  'matrix',\n",
       "  'fitz',\n",
       "  'dive',\n",
       "  'helicopt',\n",
       "  'wear',\n",
       "  'black',\n",
       "  'fatigu',\n",
       "  'think',\n",
       "  'mi',\n",
       "  '2',\n",
       "  'guess',\n",
       "  'someon',\n",
       "  'thought',\n",
       "  'least',\n",
       "  'thing',\n",
       "  'flick',\n",
       "  'worth',\n",
       "  'rip']]"
      ]
     },
     "execution_count": 13,
     "metadata": {},
     "output_type": "execute_result"
    }
   ],
   "source": [
    "train_X[0:2]"
   ]
  },
  {
   "cell_type": "markdown",
   "metadata": {},
   "source": [
    "## Transform the data\n",
    "\n",
    "In the XGBoost notebook we transformed the data from its word representation to a bag-of-words feature representation. For the model we are going to construct in this notebook we will construct a feature representation which is very similar. To start, we will represent each word as an integer. Of course, some of the words that appear in the reviews occur very infrequently and so likely don't contain much information for the purposes of sentiment analysis. The way we will deal with this problem is that we will fix the size of our working vocabulary and we will only include the words that appear most frequently. We will then combine all of the infrequent words into a single category and, in our case, we will label it as `1`.\n",
    "\n",
    "Since we will be using a recurrent neural network, it will be convenient if the length of each review is the same. To do this, we will fix a size for our reviews and then pad short reviews with the category 'no word' (which we will label `0`) and truncate long reviews."
   ]
  },
  {
   "cell_type": "markdown",
   "metadata": {},
   "source": [
    "### (TODO) Create a word dictionary\n",
    "\n",
    "To begin with, we need to construct a way to map words that appear in the reviews to integers. Here we fix the size of our vocabulary (including the 'no word' and 'infrequent' categories) to be `5000` but you may wish to change this to see how it affects the model.\n",
    "\n",
    "> **TODO:** Complete the implementation for the `build_dict()` method below. Note that even though the vocab_size is set to `5000`, we only want to construct a mapping for the most frequently appearing `4998` words. This is because we want to reserve the special labels `0` for 'no word' and `1` for 'infrequent word'."
   ]
  },
  {
   "cell_type": "code",
   "execution_count": 14,
   "metadata": {},
   "outputs": [],
   "source": [
    "import numpy as np\n",
    "\n",
    "import operator\n",
    "from operator import itemgetter,attrgetter\n",
    "\n",
    "def build_dict(data, vocab_size = 5000):\n",
    "    \"\"\"Construct and return a dictionary mapping each of the most frequently appearing words to a unique integer.\"\"\"\n",
    "    \n",
    "    # TODO: Determine how often each word appears in `data`. Note that `data` is a list of sentences and that a\n",
    "    #       sentence is a list of words.\n",
    "\n",
    "    \n",
    "    word_count = {} # A dict storing the words that appear in the reviews along with how often they occur\n",
    "    \n",
    "    for sentence in data:\n",
    "        for word in sentence:\n",
    "            if word_count.get(word)==None:\n",
    "                word_count[word]=1\n",
    "\n",
    "            else:\n",
    "                word_count[word]+=1\n",
    "    \n",
    "    # TODO: Sort the words found in `data` so that sorted_words[0] is the most frequently appearing word and\n",
    "    #       sorted_words[-1] is the least frequently appearing word.\n",
    "    \n",
    "    \n",
    "    sorted_items=sorted(word_count.items(),key=operator.itemgetter(1),reverse=True)\n",
    "    sorted_words=[item[0] for item in sorted_items]\n",
    "   \n",
    "\n",
    "        \n",
    "    \n",
    "    word_dict = {} # This is what we are building, a dictionary that translates words into integers\n",
    "    for idx, word in enumerate(sorted_words[:vocab_size - 2]): # The -2 is so that we save room for the 'no word'\n",
    "        word_dict[word] = idx + 2                              # 'infrequent' labels\n",
    "        \n",
    "    return word_dict"
   ]
  },
  {
   "cell_type": "code",
   "execution_count": 15,
   "metadata": {},
   "outputs": [],
   "source": [
    "word_dict=build_dict(train_X)"
   ]
  },
  {
   "cell_type": "code",
   "execution_count": 16,
   "metadata": {},
   "outputs": [
    {
     "name": "stdout",
     "output_type": "stream",
     "text": [
      "{'movi': 2, 'film': 3, 'one': 4, 'like': 5, 'time': 6, 'good': 7, 'make': 8, 'charact': 9, 'get': 10, 'see': 11, 'watch': 12, 'stori': 13, 'even': 14, 'would': 15, 'realli': 16, 'well': 17, 'scene': 18, 'look': 19, 'show': 20, 'much': 21, 'end': 22, 'peopl': 23, 'bad': 24, 'go': 25, 'great': 26, 'also': 27, 'first': 28, 'love': 29, 'think': 30, 'way': 31, 'act': 32, 'play': 33, 'made': 34, 'thing': 35, 'could': 36, 'know': 37, 'say': 38, 'seem': 39, 'work': 40, 'plot': 41, 'two': 42, 'actor': 43, 'year': 44, 'come': 45, 'mani': 46, 'seen': 47, 'take': 48, 'life': 49, 'want': 50, 'never': 51, 'littl': 52, 'best': 53, 'tri': 54, 'man': 55, 'ever': 56, 'give': 57, 'better': 58, 'still': 59, 'perform': 60, 'find': 61, 'feel': 62, 'part': 63, 'back': 64, 'use': 65, 'someth': 66, 'director': 67, 'actual': 68, 'interest': 69, 'lot': 70, 'real': 71, 'old': 72, 'cast': 73, 'though': 74, 'live': 75, 'star': 76, 'enjoy': 77, 'guy': 78, 'anoth': 79, 'new': 80, 'role': 81, 'noth': 82, '10': 83, 'funni': 84, 'music': 85, 'point': 86, 'start': 87, 'set': 88, 'girl': 89, 'origin': 90, 'day': 91, 'world': 92, 'everi': 93, 'believ': 94, 'turn': 95, 'quit': 96, 'us': 97, 'direct': 98, 'thought': 99, 'fact': 100, 'minut': 101, 'horror': 102, 'kill': 103, 'action': 104, 'comedi': 105, 'pretti': 106, 'young': 107, 'wonder': 108, 'happen': 109, 'around': 110, 'got': 111, 'effect': 112, 'right': 113, 'long': 114, 'howev': 115, 'big': 116, 'line': 117, 'famili': 118, 'enough': 119, 'seri': 120, 'may': 121, 'need': 122, 'fan': 123, 'bit': 124, 'script': 125, 'beauti': 126, 'person': 127, 'becom': 128, 'without': 129, 'must': 130, 'alway': 131, 'friend': 132, 'tell': 133, 'reason': 134, 'saw': 135, 'last': 136, 'final': 137, 'kid': 138, 'almost': 139, 'put': 140, 'least': 141, 'sure': 142, 'done': 143, 'whole': 144, 'place': 145, 'complet': 146, 'kind': 147, 'expect': 148, 'differ': 149, 'shot': 150, 'far': 151, 'mean': 152, 'anyth': 153, 'book': 154, 'laugh': 155, 'might': 156, 'name': 157, 'sinc': 158, 'begin': 159, '2': 160, 'probabl': 161, 'woman': 162, 'help': 163, 'entertain': 164, 'let': 165, 'screen': 166, 'call': 167, 'tv': 168, 'moment': 169, 'away': 170, 'read': 171, 'yet': 172, 'rather': 173, 'worst': 174, 'run': 175, 'fun': 176, 'lead': 177, 'hard': 178, 'audienc': 179, 'idea': 180, 'anyon': 181, 'episod': 182, 'american': 183, 'found': 184, 'appear': 185, 'bore': 186, 'especi': 187, 'although': 188, 'hope': 189, 'cours': 190, 'keep': 191, 'anim': 192, 'job': 193, 'goe': 194, 'move': 195, 'sens': 196, 'dvd': 197, 'version': 198, 'war': 199, 'money': 200, 'someon': 201, 'mind': 202, 'mayb': 203, 'problem': 204, 'true': 205, 'hous': 206, 'everyth': 207, 'nice': 208, 'second': 209, 'rate': 210, 'three': 211, 'night': 212, 'face': 213, 'follow': 214, 'recommend': 215, 'product': 216, 'main': 217, 'worth': 218, 'leav': 219, 'human': 220, 'special': 221, 'excel': 222, 'togeth': 223, 'wast': 224, 'sound': 225, 'everyon': 226, 'john': 227, 'hand': 228, '1': 229, 'father': 230, 'later': 231, 'eye': 232, 'said': 233, 'view': 234, 'instead': 235, 'review': 236, 'boy': 237, 'high': 238, 'hour': 239, 'miss': 240, 'talk': 241, 'classic': 242, 'wife': 243, 'understand': 244, 'left': 245, 'care': 246, 'black': 247, 'death': 248, 'open': 249, 'murder': 250, 'write': 251, 'half': 252, 'head': 253, 'rememb': 254, 'chang': 255, 'viewer': 256, 'fight': 257, 'gener': 258, 'surpris': 259, 'short': 260, 'includ': 261, 'die': 262, 'fall': 263, 'less': 264, 'els': 265, 'entir': 266, 'piec': 267, 'involv': 268, 'pictur': 269, 'simpli': 270, 'top': 271, 'home': 272, 'power': 273, 'total': 274, 'usual': 275, 'budget': 276, 'attempt': 277, 'suppos': 278, 'releas': 279, 'hollywood': 280, 'terribl': 281, 'song': 282, 'men': 283, 'possibl': 284, 'featur': 285, 'portray': 286, 'disappoint': 287, 'poor': 288, '3': 289, 'coupl': 290, 'stupid': 291, 'camera': 292, 'dead': 293, 'wrong': 294, 'produc': 295, 'low': 296, 'video': 297, 'either': 298, 'aw': 299, 'definit': 300, 'except': 301, 'rest': 302, 'given': 303, 'absolut': 304, 'women': 305, 'lack': 306, 'word': 307, 'writer': 308, 'titl': 309, 'talent': 310, 'decid': 311, 'full': 312, 'perfect': 313, 'along': 314, 'style': 315, 'close': 316, 'truli': 317, 'school': 318, 'save': 319, 'emot': 320, 'sex': 321, 'age': 322, 'next': 323, 'bring': 324, 'mr': 325, 'case': 326, 'killer': 327, 'heart': 328, 'comment': 329, 'sort': 330, 'creat': 331, 'perhap': 332, 'came': 333, 'brother': 334, 'sever': 335, 'joke': 336, 'art': 337, 'dialogu': 338, 'game': 339, 'small': 340, 'base': 341, 'flick': 342, 'written': 343, 'sequenc': 344, 'meet': 345, 'earli': 346, 'often': 347, 'other': 348, 'mother': 349, 'develop': 350, 'humor': 351, 'actress': 352, 'consid': 353, 'dark': 354, 'guess': 355, 'amaz': 356, 'unfortun': 357, 'lost': 358, 'light': 359, 'exampl': 360, 'cinema': 361, 'drama': 362, 'white': 363, 'ye': 364, 'experi': 365, 'imagin': 366, 'mention': 367, 'stop': 368, 'natur': 369, 'forc': 370, 'manag': 371, 'felt': 372, 'present': 373, 'cut': 374, 'children': 375, 'fail': 376, 'son': 377, 'support': 378, 'car': 379, 'qualiti': 380, 'ask': 381, 'hit': 382, 'side': 383, 'voic': 384, 'extrem': 385, 'impress': 386, 'wors': 387, 'evil': 388, 'went': 389, 'stand': 390, 'certainli': 391, 'basic': 392, 'oh': 393, 'overal': 394, 'favorit': 395, 'horribl': 396, 'mysteri': 397, 'number': 398, 'type': 399, 'danc': 400, 'wait': 401, 'hero': 402, 'alreadi': 403, '5': 404, 'learn': 405, 'matter': 406, '4': 407, 'michael': 408, 'genr': 409, 'fine': 410, 'despit': 411, 'throughout': 412, 'walk': 413, 'success': 414, 'histori': 415, 'question': 416, 'zombi': 417, 'town': 418, 'realiz': 419, 'relationship': 420, 'past': 421, 'child': 422, 'daughter': 423, 'late': 424, 'b': 425, 'wish': 426, 'hate': 427, 'credit': 428, 'event': 429, 'theme': 430, 'touch': 431, 'citi': 432, 'today': 433, 'sometim': 434, 'behind': 435, 'god': 436, 'twist': 437, 'sit': 438, 'stay': 439, 'annoy': 440, 'deal': 441, 'abl': 442, 'rent': 443, 'pleas': 444, 'edit': 445, 'blood': 446, 'deserv': 447, 'anyway': 448, 'comic': 449, 'appar': 450, 'soon': 451, 'gave': 452, 'etc': 453, 'level': 454, 'slow': 455, 'chanc': 456, 'score': 457, 'bodi': 458, 'brilliant': 459, 'incred': 460, 'figur': 461, 'situat': 462, 'major': 463, 'self': 464, 'stuff': 465, 'decent': 466, 'element': 467, 'dream': 468, 'return': 469, 'obvious': 470, 'order': 471, 'continu': 472, 'pace': 473, 'ridicul': 474, 'happi': 475, 'group': 476, 'highli': 477, 'add': 478, 'thank': 479, 'ladi': 480, 'novel': 481, 'speak': 482, 'pain': 483, 'career': 484, 'shoot': 485, 'strang': 486, 'heard': 487, 'sad': 488, 'polic': 489, 'husband': 490, 'import': 491, 'break': 492, 'took': 493, 'strong': 494, 'cannot': 495, 'predict': 496, 'robert': 497, 'violenc': 498, 'hilari': 499, 'recent': 500, 'countri': 501, 'known': 502, 'particularli': 503, 'pick': 504, 'documentari': 505, 'season': 506, 'critic': 507, 'jame': 508, 'compar': 509, 'obviou': 510, 'alon': 511, 'told': 512, 'state': 513, 'visual': 514, 'rock': 515, 'offer': 516, 'exist': 517, 'theater': 518, 'opinion': 519, 'gore': 520, 'crap': 521, 'hold': 522, 'result': 523, 'room': 524, 'hear': 525, 'realiti': 526, 'clich': 527, 'effort': 528, 'thriller': 529, 'caus': 530, 'explain': 531, 'sequel': 532, 'serious': 533, 'king': 534, 'local': 535, 'ago': 536, 'none': 537, 'hell': 538, 'note': 539, 'allow': 540, 'david': 541, 'sister': 542, 'simpl': 543, 'femal': 544, 'deliv': 545, 'ok': 546, 'class': 547, 'convinc': 548, 'check': 549, 'suspens': 550, 'win': 551, 'buy': 552, 'oscar': 553, 'huge': 554, 'valu': 555, 'sexual': 556, 'cool': 557, 'scari': 558, 'excit': 559, 'similar': 560, 'provid': 561, 'exactli': 562, 'apart': 563, 'avoid': 564, 'shown': 565, 'seriou': 566, 'english': 567, 'whose': 568, 'taken': 569, 'cinematographi': 570, 'shock': 571, 'polit': 572, 'spoiler': 573, 'offic': 574, 'across': 575, 'middl': 576, 'pass': 577, 'street': 578, 'messag': 579, 'somewhat': 580, 'silli': 581, 'charm': 582, 'modern': 583, 'confus': 584, 'filmmak': 585, 'form': 586, 'tale': 587, 'singl': 588, 'jack': 589, 'mostli': 590, 'william': 591, 'carri': 592, 'attent': 593, 'sing': 594, 'subject': 595, 'five': 596, 'richard': 597, 'prove': 598, 'stage': 599, 'team': 600, 'cop': 601, 'unlik': 602, 'georg': 603, 'monster': 604, 'televis': 605, 'earth': 606, 'cover': 607, 'villain': 608, 'pay': 609, 'marri': 610, 'toward': 611, 'build': 612, 'pull': 613, 'parent': 614, 'due': 615, 'respect': 616, 'fill': 617, 'dialog': 618, 'four': 619, 'remind': 620, 'futur': 621, 'weak': 622, 'typic': 623, '7': 624, 'cheap': 625, 'intellig': 626, 'atmospher': 627, 'british': 628, '80': 629, 'clearli': 630, 'paul': 631, 'non': 632, 'dog': 633, 'fast': 634, 'artist': 635, 'knew': 636, '8': 637, 'crime': 638, 'easili': 639, 'escap': 640, 'doubt': 641, 'adult': 642, 'detail': 643, 'date': 644, 'romant': 645, 'member': 646, 'fire': 647, 'gun': 648, 'drive': 649, 'straight': 650, 'beyond': 651, 'fit': 652, 'attack': 653, 'imag': 654, 'upon': 655, 'posit': 656, 'whether': 657, 'fantast': 658, 'peter': 659, 'aspect': 660, 'appreci': 661, 'captur': 662, 'ten': 663, 'plan': 664, 'discov': 665, 'remain': 666, 'near': 667, 'period': 668, 'air': 669, 'realist': 670, 'mark': 671, 'red': 672, 'dull': 673, 'adapt': 674, 'within': 675, 'lose': 676, 'spend': 677, 'materi': 678, 'color': 679, 'chase': 680, 'mari': 681, 'storylin': 682, 'forget': 683, 'bunch': 684, 'clear': 685, 'lee': 686, 'victim': 687, 'nearli': 688, 'box': 689, 'york': 690, 'inspir': 691, 'match': 692, 'finish': 693, 'mess': 694, 'standard': 695, 'easi': 696, 'truth': 697, 'suffer': 698, 'busi': 699, 'bill': 700, 'dramat': 701, 'space': 702, 'western': 703, 'e': 704, 'list': 705, 'battl': 706, 'notic': 707, 'de': 708, 'french': 709, 'ad': 710, '9': 711, 'tom': 712, 'larg': 713, 'among': 714, 'eventu': 715, 'accept': 716, 'train': 717, 'agre': 718, 'soundtrack': 719, 'spirit': 720, 'third': 721, 'teenag': 722, 'adventur': 723, 'soldier': 724, 'sorri': 725, 'suggest': 726, 'famou': 727, 'drug': 728, 'cri': 729, 'babi': 730, 'normal': 731, 'troubl': 732, 'ultim': 733, 'contain': 734, 'certain': 735, 'cultur': 736, 'romanc': 737, 'rare': 738, 'lame': 739, 'somehow': 740, 'mix': 741, 'disney': 742, 'gone': 743, 'cartoon': 744, 'student': 745, 'reveal': 746, 'fear': 747, 'kept': 748, 'suck': 749, 'attract': 750, 'appeal': 751, 'premis': 752, 'greatest': 753, 'secret': 754, 'design': 755, 'shame': 756, 'throw': 757, 'copi': 758, 'scare': 759, 'wit': 760, 'admit': 761, 'america': 762, 'particular': 763, 'relat': 764, 'brought': 765, 'screenplay': 766, 'whatev': 767, 'pure': 768, '70': 769, 'harri': 770, 'averag': 771, 'master': 772, 'describ': 773, 'treat': 774, 'male': 775, '20': 776, 'fantasi': 777, 'issu': 778, 'warn': 779, 'inde': 780, 'forward': 781, 'background': 782, 'project': 783, 'free': 784, 'japanes': 785, 'memor': 786, 'poorli': 787, 'award': 788, 'locat': 789, 'potenti': 790, 'amus': 791, 'struggl': 792, 'magic': 793, 'weird': 794, 'societi': 795, 'okay': 796, 'imdb': 797, 'accent': 798, 'doctor': 799, 'water': 800, 'hot': 801, 'express': 802, 'dr': 803, '30': 804, 'alien': 805, 'odd': 806, 'choic': 807, 'crazi': 808, 'studio': 809, 'fiction': 810, 'becam': 811, 'control': 812, 'masterpiec': 813, 'fli': 814, 'difficult': 815, 'joe': 816, 'scream': 817, 'costum': 818, 'lover': 819, 'uniqu': 820, 'refer': 821, 'remak': 822, 'girlfriend': 823, 'vampir': 824, 'prison': 825, 'execut': 826, 'wear': 827, 'jump': 828, 'wood': 829, 'unless': 830, 'creepi': 831, 'cheesi': 832, 'superb': 833, 'otherwis': 834, 'parti': 835, 'roll': 836, 'ghost': 837, 'mad': 838, 'public': 839, 'depict': 840, 'jane': 841, 'moral': 842, 'week': 843, 'earlier': 844, 'badli': 845, 'fi': 846, 'dumb': 847, 'grow': 848, 'flaw': 849, 'sci': 850, 'deep': 851, 'maker': 852, 'cat': 853, 'connect': 854, 'footag': 855, 'older': 856, 'plenti': 857, 'bother': 858, 'outsid': 859, 'stick': 860, 'gay': 861, 'catch': 862, 'plu': 863, 'co': 864, 'popular': 865, 'equal': 866, 'social': 867, 'disturb': 868, 'quickli': 869, 'perfectli': 870, 'dress': 871, '90': 872, 'era': 873, 'mistak': 874, 'lie': 875, 'ride': 876, 'previou': 877, 'combin': 878, 'concept': 879, 'band': 880, 'surviv': 881, 'answer': 882, 'rich': 883, 'front': 884, 'sweet': 885, 'christma': 886, 'insid': 887, 'eat': 888, 'concern': 889, 'bare': 890, 'listen': 891, 'beat': 892, 'ben': 893, 'c': 894, 'serv': 895, 'term': 896, 'german': 897, 'meant': 898, 'la': 899, 'hardli': 900, 'stereotyp': 901, 'law': 902, 'innoc': 903, 'desper': 904, 'promis': 905, 'memori': 906, 'cute': 907, 'intent': 908, 'inform': 909, 'variou': 910, 'steal': 911, 'brain': 912, 'post': 913, 'tone': 914, 'island': 915, 'amount': 916, 'nuditi': 917, 'track': 918, 'compani': 919, 'store': 920, 'claim': 921, 'flat': 922, 'hair': 923, '50': 924, 'land': 925, 'univers': 926, 'danger': 927, 'fairli': 928, 'scott': 929, 'kick': 930, 'player': 931, 'step': 932, 'plain': 933, 'crew': 934, 'toni': 935, 'share': 936, 'centuri': 937, 'tast': 938, 'achiev': 939, 'engag': 940, 'cold': 941, 'travel': 942, 'rip': 943, 'record': 944, 'suit': 945, 'sadli': 946, 'manner': 947, 'tension': 948, 'wrote': 949, 'spot': 950, 'fascin': 951, 'intens': 952, 'familiar': 953, 'remark': 954, 'depth': 955, 'burn': 956, 'histor': 957, 'destroy': 958, 'sleep': 959, 'purpos': 960, 'languag': 961, 'ruin': 962, 'ignor': 963, 'delight': 964, 'unbeliev': 965, 'italian': 966, 'soul': 967, 'abil': 968, 'collect': 969, 'detect': 970, 'clever': 971, 'violent': 972, 'rape': 973, 'reach': 974, 'door': 975, 'scienc': 976, 'liter': 977, 'trash': 978, 'caught': 979, 'commun': 980, 'reveng': 981, 'creatur': 982, 'trip': 983, 'approach': 984, 'intrigu': 985, 'fashion': 986, 'skill': 987, 'introduc': 988, 'paint': 989, 'complex': 990, 'channel': 991, 'camp': 992, 'christian': 993, 'extra': 994, 'hole': 995, 'mental': 996, 'immedi': 997, 'ann': 998, 'limit': 999, '6': 1000, 'million': 1001, 'mere': 1002, 'comput': 1003, 'slightli': 1004, 'slasher': 1005, 'conclus': 1006, 'suddenli': 1007, 'imposs': 1008, 'neither': 1009, 'teen': 1010, 'crimin': 1011, 'spent': 1012, 'nation': 1013, 'physic': 1014, 'respons': 1015, 'planet': 1016, 'receiv': 1017, 'fake': 1018, 'sick': 1019, 'blue': 1020, 'bizarr': 1021, 'embarrass': 1022, 'indian': 1023, '15': 1024, 'ring': 1025, 'drop': 1026, 'pop': 1027, 'drag': 1028, 'haunt': 1029, 'suspect': 1030, 'pointless': 1031, 'search': 1032, 'edg': 1033, 'handl': 1034, 'biggest': 1035, 'common': 1036, 'hurt': 1037, 'faith': 1038, 'arriv': 1039, 'technic': 1040, 'angel': 1041, 'dad': 1042, 'genuin': 1043, 'solid': 1044, 'awesom': 1045, 'f': 1046, 'van': 1047, 'former': 1048, 'focu': 1049, 'colleg': 1050, 'count': 1051, 'heavi': 1052, 'tear': 1053, 'rais': 1054, 'wall': 1055, 'laughabl': 1056, 'younger': 1057, 'visit': 1058, 'sign': 1059, 'fair': 1060, 'excus': 1061, 'cult': 1062, 'key': 1063, 'tough': 1064, 'motion': 1065, 'desir': 1066, 'super': 1067, 'stun': 1068, 'addit': 1069, 'exploit': 1070, 'cloth': 1071, 'tortur': 1072, 'smith': 1073, 'race': 1074, 'davi': 1075, 'author': 1076, 'cross': 1077, 'jim': 1078, 'compel': 1079, 'consist': 1080, 'minor': 1081, 'focus': 1082, 'pathet': 1083, 'commit': 1084, 'chemistri': 1085, 'park': 1086, 'frank': 1087, 'obsess': 1088, 'tradit': 1089, 'grade': 1090, '60': 1091, 'asid': 1092, 'brutal': 1093, 'somewher': 1094, 'steve': 1095, 'explor': 1096, 'opportun': 1097, 'rule': 1098, 'depress': 1099, 'u': 1100, 'grant': 1101, 'honest': 1102, 'besid': 1103, 'dub': 1104, 'anti': 1105, 'intend': 1106, 'trailer': 1107, 'bar': 1108, 'scientist': 1109, 'regard': 1110, 'longer': 1111, 'west': 1112, 'judg': 1113, 'decad': 1114, 'silent': 1115, 'armi': 1116, 'creativ': 1117, 'wild': 1118, 'south': 1119, 'g': 1120, 'stewart': 1121, 'draw': 1122, 'road': 1123, 'govern': 1124, 'ex': 1125, 'boss': 1126, 'practic': 1127, 'motiv': 1128, 'club': 1129, 'gang': 1130, 'festiv': 1131, 'surprisingli': 1132, 'page': 1133, 'green': 1134, 'london': 1135, 'redeem': 1136, 'idiot': 1137, 'aliv': 1138, 'militari': 1139, 'machin': 1140, 'display': 1141, 'thrill': 1142, 'repeat': 1143, 'folk': 1144, 'nobodi': 1145, 'yeah': 1146, '100': 1147, '40': 1148, 'garbag': 1149, 'journey': 1150, 'ground': 1151, 'smile': 1152, 'tire': 1153, 'mood': 1154, 'bought': 1155, 'sam': 1156, 'stone': 1157, 'cost': 1158, 'mouth': 1159, 'noir': 1160, 'agent': 1161, 'terrif': 1162, 'requir': 1163, 'utterli': 1164, 'area': 1165, 'sexi': 1166, 'honestli': 1167, 'geniu': 1168, 'report': 1169, 'enter': 1170, 'glad': 1171, 'investig': 1172, 'humour': 1173, 'serial': 1174, 'occasion': 1175, 'passion': 1176, 'narr': 1177, 'climax': 1178, 'marriag': 1179, 'studi': 1180, 'industri': 1181, 'nowher': 1182, 'center': 1183, 'ship': 1184, 'demon': 1185, 'charli': 1186, 'hors': 1187, 'loos': 1188, 'bear': 1189, 'hang': 1190, 'wow': 1191, 'graphic': 1192, 'admir': 1193, 'giant': 1194, 'send': 1195, 'loud': 1196, 'damn': 1197, 'rel': 1198, 'profession': 1199, 'nake': 1200, 'subtl': 1201, 'blow': 1202, 'bottom': 1203, 'insult': 1204, 'batman': 1205, 'doubl': 1206, 'kelli': 1207, 'boyfriend': 1208, 'r': 1209, 'initi': 1210, 'frame': 1211, 'opera': 1212, 'gem': 1213, 'cinemat': 1214, 'drawn': 1215, 'affect': 1216, 'church': 1217, 'challeng': 1218, 'evid': 1219, 'j': 1220, 'l': 1221, 'seek': 1222, 'fulli': 1223, 'nightmar': 1224, 'arm': 1225, 'conflict': 1226, 'essenti': 1227, 'grace': 1228, 'christoph': 1229, 'wind': 1230, 'henri': 1231, 'assum': 1232, 'witch': 1233, 'narrat': 1234, 'push': 1235, 'hunt': 1236, 'wise': 1237, 'chri': 1238, 'month': 1239, 'nomin': 1240, 'repres': 1241, 'hide': 1242, 'sceneri': 1243, 'affair': 1244, 'avail': 1245, 'justic': 1246, 'bond': 1247, 'thu': 1248, 'smart': 1249, 'flashback': 1250, 'outstand': 1251, 'interview': 1252, 'satisfi': 1253, 'constantli': 1254, 'presenc': 1255, 'central': 1256, 'bed': 1257, 'content': 1258, 'sell': 1259, 'iron': 1260, 'gag': 1261, 'everybodi': 1262, 'hotel': 1263, 'slowli': 1264, 'hire': 1265, 'system': 1266, 'hey': 1267, 'thrown': 1268, 'individu': 1269, 'charl': 1270, 'adam': 1271, 'allen': 1272, 'mediocr': 1273, 'jone': 1274, 'lesson': 1275, 'billi': 1276, 'ray': 1277, 'photographi': 1278, 'cameo': 1279, 'fellow': 1280, 'pari': 1281, 'strike': 1282, 'rise': 1283, 'brief': 1284, 'independ': 1285, 'absurd': 1286, 'neg': 1287, 'impact': 1288, 'phone': 1289, 'model': 1290, 'born': 1291, 'ill': 1292, 'spoil': 1293, 'fresh': 1294, 'angl': 1295, 'likabl': 1296, 'abus': 1297, 'hill': 1298, 'discuss': 1299, 'ahead': 1300, 'sight': 1301, 'sent': 1302, 'photograph': 1303, 'blame': 1304, 'logic': 1305, 'occur': 1306, 'shine': 1307, 'bruce': 1308, 'mainli': 1309, 'skip': 1310, 'commerci': 1311, 'forev': 1312, 'teacher': 1313, 'surround': 1314, 'segment': 1315, 'held': 1316, 'blond': 1317, 'zero': 1318, 'summer': 1319, 'resembl': 1320, 'trap': 1321, 'satir': 1322, 'six': 1323, 'queen': 1324, 'ball': 1325, 'fool': 1326, 'sub': 1327, 'tragedi': 1328, 'twice': 1329, 'reaction': 1330, 'pack': 1331, 'bomb': 1332, 'protagonist': 1333, 'will': 1334, 'hospit': 1335, 'sport': 1336, 'mile': 1337, 'drink': 1338, 'jerri': 1339, 'vote': 1340, 'mom': 1341, 'trust': 1342, 'encount': 1343, 'plane': 1344, 'al': 1345, 'station': 1346, 'program': 1347, 'current': 1348, 'celebr': 1349, 'martin': 1350, 'choos': 1351, 'join': 1352, 'field': 1353, 'lord': 1354, 'favourit': 1355, 'tragic': 1356, 'round': 1357, 'robot': 1358, 'vision': 1359, 'jean': 1360, 'tie': 1361, 'arthur': 1362, 'roger': 1363, 'random': 1364, 'fortun': 1365, 'dread': 1366, 'intern': 1367, 'psycholog': 1368, 'improv': 1369, 'prefer': 1370, 'nonsens': 1371, 'epic': 1372, 'pleasur': 1373, 'legend': 1374, 'formula': 1375, 'highlight': 1376, '11': 1377, 'tape': 1378, 'dollar': 1379, 'gorgeou': 1380, 'wide': 1381, 'porn': 1382, 'fox': 1383, 'thin': 1384, 'object': 1385, 'buddi': 1386, 'ugli': 1387, 'influenc': 1388, 'ii': 1389, 'nasti': 1390, 'prepar': 1391, 'warm': 1392, 'reflect': 1393, 'supposedli': 1394, 'progress': 1395, 'youth': 1396, 'worthi': 1397, 'latter': 1398, 'length': 1399, 'unusu': 1400, 'crash': 1401, 'seven': 1402, 'childhood': 1403, 'superior': 1404, 'shop': 1405, 'remot': 1406, 'theatr': 1407, 'paid': 1408, 'pilot': 1409, 'funniest': 1410, 'disgust': 1411, 'convers': 1412, 'trick': 1413, 'fell': 1414, 'castl': 1415, 'gangster': 1416, 'rob': 1417, 'establish': 1418, 'disast': 1419, 'mine': 1420, 'disappear': 1421, 'heaven': 1422, 'suicid': 1423, 'ident': 1424, 'singer': 1425, 'forgotten': 1426, 'mask': 1427, 'tend': 1428, 'decis': 1429, 'heroin': 1430, 'brian': 1431, 'partner': 1432, 'recogn': 1433, 'desert': 1434, 'alan': 1435, 'p': 1436, 'ms': 1437, 'stuck': 1438, 'thoroughli': 1439, 'sky': 1440, 'replac': 1441, 'accur': 1442, 'market': 1443, 'danni': 1444, 'clue': 1445, 'seemingli': 1446, 'uncl': 1447, 'commentari': 1448, 'eddi': 1449, 'andi': 1450, 'devil': 1451, 'jackson': 1452, 'therefor': 1453, 'refus': 1454, 'pair': 1455, 'that': 1456, 'river': 1457, 'fault': 1458, 'fate': 1459, 'unit': 1460, 'accid': 1461, 'ed': 1462, 'afraid': 1463, 'tune': 1464, 'hidden': 1465, 'clean': 1466, 'russian': 1467, 'stephen': 1468, 'quick': 1469, 'instanc': 1470, 'readi': 1471, 'test': 1472, 'convey': 1473, 'captain': 1474, 'irrit': 1475, 'european': 1476, 'frustrat': 1477, 'daniel': 1478, 'insan': 1479, '1950': 1480, 'wed': 1481, 'food': 1482, 'chines': 1483, 'rescu': 1484, 'angri': 1485, 'dirti': 1486, 'lock': 1487, 'joy': 1488, 'price': 1489, 'steven': 1490, 'bland': 1491, 'cage': 1492, 'rang': 1493, 'anymor': 1494, 'wooden': 1495, 'rush': 1496, 'n': 1497, 'news': 1498, 'jason': 1499, 'board': 1500, 'worri': 1501, '12': 1502, 'twenti': 1503, 'martial': 1504, 'led': 1505, 'hunter': 1506, 'cgi': 1507, 'symbol': 1508, 'transform': 1509, 'onto': 1510, 'invent': 1511, 'x': 1512, 'sentiment': 1513, 'johnni': 1514, 'piti': 1515, 'attitud': 1516, 'process': 1517, 'explan': 1518, 'owner': 1519, 'awar': 1520, 'aim': 1521, 'necessari': 1522, 'floor': 1523, 'favor': 1524, 'energi': 1525, 'target': 1526, 'opposit': 1527, 'religi': 1528, 'blind': 1529, 'window': 1530, 'insight': 1531, 'chick': 1532, 'movement': 1533, 'mountain': 1534, 'comparison': 1535, 'deepli': 1536, 'possess': 1537, 'research': 1538, 'whatsoev': 1539, 'rain': 1540, 'grand': 1541, 'comed': 1542, 'mid': 1543, 'began': 1544, 'bank': 1545, 'shadow': 1546, 'princ': 1547, 'parodi': 1548, 'friendship': 1549, 'taylor': 1550, 'credibl': 1551, 'pre': 1552, 'weapon': 1553, 'flesh': 1554, 'dougla': 1555, 'teach': 1556, 'hint': 1557, 'protect': 1558, 'terror': 1559, 'bloodi': 1560, 'marvel': 1561, 'load': 1562, 'accord': 1563, 'anybodi': 1564, 'leader': 1565, 'watchabl': 1566, 'drunk': 1567, 'superman': 1568, 'brown': 1569, 'freddi': 1570, 'appropri': 1571, 'hitler': 1572, 'jeff': 1573, 'tim': 1574, 'seat': 1575, 'charg': 1576, 'villag': 1577, 'keaton': 1578, 'knock': 1579, 'unknown': 1580, 'unnecessari': 1581, 'media': 1582, 'enemi': 1583, 'england': 1584, 'empti': 1585, 'craft': 1586, 'dare': 1587, 'strength': 1588, 'wave': 1589, 'buck': 1590, 'utter': 1591, 'perspect': 1592, 'ford': 1593, 'kiss': 1594, 'contrast': 1595, 'nativ': 1596, 'correct': 1597, 'anywher': 1598, 'distract': 1599, 'magnific': 1600, 'speed': 1601, 'soap': 1602, 'knowledg': 1603, 'chill': 1604, 'nazi': 1605, 'breath': 1606, 'ice': 1607, '1980': 1608, 'fred': 1609, 'mission': 1610, 'crowd': 1611, 'jr': 1612, 'joan': 1613, 'moon': 1614, 'frighten': 1615, '000': 1616, 'soft': 1617, 'kate': 1618, 'dick': 1619, 'hundr': 1620, 'nick': 1621, 'dan': 1622, 'radio': 1623, 'simon': 1624, 'dozen': 1625, 'somebodi': 1626, 'shakespear': 1627, 'academi': 1628, 'andrew': 1629, 'loss': 1630, 'thousand': 1631, 'sum': 1632, 'root': 1633, 'vehicl': 1634, 'account': 1635, 'quot': 1636, 'leg': 1637, 'convent': 1638, '1970': 1639, 'behavior': 1640, 'regular': 1641, 'gold': 1642, 'demand': 1643, 'compet': 1644, 'pretenti': 1645, 'worker': 1646, 'notabl': 1647, 'interpret': 1648, 'stretch': 1649, 'explos': 1650, 'japan': 1651, 'candi': 1652, 'privat': 1653, 'lynch': 1654, 'debut': 1655, 'tarzan': 1656, 'constant': 1657, 'sea': 1658, 'revolv': 1659, 'prais': 1660, 'spi': 1661, 'translat': 1662, 'jesu': 1663, 'quiet': 1664, 'threaten': 1665, 'failur': 1666, 'ass': 1667, 'franc': 1668, 'technolog': 1669, 'sat': 1670, 'toy': 1671, 'met': 1672, 'aid': 1673, 'higher': 1674, 'kevin': 1675, 'punch': 1676, 'mike': 1677, 'interact': 1678, 'vh': 1679, 'abandon': 1680, 'separ': 1681, 'bet': 1682, 'command': 1683, 'confront': 1684, 'stunt': 1685, 'gotten': 1686, 'site': 1687, 'servic': 1688, 'belong': 1689, 'recal': 1690, 'techniqu': 1691, 'freak': 1692, 'cabl': 1693, 'foot': 1694, 'bug': 1695, 'capabl': 1696, 'bright': 1697, 'jimmi': 1698, 'african': 1699, 'fu': 1700, 'presid': 1701, 'fat': 1702, 'clark': 1703, 'stock': 1704, 'boat': 1705, 'succeed': 1706, 'spanish': 1707, 'gene': 1708, 'structur': 1709, 'paper': 1710, 'kidnap': 1711, 'factor': 1712, 'whilst': 1713, 'belief': 1714, 'attend': 1715, 'realis': 1716, 'complic': 1717, 'realism': 1718, 'bob': 1719, 'tree': 1720, 'witti': 1721, 'educ': 1722, 'assist': 1723, 'broken': 1724, 'finest': 1725, 'santa': 1726, 'depart': 1727, 'smoke': 1728, 'up': 1729, 'determin': 1730, 'observ': 1731, 'v': 1732, 'domin': 1733, 'rubbish': 1734, 'fame': 1735, 'routin': 1736, 'oper': 1737, 'lewi': 1738, 'hat': 1739, 'morgan': 1740, 'foreign': 1741, 'safe': 1742, 'lone': 1743, 'hook': 1744, 'kinda': 1745, 'advanc': 1746, 'numer': 1747, 'rank': 1748, 'shallow': 1749, 'shape': 1750, 'rose': 1751, 'civil': 1752, 'vs': 1753, 'werewolf': 1754, 'washington': 1755, 'gari': 1756, 'morn': 1757, 'ordinari': 1758, 'winner': 1759, 'accomplish': 1760, 'kong': 1761, 'grab': 1762, 'peac': 1763, 'whenev': 1764, 'virtual': 1765, 'luck': 1766, 'h': 1767, 'offens': 1768, 'patient': 1769, 'complain': 1770, 'unfunni': 1771, 'activ': 1772, 'bigger': 1773, 'welcom': 1774, 'contriv': 1775, 'con': 1776, 'pretend': 1777, 'dimension': 1778, 'trek': 1779, 'cain': 1780, 'wake': 1781, 'flash': 1782, 'dri': 1783, 'eric': 1784, 'code': 1785, 'lesbian': 1786, 'dancer': 1787, 'statu': 1788, 'guard': 1789, 'albert': 1790, 'manipul': 1791, 'corrupt': 1792, 'signific': 1793, 'gain': 1794, 'awkward': 1795, 'sourc': 1796, 'speech': 1797, 'context': 1798, 'clip': 1799, 'sean': 1800, 'anthoni': 1801, 'corni': 1802, '13': 1803, 'psycho': 1804, 'w': 1805, 'reli': 1806, 'theatric': 1807, 'advic': 1808, 'priest': 1809, 'curiou': 1810, 'religion': 1811, 'addict': 1812, 'flow': 1813, 'secur': 1814, 'jennif': 1815, 'howard': 1816, 'skin': 1817, 'specif': 1818, 'asian': 1819, 'promot': 1820, 'organ': 1821, 'luke': 1822, 'core': 1823, 'comfort': 1824, 'golden': 1825, 'cash': 1826, 'cheat': 1827, 'lucki': 1828, 'associ': 1829, 'lower': 1830, 'dislik': 1831, 'devic': 1832, 'degre': 1833, 'wing': 1834, 'contribut': 1835, 'regret': 1836, 'frequent': 1837, 'balanc': 1838, 'frankli': 1839, 'spell': 1840, 'print': 1841, 'forgiv': 1842, 'sake': 1843, 'lake': 1844, 'thoma': 1845, 'mass': 1846, 'betti': 1847, 'unexpect': 1848, 'gordon': 1849, 'crack': 1850, 'grown': 1851, 'invit': 1852, 'unfold': 1853, 'depend': 1854, 'amateur': 1855, 'categori': 1856, 'construct': 1857, 'honor': 1858, 'condit': 1859, 'intellectu': 1860, 'walter': 1861, 'anna': 1862, 'matur': 1863, 'grew': 1864, 'spectacular': 1865, 'sudden': 1866, 'mirror': 1867, 'veteran': 1868, 'sole': 1869, 'experienc': 1870, 'demonstr': 1871, 'gift': 1872, 'liner': 1873, 'robin': 1874, 'card': 1875, 'meanwhil': 1876, 'freedom': 1877, 'grip': 1878, 'overli': 1879, 'crappi': 1880, 'brilliantli': 1881, 'circumst': 1882, 'section': 1883, 'theori': 1884, 'colour': 1885, 'unabl': 1886, 'sheriff': 1887, 'drew': 1888, 'subtitl': 1889, 'oliv': 1890, 'altern': 1891, 'path': 1892, 'sheer': 1893, 'laughter': 1894, 'cook': 1895, 'pile': 1896, 'matt': 1897, 'parker': 1898, 'hall': 1899, 'sinatra': 1900, 'defin': 1901, 'wander': 1902, 'accident': 1903, 'treatment': 1904, 'relief': 1905, 'lawyer': 1906, 'captiv': 1907, 'dragon': 1908, 'hank': 1909, 'gratuit': 1910, 'halloween': 1911, 'moor': 1912, 'barbara': 1913, 'wayn': 1914, 'unintent': 1915, 'k': 1916, 'wound': 1917, 'kung': 1918, 'broadway': 1919, 'cowboy': 1920, 'jacki': 1921, 'canadian': 1922, 'statement': 1923, 'winter': 1924, 'surreal': 1925, 'spoof': 1926, 'gonna': 1927, 'cheer': 1928, 'fare': 1929, 'treasur': 1930, 'compos': 1931, 'fish': 1932, 'woodi': 1933, 'sensit': 1934, 'emerg': 1935, 'victor': 1936, 'unrealist': 1937, 'neighbor': 1938, 'driven': 1939, 'sympathet': 1940, 'ran': 1941, 'menac': 1942, 'authent': 1943, 'topic': 1944, 'overlook': 1945, 'glass': 1946, 'expos': 1947, 'gross': 1948, 'ancient': 1949, 'handsom': 1950, 'chief': 1951, 'michel': 1952, 'contemporari': 1953, 'built': 1954, 'network': 1955, 'pleasant': 1956, 'comedian': 1957, 'russel': 1958, 'feet': 1959, 'nevertheless': 1960, 'stranger': 1961, 'cinderella': 1962, 'endless': 1963, 'earn': 1964, 'consider': 1965, 'blockbust': 1966, 'gori': 1967, 'underr': 1968, 'letter': 1969, 'miser': 1970, 'switch': 1971, 'brook': 1972, 'solv': 1973, 'bullet': 1974, 'convict': 1975, 'victoria': 1976, 'edward': 1977, 'joseph': 1978, 'virgin': 1979, 'cynic': 1980, 'alex': 1981, '0': 1982, 'scale': 1983, 'chosen': 1984, 'scenario': 1985, 'curs': 1986, 'com': 1987, 'gut': 1988, 'sword': 1989, 'outrag': 1990, 'uk': 1991, 'substanc': 1992, 'monkey': 1993, 'driver': 1994, 'proper': 1995, 'wrap': 1996, 'juli': 1997, 'screenwrit': 1998, 'par': 1999, 'indic': 2000, 'remov': 2001, 'bird': 2002, 'court': 2003, 'nanci': 2004, 'inevit': 2005, 'rental': 2006, 'loser': 2007, 'consequ': 2008, 'advertis': 2009, 'naiv': 2010, 'grave': 2011, 'roy': 2012, 'germani': 2013, 'fatal': 2014, 'bridg': 2015, 'invis': 2016, 'le': 2017, 'brave': 2018, 'slap': 2019, 'footbal': 2020, 'anger': 2021, 'provok': 2022, 'loui': 2023, 'ador': 2024, 'alcohol': 2025, 'anderson': 2026, 'chan': 2027, 'stumbl': 2028, 'ryan': 2029, 'professor': 2030, 'willi': 2031, 'patrick': 2032, 'assassin': 2033, 'australian': 2034, '1930': 2035, 'sharp': 2036, 'bat': 2037, 'amateurish': 2038, 'strongli': 2039, 'heck': 2040, 'saturday': 2041, 'deni': 2042, 'cell': 2043, 'liber': 2044, 'eight': 2045, 'ape': 2046, 'trilog': 2047, 'lousi': 2048, 'refresh': 2049, 'sin': 2050, 'resid': 2051, 'vagu': 2052, 'san': 2053, 'justifi': 2054, 'indi': 2055, 'reput': 2056, 'sympathi': 2057, 'creator': 2058, 'defeat': 2059, 'mini': 2060, 'terrifi': 2061, 'prevent': 2062, 'tediou': 2063, 'tabl': 2064, 'expert': 2065, 'endur': 2066, 'task': 2067, 'rival': 2068, 'trial': 2069, 'imit': 2070, 'offend': 2071, 'che': 2072, 'employ': 2073, 'basebal': 2074, 'fairi': 2075, 'complaint': 2076, 'max': 2077, 'beach': 2078, 'europ': 2079, 'dig': 2080, 'pitch': 2081, 'weekend': 2082, 'purchas': 2083, 'format': 2084, 'murphi': 2085, 'risk': 2086, 'glimps': 2087, 'reminisc': 2088, 'tini': 2089, 'nois': 2090, 'bite': 2091, 'harsh': 2092, 'titan': 2093, 'hype': 2094, 'powel': 2095, 'till': 2096, 'asleep': 2097, '14': 2098, 'prime': 2099, 'north': 2100, 'fals': 2101, 'strip': 2102, 'destruct': 2103, 'africa': 2104, 'descript': 2105, 'revel': 2106, 'texa': 2107, 'uninterest': 2108, 'sitcom': 2109, 'spin': 2110, 'excess': 2111, 'arrest': 2112, 'inner': 2113, 'semi': 2114, 'surfac': 2115, 'massiv': 2116, 'controversi': 2117, 'maintain': 2118, 'twin': 2119, 'makeup': 2120, 'argu': 2121, 'dinosaur': 2122, 'hitchcock': 2123, 'reject': 2124, 'ludicr': 2125, 'stare': 2126, 'expens': 2127, 'kim': 2128, 'insist': 2129, 'ideal': 2130, 'melodrama': 2131, 'subplot': 2132, 'atroci': 2133, 'press': 2134, 'ga': 2135, 'forest': 2136, 'nail': 2137, 'columbo': 2138, 'host': 2139, 'erot': 2140, 'ala': 2141, 'supernatur': 2142, 'dude': 2143, 'presum': 2144, 'cant': 2145, 'notch': 2146, 'identifi': 2147, 'crude': 2148, 'character': 2149, 'plagu': 2150, 'guest': 2151, 'closer': 2152, 'forgett': 2153, 'method': 2154, 'princess': 2155, 'foster': 2156, 'landscap': 2157, 'ear': 2158, 'border': 2159, 'lion': 2160, 'beast': 2161, 'storytel': 2162, 'jungl': 2163, 'aunt': 2164, 'accus': 2165, 'birth': 2166, 'previous': 2167, 'damag': 2168, 'pacino': 2169, 'bound': 2170, 'urban': 2171, 'emma': 2172, 'propaganda': 2173, 'guid': 2174, 'nude': 2175, 'jess': 2176, 'doll': 2177, 'chose': 2178, 'thirti': 2179, '25': 2180, 'mate': 2181, 'pet': 2182, 'mainstream': 2183, 'warrior': 2184, 'whoever': 2185, 'size': 2186, 'exact': 2187, 'upset': 2188, 'gritti': 2189, 'merit': 2190, 'latest': 2191, 'friday': 2192, 'cooper': 2193, 'deadli': 2194, 'poster': 2195, 'blend': 2196, 'buff': 2197, 'settl': 2198, 'contact': 2199, 'ton': 2200, 'popul': 2201, 'contest': 2202, '1990': 2203, 'rough': 2204, 'wilson': 2205, 'citizen': 2206, 'sun': 2207, 'corps': 2208, 'warner': 2209, 'widow': 2210, 'alic': 2211, 'rat': 2212, 'mgm': 2213, 'metal': 2214, 'bu': 2215, 'pitt': 2216, 'select': 2217, 'environ': 2218, 'overcom': 2219, 'ted': 2220, 'lift': 2221, 'particip': 2222, 'guilti': 2223, 'link': 2224, 'revolut': 2225, 'matrix': 2226, '1960': 2227, 'accompani': 2228, 'afternoon': 2229, 'corpor': 2230, 'moron': 2231, 'exagger': 2232, 'prostitut': 2233, 'johnson': 2234, 'corner': 2235, 'sincer': 2236, 'hood': 2237, 'clair': 2238, 'instal': 2239, 'multipl': 2240, 'friendli': 2241, 'doom': 2242, 'leagu': 2243, 'holm': 2244, 'lugosi': 2245, 'defend': 2246, 'string': 2247, 'examin': 2248, 'sunday': 2249, 'campi': 2250, 'advis': 2251, 'hip': 2252, 'aka': 2253, 'grim': 2254, 'irish': 2255, 'junk': 2256, 'blah': 2257, 'pro': 2258, 'confid': 2259, 'shake': 2260, 'shut': 2261, 'rachel': 2262, 'icon': 2263, 'tight': 2264, 'varieti': 2265, 'attach': 2266, 'medic': 2267, 'goal': 2268, 'denni': 2269, 'mexican': 2270, 'jaw': 2271, 'directli': 2272, 'sullivan': 2273, 'courag': 2274, 'vietnam': 2275, 'prior': 2276, 'dean': 2277, 'sentenc': 2278, 'breast': 2279, 'terrorist': 2280, 'truck': 2281, 'duke': 2282, 'sarah': 2283, 'bourn': 2284, 'legendari': 2285, 'proceed': 2286, 'split': 2287, 'nose': 2288, 'behav': 2289, 'donald': 2290, 'un': 2291, 'hong': 2292, 'yell': 2293, 'entri': 2294, 'unconvinc': 2295, 'borrow': 2296, 'lifetim': 2297, 'crush': 2298, 'stolen': 2299, 'buri': 2300, 'confess': 2301, 'gather': 2302, 'forth': 2303, 'swim': 2304, 'jerk': 2305, 'concentr': 2306, 'everywher': 2307, 'deliveri': 2308, 'turkey': 2309, 'spite': 2310, 'california': 2311, 'pan': 2312, 'julia': 2313, 'lip': 2314, 'offici': 2315, 'proud': 2316, 'flight': 2317, 'reward': 2318, 'quest': 2319, 'freeman': 2320, 'hoffman': 2321, 'china': 2322, 'downright': 2323, 'worthwhil': 2324, 'fabul': 2325, 'fade': 2326, 'lazi': 2327, 'notori': 2328, 'betray': 2329, 'encourag': 2330, 'sink': 2331, 'jon': 2332, 'jail': 2333, 'inept': 2334, 'sir': 2335, 'bag': 2336, 'branagh': 2337, 'storm': 2338, 'cousin': 2339, 'shower': 2340, 'relev': 2341, 'lisa': 2342, 'survivor': 2343, 'imageri': 2344, 'bell': 2345, 'retard': 2346, 'susan': 2347, 'teeth': 2348, 'shark': 2349, 'bride': 2350, 'toler': 2351, 'trade': 2352, 'summari': 2353, 'facial': 2354, 'tremend': 2355, 'stab': 2356, 'mexico': 2357, 'finger': 2358, 'quirki': 2359, 'hugh': 2360, 'alright': 2361, 'bitter': 2362, 'ha': 2363, 'pose': 2364, 'blown': 2365, 'hyster': 2366, 'von': 2367, 'cruel': 2368, 'bone': 2369, 'scheme': 2370, 'ron': 2371, 'address': 2372, 'afterward': 2373, 'larri': 2374, 'ned': 2375, 'christ': 2376, 'beg': 2377, 'swear': 2378, 'pursu': 2379, 'tour': 2380, 'thumb': 2381, 'distinct': 2382, 'feed': 2383, 'screw': 2384, 'snake': 2385, 'traci': 2386, 'mechan': 2387, 'chair': 2388, 'raw': 2389, 'obscur': 2390, 'photo': 2391, 'occas': 2392, 'stomach': 2393, 'render': 2394, 'holiday': 2395, 'argument': 2396, 'chain': 2397, 'cabin': 2398, 'sidney': 2399, 'southern': 2400, 'gruesom': 2401, 'hardi': 2402, 'heavili': 2403, 'resist': 2404, 'necessarili': 2405, 'understood': 2406, 'india': 2407, 'racist': 2408, 'indulg': 2409, 'philip': 2410, 'satan': 2411, 'tongu': 2412, 'belov': 2413, 'stalk': 2414, 'integr': 2415, 'outfit': 2416, 'obnoxi': 2417, 'midnight': 2418, 'pregnant': 2419, 'forgot': 2420, 'fourth': 2421, 'lay': 2422, 'magazin': 2423, 'slapstick': 2424, 'ticket': 2425, 'restor': 2426, 'carol': 2427, 'garden': 2428, '17': 2429, 'inhabit': 2430, 'deeper': 2431, 'shoe': 2432, 'brad': 2433, 'devot': 2434, 'incid': 2435, 'lincoln': 2436, 'disbelief': 2437, 'divorc': 2438, 'underground': 2439, 'elizabeth': 2440, 'guarante': 2441, 'anticip': 2442, 'maria': 2443, 'benefit': 2444, 'sandler': 2445, 'lili': 2446, 'princip': 2447, 'greater': 2448, 'cring': 2449, 'creation': 2450, 'explod': 2451, 'bbc': 2452, 'mildli': 2453, 'capit': 2454, 'amazingli': 2455, 'slave': 2456, 'introduct': 2457, 'lesli': 2458, 'extraordinari': 2459, 'halfway': 2460, 'funnier': 2461, 'tap': 2462, 'transfer': 2463, 'text': 2464, 'enhanc': 2465, 'extent': 2466, 'overwhelm': 2467, 'wreck': 2468, 'advantag': 2469, 'punish': 2470, 'plant': 2471, 'preview': 2472, 'horrif': 2473, 'lo': 2474, 'deliber': 2475, 'east': 2476, 'dynam': 2477, 'lane': 2478, 'jessica': 2479, 'error': 2480, 'homosexu': 2481, 'vacat': 2482, 'vincent': 2483, 'miller': 2484, 'miscast': 2485, 'ensu': 2486, 'sophist': 2487, 'basi': 2488, 'appli': 2489, '2000': 2490, 'sleazi': 2491, 'steel': 2492, 'spoken': 2493, 'uncomfort': 2494, 'via': 2495, 'reed': 2496, 'extend': 2497, 'measur': 2498, 'elev': 2499, 'mansion': 2500, 'bollywood': 2501, 'conceiv': 2502, 'hippi': 2503, 'mous': 2504, 'overact': 2505, 'assign': 2506, 'savag': 2507, 'stanley': 2508, 'melt': 2509, 'goofi': 2510, 'daili': 2511, 'breathtak': 2512, 'beer': 2513, 'alter': 2514, 'blair': 2515, 'fix': 2516, 'cathol': 2517, 'dentist': 2518, 'succe': 2519, 'burt': 2520, 'sacrific': 2521, 'carpent': 2522, 'subsequ': 2523, 'properli': 2524, 'inspector': 2525, 'everyday': 2526, 'nowaday': 2527, 'oppos': 2528, 'laura': 2529, 'neck': 2530, 'block': 2531, 'massacr': 2532, 'circl': 2533, 'portrait': 2534, 'concert': 2535, 'mob': 2536, 'access': 2537, 'pool': 2538, 'lesser': 2539, 'fay': 2540, 'grey': 2541, 'fallen': 2542, 'seagal': 2543, 'christi': 2544, 'sinist': 2545, 'relax': 2546, 'isol': 2547, 'jewish': 2548, 'react': 2549, 'chees': 2550, 'competit': 2551, 'usa': 2552, 'jake': 2553, 'spiritu': 2554, 'stink': 2555, 'ironi': 2556, 'nine': 2557, 'appal': 2558, 'immens': 2559, 'nonetheless': 2560, 'suitabl': 2561, 'creep': 2562, '2006': 2563, 'chop': 2564, 'lyric': 2565, 'retir': 2566, 'reduc': 2567, 'spring': 2568, 'needless': 2569, 'rage': 2570, 'franchis': 2571, 'user': 2572, 'shirt': 2573, 'showcas': 2574, 'nut': 2575, 'navi': 2576, 'luci': 2577, 'adopt': 2578, 'sold': 2579, 'zone': 2580, 'asham': 2581, 'bath': 2582, 'bulli': 2583, 'nurs': 2584, 'jay': 2585, 'uninspir': 2586, 'per': 2587, 'digit': 2588, 'stanwyck': 2589, '1940': 2590, 'amongst': 2591, 'laid': 2592, 'oddli': 2593, 'illustr': 2594, 'sutherland': 2595, 'upper': 2596, 'broadcast': 2597, '2001': 2598, 'baker': 2599, 'fulfil': 2600, 'disguis': 2601, 'stylish': 2602, 'aspir': 2603, 'brando': 2604, 'throat': 2605, 'wwii': 2606, '18': 2607, 'impli': 2608, 'pound': 2609, 'em': 2610, 'nobl': 2611, 'neighborhood': 2612, 'wanna': 2613, 'thief': 2614, 'endear': 2615, 'pride': 2616, 'cinematograph': 2617, 'prop': 2618, 'shift': 2619, 'tens': 2620, 'distribut': 2621, '16': 2622, 'bett': 2623, 'coher': 2624, 'albeit': 2625, 'rochest': 2626, 'dawn': 2627, 'shoulder': 2628, 'dinner': 2629, 'diseas': 2630, 'bo': 2631, 'poignant': 2632, 'contract': 2633, 'snow': 2634, 'matthau': 2635, 'wash': 2636, 'knife': 2637, 'surf': 2638, 'forti': 2639, 'shout': 2640, 'function': 2641, 'silenc': 2642, 'rebel': 2643, 'silver': 2644, 'mindless': 2645, 'height': 2646, 'internet': 2647, 'cannib': 2648, 'widmark': 2649, 'proof': 2650, 'eeri': 2651, 'henc': 2652, 'reunion': 2653, 'horrend': 2654, 'chuck': 2655, 'duti': 2656, 'cancel': 2657, 'derek': 2658, 'instinct': 2659, 'heat': 2660, 'elvira': 2661, 'pie': 2662, 'musician': 2663, 'etern': 2664, 'glori': 2665, 'innov': 2666, 'premier': 2667, 'alik': 2668, 'repetit': 2669, 'mill': 2670, 'greatli': 2671, 'torn': 2672, 'absorb': 2673, 'neat': 2674, 'spielberg': 2675, 'incoher': 2676, 'elvi': 2677, 'blank': 2678, 'redempt': 2679, 'crisi': 2680, 'horrifi': 2681, 'precis': 2682, 'homag': 2683, 'wealthi': 2684, 'lovabl': 2685, 'bang': 2686, 'diamond': 2687, 'trite': 2688, 'racism': 2689, 'burton': 2690, 'fbi': 2691, 'infam': 2692, 'announc': 2693, 'britain': 2694, 'itali': 2695, 'nelson': 2696, 'helen': 2697, 'hammer': 2698, 'flop': 2699, 'parallel': 2700, 'dedic': 2701, 'resolut': 2702, 'pat': 2703, 'wilder': 2704, 'happili': 2705, 'ensembl': 2706, 'chaplin': 2707, 'streisand': 2708, 'triumph': 2709, 'factori': 2710, 'carter': 2711, 'st': 2712, 'oil': 2713, 'cube': 2714, 'broke': 2715, 'mar': 2716, 'conclud': 2717, 'disagre': 2718, 'plastic': 2719, 'fighter': 2720, 'climb': 2721, 'row': 2722, 'vega': 2723, 'rocket': 2724, 'bush': 2725, 'march': 2726, 'weight': 2727, 'chuckl': 2728, 'own': 2729, 'spare': 2730, 'mst3k': 2731, 'dane': 2732, 'enorm': 2733, 'lust': 2734, 'unforgett': 2735, 'meaning': 2736, 'sensibl': 2737, 'dump': 2738, 'kurt': 2739, 'thug': 2740, 'boot': 2741, 'wherea': 2742, 'luca': 2743, 'karloff': 2744, 'dear': 2745, 'engin': 2746, 'stress': 2747, 'adequ': 2748, 'threat': 2749, 'difficulti': 2750, 'arnold': 2751, 'brand': 2752, 'bobbi': 2753, 'rap': 2754, 'caricatur': 2755, 'fifti': 2756, 'butt': 2757, 'hamlet': 2758, 'fest': 2759, 'elabor': 2760, 'secretari': 2761, 'ralph': 2762, 'ego': 2763, 'homeless': 2764, 'journalist': 2765, 'swing': 2766, 'polish': 2767, 'flynn': 2768, 'arrog': 2769, 'barri': 2770, 'resort': 2771, 'spike': 2772, 'induc': 2773, 'tool': 2774, 'arrang': 2775, 'fanci': 2776, 'puppet': 2777, 'unbear': 2778, 'conspiraci': 2779, 'float': 2780, 'simpson': 2781, 'grate': 2782, 'exercis': 2783, 'muppet': 2784, 'choreograph': 2785, 'basement': 2786, 'pig': 2787, 'phillip': 2788, 'tribut': 2789, 'cruis': 2790, 'guilt': 2791, 'boll': 2792, 'editor': 2793, 'fianc': 2794, 'korean': 2795, 'document': 2796, 'ward': 2797, '24': 2798, 'stan': 2799, 'toilet': 2800, 'scarecrow': 2801, 'item': 2802, 'tower': 2803, 'slip': 2804, 'layer': 2805, 'puzzl': 2806, 'babe': 2807, 'medium': 2808, 'file': 2809, 'ham': 2810, 'territori': 2811, 'philosoph': 2812, 'slaughter': 2813, 'inexplic': 2814, 'librari': 2815, 'superfici': 2816, 'portion': 2817, 'larger': 2818, 'assur': 2819, 'transit': 2820, 'spark': 2821, 'denzel': 2822, 'persona': 2823, 'orient': 2824, 'minim': 2825, 'doc': 2826, 'catherin': 2827, 'glover': 2828, 'jet': 2829, 'ban': 2830, 'financi': 2831, 'shi': 2832, 'curti': 2833, 'boredom': 2834, 'owe': 2835, 'walken': 2836, 'sneak': 2837, 'wolf': 2838, 'dorothi': 2839, 'pg': 2840, 'jeremi': 2841, 'backdrop': 2842, 'metaphor': 2843, 'ambigu': 2844, 'whale': 2845, 'hudson': 2846, 'profound': 2847, 'cusack': 2848, 'eleph': 2849, 'multi': 2850, '2005': 2851, 'hack': 2852, 'union': 2853, 'ultra': 2854, 'birthday': 2855, 'stiff': 2856, 'notion': 2857, 'elsewher': 2858, 'rave': 2859, 'implaus': 2860, 'viru': 2861, 'gadget': 2862, 'poison': 2863, 'lloyd': 2864, 'squar': 2865, 'superhero': 2866, 'eva': 2867, 'disc': 2868, 'afford': 2869, '1st': 2870, 'bibl': 2871, 'canada': 2872, 'hawk': 2873, 'newspap': 2874, 'eastwood': 2875, 'urg': 2876, 'slight': 2877, 'reader': 2878, 'distanc': 2879, 'pad': 2880, 'deriv': 2881, 'essenc': 2882, 'montag': 2883, 'huh': 2884, 'sadist': 2885, 'skit': 2886, 'button': 2887, 'charisma': 2888, 'restaur': 2889, 'drown': 2890, 'spread': 2891, 'heston': 2892, 'cure': 2893, 'health': 2894, 'peak': 2895, 'gradual': 2896, 'maniac': 2897, 'companion': 2898, 'godfath': 2899, 'dealt': 2900, 'muslim': 2901, 'estat': 2902, 'invest': 2903, 'lab': 2904, 'fetch': 2905, 'scoobi': 2906, 'alli': 2907, 'tea': 2908, 'subtleti': 2909, 'cup': 2910, 'ritter': 2911, 'servant': 2912, 'kane': 2913, 'miik': 2914, 'countless': 2915, 'gothic': 2916, 'briefli': 2917, 'charismat': 2918, 'heroic': 2919, 'electr': 2920, 'elect': 2921, 'iii': 2922, 'salli': 2923, 'reel': 2924, 'ingredi': 2925, 'neil': 2926, 'resourc': 2927, 'grandmoth': 2928, 'cole': 2929, 'bud': 2930, 'nuanc': 2931, 'wannab': 2932, 'toss': 2933, 'admittedli': 2934, 'tender': 2935, 'shall': 2936, 'kubrick': 2937, 'stronger': 2938, 'poverti': 2939, 'label': 2940, 'mild': 2941, 'pit': 2942, 'dawson': 2943, 'punk': 2944, 'gate': 2945, 'mafia': 2946, 'stood': 2947, 'carrey': 2948, 'reev': 2949, 'pauli': 2950, 'burst': 2951, 'smooth': 2952, 'ian': 2953, 'terri': 2954, 'tag': 2955, 'smash': 2956, 'cardboard': 2957, 'updat': 2958, 'cox': 2959, 'assault': 2960, 'outcom': 2961, 'fond': 2962, 'easier': 2963, 'useless': 2964, 'astair': 2965, 'bakshi': 2966, 'vari': 2967, 'melodramat': 2968, 'exchang': 2969, 'divers': 2970, 'increasingli': 2971, 'fist': 2972, 'qualifi': 2973, 'resolv': 2974, 'samurai': 2975, 'sketch': 2976, 'vulner': 2977, '2002': 2978, 'rex': 2979, 'coincid': 2980, 'be': 2981, 'tame': 2982, 'blast': 2983, 'conveni': 2984, 'insert': 2985, 'scratch': 2986, 'templ': 2987, 'luckili': 2988, 'brillianc': 2989, 'suspend': 2990, 'reynold': 2991, 'ambiti': 2992, 'gotta': 2993, 'meat': 2994, 'nuclear': 2995, 'fisher': 2996, 'seventi': 2997, 'strictli': 2998, 'farm': 2999, 'jami': 3000, 'pin': 3001, 'hamilton': 3002, 'coach': 3003, 'walker': 3004, 'matthew': 3005, 'soprano': 3006, 'closet': 3007, 'brosnan': 3008, 'grasp': 3009, 'instantli': 3010, 'empir': 3011, 'kudo': 3012, 'clock': 3013, 'monk': 3014, 'ninja': 3015, 'timeless': 3016, 'butcher': 3017, 'revers': 3018, 'cave': 3019, 'discoveri': 3020, 'eccentr': 3021, 'joey': 3022, 'spooki': 3023, 'recreat': 3024, 'convolut': 3025, 'struck': 3026, 'worthless': 3027, 'cliff': 3028, 'norman': 3029, 'sloppi': 3030, 'seller': 3031, 'declar': 3032, 'clown': 3033, 'eighti': 3034, 'miracl': 3035, 'sidekick': 3036, 'mitchel': 3037, 'importantli': 3038, 'evok': 3039, 'fifteen': 3040, 'bleak': 3041, 'pal': 3042, 'communist': 3043, 'inconsist': 3044, 'wipe': 3045, 'partli': 3046, 'gray': 3047, 'selfish': 3048, 'cheek': 3049, 'superbl': 3050, 'chew': 3051, 'piano': 3052, 'websit': 3053, 'australia': 3054, 'farc': 3055, 'aforement': 3056, 'psychiatrist': 3057, 'ho': 3058, 'seed': 3059, 'debat': 3060, '45': 3061, 'enthusiast': 3062, 'stoog': 3063, 'flawless': 3064, 'destin': 3065, 'lifestyl': 3066, 'wick': 3067, 'akshay': 3068, 'incompet': 3069, 'pressur': 3070, 'slice': 3071, 'emili': 3072, 'anni': 3073, 'kitchen': 3074, 'bash': 3075, 'drivel': 3076, 'soviet': 3077, 'dire': 3078, 'splatter': 3079, 'directori': 3080, 'wrestl': 3081, 'dash': 3082, 'regardless': 3083, 'abc': 3084, 'helicopt': 3085, 'duo': 3086, 'boil': 3087, 'glow': 3088, 'curios': 3089, 'increas': 3090, 'seduc': 3091, 'recov': 3092, 'artifici': 3093, 'jar': 3094, 'mann': 3095, 'prize': 3096, 'cagney': 3097, 'cia': 3098, 'chapter': 3099, 'pleasantli': 3100, 'dave': 3101, 'distant': 3102, 'blob': 3103, 'ken': 3104, 'lou': 3105, 'beaten': 3106, 'suppli': 3107, 'flower': 3108, 'judi': 3109, 'cameron': 3110, 'doo': 3111, 'eleg': 3112, 'favour': 3113, 'ellen': 3114, 'laurel': 3115, 'web': 3116, 'panic': 3117, 'splendid': 3118, 'psychot': 3119, 'combat': 3120, 'craig': 3121, 'craven': 3122, 'hop': 3123, 'perri': 3124, 'turner': 3125, 'francisco': 3126, 'ranger': 3127, 'drunken': 3128, 'glenn': 3129, 'goldberg': 3130, 'min': 3131, 'slightest': 3132, 'fx': 3133, 'plausibl': 3134, 'gandhi': 3135, 'rid': 3136, 'flip': 3137, 'gentl': 3138, 'greek': 3139, 'hatr': 3140, 'graduat': 3141, 'shortli': 3142, 'falk': 3143, 'alexand': 3144, 'philosophi': 3145, '20th': 3146, 'ruth': 3147, 'wizard': 3148, 'modesti': 3149, 'unpleas': 3150, 'lend': 3151, 'ocean': 3152, 'knight': 3153, 'jealou': 3154, 'holi': 3155, 'futurist': 3156, 'we': 3157, 'manhattan': 3158, 'legal': 3159, 'tall': 3160, 'fund': 3161, 'dracula': 3162, 'harm': 3163, 'preciou': 3164, 'felix': 3165, 'reviv': 3166, 'childish': 3167, 'bless': 3168, 'tank': 3169, 'thread': 3170, 'mock': 3171, 'overdon': 3172, 'scientif': 3173, 'ami': 3174, 'forbidden': 3175, 'digniti': 3176, 'nod': 3177, 'explicit': 3178, 'giallo': 3179, 'mel': 3180, 'elderli': 3181, 'awe': 3182, '99': 3183, 'pirat': 3184, 'unwatch': 3185, 'thick': 3186, '2004': 3187, 'eve': 3188, 'torment': 3189, 'yesterday': 3190, 'fever': 3191, 'awaken': 3192, 'repeatedli': 3193, 'margaret': 3194, 'broad': 3195, 'nerv': 3196, 'verhoeven': 3197, 'lean': 3198, 'kay': 3199, 'custom': 3200, 'launch': 3201, 'automat': 3202, 'timothi': 3203, 'rivet': 3204, 'roman': 3205, 'ambit': 3206, 'publish': 3207, 'eas': 3208, 'acclaim': 3209, 'politician': 3210, 'bin': 3211, 'royal': 3212, 'uniform': 3213, 'absenc': 3214, 'stiller': 3215, 'romero': 3216, 'ah': 3217, 'griffith': 3218, 'antic': 3219, 'warren': 3220, 'tomato': 3221, 'wallac': 3222, 'crook': 3223, 'pierc': 3224, 'stinker': 3225, 'transport': 3226, 'foul': 3227, 'bathroom': 3228, 'termin': 3229, 'gabriel': 3230, 'phrase': 3231, 'homicid': 3232, 'pulp': 3233, 'purpl': 3234, 'darker': 3235, 'sunshin': 3236, 'kenneth': 3237, 'awak': 3238, 'donna': 3239, 'viciou': 3240, 'contrari': 3241, 'sixti': 3242, 'album': 3243, 'packag': 3244, 'saint': 3245, 'karen': 3246, 'choreographi': 3247, 'hollow': 3248, '2003': 3249, 'brazil': 3250, 'ought': 3251, 'prom': 3252, 'revolutionari': 3253, 'coloni': 3254, 'eyr': 3255, 'evolv': 3256, 'horrid': 3257, 'q': 3258, 'pray': 3259, 'marin': 3260, 'li': 3261, 'rambo': 3262, 'juvenil': 3263, 'kapoor': 3264, 'defi': 3265, 'dose': 3266, 'boast': 3267, 'ramon': 3268, 'stole': 3269, 'nerd': 3270, 'overr': 3271, 'option': 3272, 'mummi': 3273, 'candid': 3274, 'mildr': 3275, 'conserv': 3276, 'blade': 3277, 'beatti': 3278, 'ireland': 3279, 'twelv': 3280, 'altman': 3281, 'protest': 3282, 'fulci': 3283, 'flame': 3284, 'collabor': 3285, 'funer': 3286, 'detract': 3287, 'jazz': 3288, 'natali': 3289, 'global': 3290, 'confirm': 3291, 'trio': 3292, 'kirk': 3293, 'astonish': 3294, 'audio': 3295, 'yellow': 3296, 'whip': 3297, 'leap': 3298, 'destini': 3299, 'bull': 3300, 'shade': 3301, 'nicholson': 3302, 'racial': 3303, 'blake': 3304, 'tommi': 3305, 'delici': 3306, 'bottl': 3307, 'spit': 3308, 'enterpris': 3309, 'mystic': 3310, 'popcorn': 3311, 'harder': 3312, 'pseudo': 3313, 'merci': 3314, 'swedish': 3315, 'adolesc': 3316, 'neo': 3317, 'visibl': 3318, 'reunit': 3319, 'vivid': 3320, 'altogeth': 3321, 'meaningless': 3322, 'inherit': 3323, 'threw': 3324, 'enchant': 3325, 'fonda': 3326, 'todd': 3327, 'bedroom': 3328, 'staff': 3329, 'suspici': 3330, 'befriend': 3331, 'respond': 3332, 'jew': 3333, 'atlanti': 3334, 'edi': 3335, 'bust': 3336, 'ruthless': 3337, 'reserv': 3338, 'decor': 3339, 'synopsi': 3340, 'await': 3341, 'exhibit': 3342, 'voight': 3343, 'tip': 3344, 'lemmon': 3345, 'lawrenc': 3346, 'roommat': 3347, 'uneven': 3348, 'moodi': 3349, 'kennedi': 3350, 'fanat': 3351, 'leonard': 3352, 'crocodil': 3353, 'wire': 3354, 'madonna': 3355, 'voyag': 3356, 'unsettl': 3357, 'bargain': 3358, 'bradi': 3359, 'abysm': 3360, 'centr': 3361, 'carl': 3362, 'chao': 3363, 'incident': 3364, '2007': 3365, 'ventur': 3366, 'dimens': 3367, 'bold': 3368, 'clumsi': 3369, 'palma': 3370, 'clint': 3371, 'rural': 3372, 'audit': 3373, 'garner': 3374, 'holli': 3375, '2nd': 3376, 'characterist': 3377, 'cuba': 3378, 'timon': 3379, 'neglect': 3380, 'echo': 3381, 'nearbi': 3382, 'wealth': 3383, 'acknowledg': 3384, 'versu': 3385, 'immigr': 3386, 'cd': 3387, 'trail': 3388, 'lit': 3389, 'imperson': 3390, 'humili': 3391, 'poetic': 3392, 'daddi': 3393, 'mall': 3394, 'cari': 3395, 'tiger': 3396, 'ant': 3397, 'troop': 3398, 'elimin': 3399, 'hart': 3400, 'mistaken': 3401, 'domest': 3402, 'solo': 3403, 'pun': 3404, 'collaps': 3405, 'marshal': 3406, 'saga': 3407, 'mickey': 3408, 'paus': 3409, 'celluloid': 3410, 'infect': 3411, 'homer': 3412, 'prejudic': 3413, 'jeffrey': 3414, 'repuls': 3415, 'olivi': 3416, 'interrupt': 3417, 'tribe': 3418, 'coat': 3419, 'milk': 3420, 'assembl': 3421, '1996': 3422, 'gear': 3423, 'hbo': 3424, 'inan': 3425, 'apolog': 3426, 'sore': 3427, 'pant': 3428, 'ginger': 3429, 'harvey': 3430, 'chest': 3431, 'equip': 3432, 'coffe': 3433, 'undoubtedli': 3434, 'inappropri': 3435, 'promin': 3436, 'cake': 3437, 'leon': 3438, 'colleagu': 3439, 'pot': 3440, 'maggi': 3441, 'brooklyn': 3442, 'furthermor': 3443, 'primari': 3444, 'exot': 3445, 'institut': 3446, 'retain': 3447, 'instant': 3448, 'humbl': 3449, 'pen': 3450, 'highest': 3451, 'solut': 3452, 'vulgar': 3453, 'aveng': 3454, 'trace': 3455, 'devast': 3456, 'airplan': 3457, 'embrac': 3458, 'florida': 3459, 'jenni': 3460, 'colonel': 3461, 'consum': 3462, 'polanski': 3463, 'illog': 3464, 'poke': 3465, 'bowl': 3466, 'linda': 3467, 'ya': 3468, 'sale': 3469, 'dutch': 3470, '1999': 3471, 'strain': 3472, 'wive': 3473, 'smaller': 3474, 'godzilla': 3475, 'descend': 3476, 'outer': 3477, 'dian': 3478, 'cope': 3479, 'gender': 3480, '3rd': 3481, 'principl': 3482, 'seduct': 3483, 'disabl': 3484, 'rick': 3485, 'secondli': 3486, 'dive': 3487, 'devoid': 3488, 'vast': 3489, 'rabbit': 3490, 'gloriou': 3491, 'blatant': 3492, 'yard': 3493, 'lol': 3494, 'bubbl': 3495, 'hal': 3496, 'inferior': 3497, 'cue': 3498, 'predecessor': 3499, 'gundam': 3500, 'mixtur': 3501, 'beneath': 3502, 'primarili': 3503, 'glamor': 3504, 'dud': 3505, 'scope': 3506, 'streep': 3507, 'aggress': 3508, 'simplist': 3509, 'senseless': 3510, 'shelf': 3511, 'myer': 3512, 'alfr': 3513, 'april': 3514, 'z': 3515, 'arab': 3516, 'pearl': 3517, 'garbo': 3518, 'countrysid': 3519, 'alert': 3520, 'trademark': 3521, 'breed': 3522, 'shirley': 3523, 'museum': 3524, 'disjoint': 3525, 'grinch': 3526, 'domino': 3527, 'et': 3528, 'hideou': 3529, 'casual': 3530, 'talki': 3531, 'invas': 3532, 'slide': 3533, 'stellar': 3534, 'rendit': 3535, 'stir': 3536, 'mayor': 3537, 'vanish': 3538, 'defens': 3539, 'boom': 3540, 'sh': 3541, 'khan': 3542, 'experiment': 3543, 'acid': 3544, 'loyal': 3545, 'obtain': 3546, 'robberi': 3547, 'maci': 3548, 'hopeless': 3549, 'applaud': 3550, 'hardcor': 3551, 'disgrac': 3552, 'oz': 3553, 'robinson': 3554, 'unhappi': 3555, 'stack': 3556, 'illeg': 3557, 'mail': 3558, 'uwe': 3559, 'emphasi': 3560, 'wont': 3561, 'counter': 3562, 'declin': 3563, 'tempt': 3564, 'fri': 3565, 'soccer': 3566, 'span': 3567, 'rifl': 3568, 'craze': 3569, 'hartley': 3570, 'grandfath': 3571, 'blew': 3572, 'amanda': 3573, 'psychic': 3574, 'recruit': 3575, 'incomprehens': 3576, 'diana': 3577, 'spider': 3578, 'topless': 3579, 'tenant': 3580, 'dicken': 3581, 'scroog': 3582, 'dismiss': 3583, 'berlin': 3584, 'wet': 3585, 'faster': 3586, 'niro': 3587, 'intim': 3588, 'trashi': 3589, 'ethnic': 3590, 'resurrect': 3591, 'revolt': 3592, 'porno': 3593, 'riot': 3594, 'justin': 3595, 'woo': 3596, 'shaw': 3597, 'sibl': 3598, 'shed': 3599, 'lumet': 3600, 'parad': 3601, 'bitch': 3602, 'sympath': 3603, 'ration': 3604, 'goer': 3605, 'weakest': 3606, 'ballet': 3607, 'wheel': 3608, 'choru': 3609, 'slick': 3610, 'enlighten': 3611, 'dealer': 3612, 'nephew': 3613, 'eager': 3614, 'ensur': 3615, 'gap': 3616, '00': 3617, 'hesit': 3618, 'partial': 3619, 'hopper': 3620, 'commend': 3621, 'worm': 3622, 'biographi': 3623, 'feminist': 3624, 'honesti': 3625, 'jonathan': 3626, 'unreal': 3627, 'andr': 3628, 'wendi': 3629, 'patriot': 3630, 'steam': 3631, 'immort': 3632, 'farmer': 3633, 'region': 3634, 'lena': 3635, 'mario': 3636, 'rider': 3637, 'mutant': 3638, 'franco': 3639, 'vice': 3640, 'victori': 3641, 'similarli': 3642, 'nostalg': 3643, 'snap': 3644, 'leo': 3645, 'blunt': 3646, 'owen': 3647, 'wore': 3648, 'psychopath': 3649, 'morri': 3650, 'safeti': 3651, 'prequel': 3652, 'sappi': 3653, 'confin': 3654, 'properti': 3655, 'repress': 3656, 'composit': 3657, 'kingdom': 3658, 'charlott': 3659, 'hung': 3660, 'skull': 3661, 'util': 3662, 'sandra': 3663, 'macarthur': 3664, 'miseri': 3665, 'bergman': 3666, 'drain': 3667, '1972': 3668, 'repli': 3669, 'rambl': 3670, 'drum': 3671, 'recycl': 3672, 'cg': 3673, 'montana': 3674, 'bonu': 3675, 'deed': 3676, 'acquir': 3677, 'campbel': 3678, 'thru': 3679, 'rocki': 3680, 'valuabl': 3681, 'snl': 3682, 'dust': 3683, 'rope': 3684, 'heartbreak': 3685, 'latin': 3686, 'pattern': 3687, 'emperor': 3688, 'bumbl': 3689, 'speci': 3690, 'compass': 3691, 'tail': 3692, 'strand': 3693, 'dalton': 3694, 'farrel': 3695, 'hyde': 3696, 'kyle': 3697, 'despair': 3698, 'bow': 3699, 'tad': 3700, 'compens': 3701, 'del': 3702, 'whoopi': 3703, 'exit': 3704, 'nervou': 3705, 'gimmick': 3706, 'pour': 3707, 'bleed': 3708, 'downhil': 3709, 'wacki': 3710, 'airport': 3711, 'romp': 3712, 'olli': 3713, 'oppress': 3714, '35': 3715, 'rotten': 3716, 'orson': 3717, 'radic': 3718, 'mistress': 3719, 'da': 3720, 'roth': 3721, 'gal': 3722, 'tonight': 3723, 'contempl': 3724, 'percept': 3725, 'martian': 3726, 'slug': 3727, 'carradin': 3728, 'rapist': 3729, 'chess': 3730, 'melodi': 3731, 'shelley': 3732, 'champion': 3733, 'arguabl': 3734, 'pervers': 3735, 'preach': 3736, 'taught': 3737, 'paltrow': 3738, 'pursuit': 3739, 'unpredict': 3740, 'edgar': 3741, 'dazzl': 3742, 'attorney': 3743, 'tackl': 3744, 'stilt': 3745, 'banal': 3746, 'tooth': 3747, 'mislead': 3748, 'programm': 3749, 'pervert': 3750, 'belt': 3751, '1983': 3752, 'heal': 3753, 'slash': 3754, 'arc': 3755, 'bela': 3756, 'closest': 3757, 'graham': 3758, 'poem': 3759, 'franki': 3760, 'employe': 3761, 'mesmer': 3762, 'raymond': 3763, 'duval': 3764, 'gambl': 3765, 'rubi': 3766, 'plight': 3767, 'marti': 3768, 'vengeanc': 3769, 'vocal': 3770, 'tiresom': 3771, 'passeng': 3772, 'cleverli': 3773, 'chicken': 3774, 'orang': 3775, 'dixon': 3776, 'uplift': 3777, 'maid': 3778, 'virginia': 3779, 'sensat': 3780, 'conneri': 3781, 'quarter': 3782, 'bay': 3783, 'convincingli': 3784, 'volum': 3785, 'profan': 3786, 'lundgren': 3787, 'numb': 3788, 'scottish': 3789, 'giggl': 3790, 'secretli': 3791, 'engross': 3792, 'suffic': 3793, 'mute': 3794, 'habit': 3795, 'calm': 3796, 'climact': 3797, 'extens': 3798, 'outing': 3799, 'tube': 3800, 'yawn': 3801, 'inject': 3802, 'whine': 3803, 'iran': 3804, 'pokemon': 3805, '1968': 3806, 'clone': 3807, 'monologu': 3808, 'gerard': 3809, 'amitabh': 3810, 'abraham': 3811, 'crystal': 3812, 'swallow': 3813, 'paranoia': 3814, 'sirk': 3815, 'plod': 3816, 'profess': 3817, 'frankenstein': 3818, 'grotesqu': 3819, 'meander': 3820, 'junior': 3821, 'backward': 3822, 'austen': 3823, 'richardson': 3824, 'fed': 3825, 'surpass': 3826, 'lowest': 3827, 'taxi': 3828, 'poetri': 3829, 'ethan': 3830, 'dispos': 3831, 'linger': 3832, 'expand': 3833, 'abort': 3834, 'chicago': 3835, 'im': 3836, 'underst': 3837, 'trend': 3838, 'bend': 3839, 'earl': 3840, 'nichola': 3841, 'septemb': 3842, 'franci': 3843, 'spock': 3844, 'eugen': 3845, 'mundan': 3846, 'rant': 3847, 'waitress': 3848, 'simplic': 3849, 'der': 3850, 'compliment': 3851, 'catchi': 3852, 'instrument': 3853, 'greedi': 3854, 'household': 3855, 'stallon': 3856, 'rubber': 3857, 'hum': 3858, 'spoke': 3859, 'lure': 3860, 'myth': 3861, 'muddl': 3862, 'cannon': 3863, 'tourist': 3864, 'dysfunct': 3865, 'nostalgia': 3866, 'literatur': 3867, 'descent': 3868, 'sue': 3869, 'econom': 3870, 'june': 3871, 'recognis': 3872, 'cent': 3873, 'dement': 3874, 'alongsid': 3875, 'eaten': 3876, 'map': 3877, 'insur': 3878, 'furi': 3879, 'duck': 3880, 'mortal': 3881, 'louis': 3882, 'phantom': 3883, 'stale': 3884, 'damon': 3885, 'crucial': 3886, 'equival': 3887, 'hello': 3888, 'sissi': 3889, 'phoni': 3890, 'coast': 3891, 'omen': 3892, 'mankind': 3893, 'occupi': 3894, 'firstli': 3895, 'deaf': 3896, 'randi': 3897, 'bacal': 3898, 'flee': 3899, 'lang': 3900, 'carel': 3901, 'irrelev': 3902, 'dictat': 3903, 'molli': 3904, 'recognit': 3905, 'wisdom': 3906, 'damm': 3907, 'reign': 3908, 'grayson': 3909, 'likewis': 3910, 'newli': 3911, 'bike': 3912, 'rude': 3913, 'daisi': 3914, 'ashley': 3915, 'freez': 3916, 'onlin': 3917, 'drake': 3918, 'labor': 3919, 'bump': 3920, 'lengthi': 3921, 'dreari': 3922, 'loyalti': 3923, 'heel': 3924, 'twilight': 3925, 'blackmail': 3926, 'rooney': 3927, 'buffalo': 3928, 'distinguish': 3929, 'cyborg': 3930, '1973': 3931, 'biko': 3932, 'antwon': 3933, 'baddi': 3934, 'approv': 3935, 'proce': 3936, 'sailor': 3937, 'unorigin': 3938, 'ridden': 3939, 'interior': 3940, 'barrymor': 3941, 'startl': 3942, 'attribut': 3943, 'provoc': 3944, 'exposur': 3945, 'analysi': 3946, 'vein': 3947, 'inher': 3948, 'basketbal': 3949, 'nineti': 3950, 'tunnel': 3951, 'keith': 3952, 'pink': 3953, 'incorpor': 3954, 'worn': 3955, 'emphas': 3956, 'chronicl': 3957, 'butler': 3958, 'prey': 3959, 'boxer': 3960, 'hypnot': 3961, 'julian': 3962, 'undeni': 3963, 'unrel': 3964, 'nicol': 3965, 'improvis': 3966, 'simmon': 3967, 'fleet': 3968, 'robbin': 3969, 'indiffer': 3970, 'stalker': 3971, 'meyer': 3972, 'belushi': 3973, 'condemn': 3974, 'bunni': 3975, 'mighti': 3976, 'carla': 3977, 'drift': 3978, 'substitut': 3979, 'barrel': 3980, 'er': 3981, 'degrad': 3982, 'underli': 3983, 'elm': 3984, 'millionair': 3985, 'predat': 3986, 'walsh': 3987, 'meg': 3988, 'othello': 3989, 'mormon': 3990, 'roof': 3991, 'palac': 3992, 'dolph': 3993, 'disord': 3994, 'marion': 3995, 'watson': 3996, 'nyc': 3997, 'greed': 3998, 'exquisit': 3999, 'unawar': 4000, 'alison': 4001, 'priceless': 4002, 'lampoon': 4003, 'alarm': 4004, 'reid': 4005, '3d': 4006, 'shove': 4007, 'warmth': 4008, 'firm': 4009, 'mtv': 4010, 'agenda': 4011, 'enthusiasm': 4012, 'vital': 4013, 'hay': 4014, 'rukh': 4015, 'errol': 4016, 'edgi': 4017, 'novak': 4018, 'showdown': 4019, 'unleash': 4020, 'beatl': 4021, 'eastern': 4022, 'simultan': 4023, 'randomli': 4024, 'gestur': 4025, 'orlean': 4026, 'pamela': 4027, 'valentin': 4028, 'testament': 4029, 'drip': 4030, '1933': 4031, 'minimum': 4032, 'sergeant': 4033, 'nun': 4034, '13th': 4035, 'coup': 4036, 'what': 4037, 'crown': 4038, 'cassidi': 4039, 'ponder': 4040, 'profit': 4041, 'thompson': 4042, 'israel': 4043, 'session': 4044, 'angela': 4045, 'glanc': 4046, 'petti': 4047, 'iraq': 4048, 'championship': 4049, 'peril': 4050, 'distort': 4051, 'peck': 4052, 'spain': 4053, 'preserv': 4054, 'zizek': 4055, 'campaign': 4056, 'shootout': 4057, 'brenda': 4058, 'realm': 4059, 'crawl': 4060, 'regist': 4061, 'restrain': 4062, 'travesti': 4063, 'jan': 4064, 'represent': 4065, 'unimagin': 4066, 'empathi': 4067, 'contradict': 4068, 'han': 4069, 'calib': 4070, 'perpetu': 4071, 'stroke': 4072, 'cream': 4073, 'buster': 4074, 'bro': 4075, 'rout': 4076, 'exposit': 4077, 'kurosawa': 4078, 'wig': 4079, '1984': 4080, 'quinn': 4081, 'mon': 4082, 'crow': 4083, 'cooki': 4084, 'gentleman': 4085, 'reson': 4086, 'climat': 4087, 'scotland': 4088, 'fido': 4089, 'stake': 4090, 'valley': 4091, 'sabrina': 4092, 'miyazaki': 4093, 'din': 4094, 'distress': 4095, 'crawford': 4096, 'shoddi': 4097, 'greg': 4098, 'meryl': 4099, '1997': 4100, 'josh': 4101, 'painter': 4102, 'pretens': 4103, 'ustinov': 4104, 'geek': 4105, 'passabl': 4106, 'compromis': 4107, 'shaki': 4108, 'spacey': 4109, 'baldwin': 4110, 'tacki': 4111, 'cloud': 4112, 'pole': 4113, 'derang': 4114, '1987': 4115, 'absent': 4116, 'unseen': 4117, 'delic': 4118, 'darren': 4119, 'ross': 4120, 'perceiv': 4121, 'dana': 4122, 'unsatisfi': 4123, 'femm': 4124, 'abomin': 4125, 'monoton': 4126, 'mclaglen': 4127, 'traumat': 4128, 'warrant': 4129, 'censor': 4130, 'businessman': 4131, 'sucker': 4132, 'wax': 4133, 'sammi': 4134, 'fuller': 4135, 'demis': 4136, 'soderbergh': 4137, 'stargat': 4138, 'jewel': 4139, 'kumar': 4140, 'deceas': 4141, 'primit': 4142, 'anchor': 4143, 'dee': 4144, 'clash': 4145, 'valid': 4146, 'tech': 4147, 'reluct': 4148, 'tarantino': 4149, 'wholli': 4150, 'furiou': 4151, 'correctli': 4152, '1993': 4153, 'deniro': 4154, 'exclus': 4155, 'accuraci': 4156, 'verbal': 4157, 'nathan': 4158, 'uncov': 4159, 'austin': 4160, 'sid': 4161, 'fog': 4162, 'judgment': 4163, 'seal': 4164, 'antonioni': 4165, 'unravel': 4166, 'expedit': 4167, 'polici': 4168, 'fenc': 4169, 'norm': 4170, 'click': 4171, 'debt': 4172, '2008': 4173, 'logan': 4174, 'fabric': 4175, 'ritual': 4176, '1995': 4177, 'trait': 4178, 'slam': 4179, 'tax': 4180, 'unfair': 4181, 'dreck': 4182, 'shanghai': 4183, 'roller': 4184, 'fought': 4185, 'fart': 4186, 'sunni': 4187, 'wretch': 4188, 'clerk': 4189, 'pocket': 4190, 'sustain': 4191, 'sheet': 4192, 'darn': 4193, 'enforc': 4194, 'conduct': 4195, 'malon': 4196, 'mode': 4197, 'behold': 4198, 'patienc': 4199, 'alec': 4200, '3000': 4201, 'wang': 4202, 'sand': 4203, 'hallucin': 4204, 'murray': 4205, 'joel': 4206, 'crippl': 4207, 'seldom': 4208, '1971': 4209, 'vanc': 4210, 'temper': 4211, 'bake': 4212, 'nicola': 4213, 'penni': 4214, 'shell': 4215, 'conscious': 4216, 'despis': 4217, 'guitar': 4218, 'stuart': 4219, 'preston': 4220, 'sweep': 4221, 'clau': 4222, 'tactic': 4223, 'runner': 4224, 'divid': 4225, 'canyon': 4226, 'outlin': 4227, 'helpless': 4228, 'legaci': 4229, 'stark': 4230, 'critiqu': 4231, 'soup': 4232, 'grief': 4233, 'preposter': 4234, 'bias': 4235, 'schedul': 4236, 'technicolor': 4237, 'scriptwrit': 4238, 'robber': 4239, 'phil': 4240, 'fundament': 4241, 'exhaust': 4242, 'pete': 4243, 'isabel': 4244, 'bridget': 4245, 'rita': 4246, 'squad': 4247, 'newman': 4248, 'unexpectedli': 4249, 'jodi': 4250, 'palanc': 4251, 'drove': 4252, 'rehash': 4253, 'vomit': 4254, 'consciou': 4255, 'lacklust': 4256, 'flair': 4257, 'alicia': 4258, 'russia': 4259, 'downey': 4260, 'kansa': 4261, 'rear': 4262, 'alley': 4263, 'delv': 4264, 'sniper': 4265, 'marc': 4266, 'gregori': 4267, 'passag': 4268, 'boyl': 4269, 'propos': 4270, 'agenc': 4271, 'implic': 4272, 'liberti': 4273, 'restrict': 4274, 'connor': 4275, 'invad': 4276, 'jacket': 4277, 'inabl': 4278, 'cigarett': 4279, 'culmin': 4280, 'sugar': 4281, 'bloom': 4282, 'sentinel': 4283, 'behaviour': 4284, 'vet': 4285, '22': 4286, 'aesthet': 4287, 'delet': 4288, 'karl': 4289, 'asylum': 4290, 'arrow': 4291, '1936': 4292, 'chainsaw': 4293, 'foxx': 4294, 'improb': 4295, 'tripe': 4296, 'awhil': 4297, 'lush': 4298, 'rod': 4299, 'pale': 4300, 'feat': 4301, 'kolchak': 4302, 'rampag': 4303, 'rehears': 4304, 'bacon': 4305, 'tendenc': 4306, 'sharon': 4307, 'cap': 4308, 'wrench': 4309, 'ladder': 4310, 'mccoy': 4311, 'horn': 4312, 'yeti': 4313, 'filler': 4314, 'prank': 4315, 'sung': 4316, 'minu': 4317, 'rumor': 4318, 'loneli': 4319, 'globe': 4320, 'stream': 4321, 'tasteless': 4322, 'suffici': 4323, '1978': 4324, 'basing': 4325, 'underneath': 4326, 'financ': 4327, 'shortcom': 4328, 'scoop': 4329, 'amazon': 4330, 'elit': 4331, '1920': 4332, 'conscienc': 4333, 'visitor': 4334, '1988': 4335, '19th': 4336, 'newcom': 4337, 'rhythm': 4338, 'hulk': 4339, 'wagner': 4340, 'paradis': 4341, 'suspicion': 4342, 'fright': 4343, 'weav': 4344, 'spice': 4345, 'lurk': 4346, 'paramount': 4347, 'el': 4348, 'hackney': 4349, 'wildli': 4350, 'aristocrat': 4351, 'tomorrow': 4352, 'hungri': 4353, 'thunderbird': 4354, 'coaster': 4355, 'immers': 4356, 'worship': 4357, 'cancer': 4358, 'literari': 4359, 'chamberlain': 4360, 'impos': 4361, 'naughti': 4362, 'heist': 4363, 'choppi': 4364, 'lectur': 4365, 'springer': 4366, 'quietli': 4367, 'leigh': 4368, 'recogniz': 4369, 'secondari': 4370, 'posey': 4371, 'chavez': 4372, 'counterpart': 4373, 'bread': 4374, 'penn': 4375, 'standout': 4376, 'ram': 4377, '1989': 4378, '75': 4379, 'abrupt': 4380, 'atroc': 4381, 'minist': 4382, 'ingeni': 4383, 'couch': 4384, 'tierney': 4385, 'beverli': 4386, 'grudg': 4387, 'en': 4388, 'dirt': 4389, 'wwe': 4390, 'teas': 4391, 'brit': 4392, 'rub': 4393, 'entranc': 4394, 'straightforward': 4395, 'paxton': 4396, 'smell': 4397, '1939': 4398, 'iv': 4399, 'curli': 4400, 'hopkin': 4401, 'inmat': 4402, 'laurenc': 4403, 'geni': 4404, 'convert': 4405, 'variat': 4406, 'bernard': 4407, 'watcher': 4408, '1986': 4409, 'ace': 4410, 'moreov': 4411, 'heartfelt': 4412, 'enthral': 4413, 'duel': 4414, 'clan': 4415, 'missil': 4416, 'sassi': 4417, 'skeptic': 4418, 'ratso': 4419, 'injuri': 4420, 'entitl': 4421, 'net': 4422, 'sublim': 4423, 'transcend': 4424, 'misguid': 4425, 'cattl': 4426, 'policeman': 4427, 'lindsay': 4428, 'nemesi': 4429, 'nolan': 4430, 'esther': 4431, 'morbid': 4432, 'yearn': 4433, 'quaid': 4434, 'attenborough': 4435, 'hk': 4436, 'setup': 4437, 'uncut': 4438, 'reliabl': 4439, 'steadi': 4440, 'characteris': 4441, 'kidman': 4442, 'brood': 4443, 'egg': 4444, 'out': 4445, '1979': 4446, 'carlito': 4447, 'dont': 4448, 'kitti': 4449, 'enabl': 4450, 'graini': 4451, 'rosemari': 4452, 'buzz': 4453, 'tyler': 4454, 'moder': 4455, 'cruelti': 4456, 'puppi': 4457, 'diari': 4458, 'hopelessli': 4459, 'spiral': 4460, 'poe': 4461, 'grin': 4462, 'bean': 4463, 'artsi': 4464, 'vader': 4465, 'obstacl': 4466, 'bye': 4467, 'facil': 4468, 'youngest': 4469, 'mytholog': 4470, 'unexplain': 4471, 'heap': 4472, 'oblig': 4473, 'effici': 4474, 'despic': 4475, 'athlet': 4476, 'decept': 4477, 'disastr': 4478, '1969': 4479, 'clueless': 4480, 'christin': 4481, 'martha': 4482, 'bewar': 4483, 'narrow': 4484, 'patricia': 4485, 'underworld': 4486, 'hain': 4487, 'exterior': 4488, 'bronson': 4489, 'baffl': 4490, 'spontan': 4491, 'bounc': 4492, 'preming': 4493, 'sweat': 4494, 'gillian': 4495, 'weather': 4496, 'acquaint': 4497, 'gina': 4498, 'fuel': 4499, 'hammi': 4500, 'kline': 4501, 'niec': 4502, 'brendan': 4503, 'sleepwalk': 4504, '19': 4505, 'mermaid': 4506, 'suprem': 4507, 'headach': 4508, 'dandi': 4509, 'candl': 4510, 'scar': 4511, 'goof': 4512, 'rome': 4513, 'loi': 4514, '73': 4515, 'virtu': 4516, 'dilemma': 4517, 'outlaw': 4518, 'enlist': 4519, 'astound': 4520, 'mayhem': 4521, 'analyz': 4522, 'taboo': 4523, 'tick': 4524, 'renaiss': 4525, 'viewpoint': 4526, 'hepburn': 4527, 'harmless': 4528, 'injur': 4529, 'preachi': 4530, 'biker': 4531, 'shatter': 4532, 'angst': 4533, 'uh': 4534, 'trigger': 4535, 'loath': 4536, 'housewif': 4537, 'circu': 4538, 'insipid': 4539, 'sooner': 4540, 'lester': 4541, 'fontain': 4542, 'redund': 4543, 'oldest': 4544, 'boston': 4545, 'bent': 4546, 'immatur': 4547, 'camcord': 4548, 'amor': 4549, 'slimi': 4550, 'filth': 4551, 'glorifi': 4552, 'phenomenon': 4553, 'guin': 4554, 'spade': 4555, 'scorses': 4556, 'hokey': 4557, 'zoom': 4558, 'macho': 4559, 'dismal': 4560, 'whore': 4561, 'fluff': 4562, 'steer': 4563, 'stimul': 4564, 'stair': 4565, 'idol': 4566, 'claustrophob': 4567, 'surgeri': 4568, 'sox': 4569, 'salt': 4570, 'hostag': 4571, 'gere': 4572, 'hooker': 4573, 'contempt': 4574, 'corbett': 4575, 'foolish': 4576, 'intric': 4577, 'ariel': 4578, 'dish': 4579, 'tripl': 4580, 'overlong': 4581, 'cassavet': 4582, 'ebert': 4583, 'flashi': 4584, 'cush': 4585, 'mutual': 4586, 'cow': 4587, 'transplant': 4588, 'trivia': 4589, '1976': 4590, 'assert': 4591, 'joker': 4592, 'beard': 4593, 'flirt': 4594, 'flag': 4595, 'mount': 4596, 'conquer': 4597, 'margin': 4598, 'corman': 4599, 'nolt': 4600, 'spinal': 4601, 'schlock': 4602, 'antagonist': 4603, 'shield': 4604, 'astronaut': 4605, 'gasp': 4606, 'rhyme': 4607, 'spree': 4608, 'obligatori': 4609, 'messi': 4610, 'fascist': 4611, 'proport': 4612, 'preced': 4613, 'keen': 4614, 'zane': 4615, 'radiat': 4616, 'cohen': 4617, 'remad': 4618, 'strongest': 4619, 'faint': 4620, 'muscl': 4621, 'harold': 4622, 'perman': 4623, 'naschi': 4624, 'shred': 4625, '1981': 4626, 'dwarf': 4627, 'widescreen': 4628, 'frantic': 4629, 'alvin': 4630, 'down': 4631, 'gabl': 4632, 'raj': 4633, 'boob': 4634, 'vaniti': 4635, 'off': 4636, 'info': 4637, 'departur': 4638, 'bitten': 4639, 'brush': 4640, 'interestingli': 4641, 'neurot': 4642, 'www': 4643, 'aborigin': 4644, 'strive': 4645, 'triangl': 4646, 'wield': 4647, 'someday': 4648, 'ritchi': 4649, 'danish': 4650, 'persuad': 4651, '95': 4652, 'hara': 4653, 'instruct': 4654, 'mobil': 4655, 'sensual': 4656, 'archiv': 4657, 'scandal': 4658, 'flock': 4659, 'resum': 4660, 'carey': 4661, 'bachelor': 4662, 'divin': 4663, 'repris': 4664, 'deer': 4665, 'claud': 4666, '28': 4667, '1945': 4668, 'discern': 4669, 'inflict': 4670, 'barn': 4671, 'fishburn': 4672, 'mol': 4673, 'senior': 4674, 'banter': 4675, 'proclaim': 4676, 'kathryn': 4677, 'neill': 4678, 'mobster': 4679, 'casino': 4680, 'prophet': 4681, 'anton': 4682, 'ish': 4683, 'miracul': 4684, 'axe': 4685, 'parson': 4686, 'bate': 4687, 'cycl': 4688, 'timberlak': 4689, 'luka': 4690, 'jade': 4691, 'carlo': 4692, 'undermin': 4693, 'hilar': 4694, 'traffic': 4695, 'fragil': 4696, 'hug': 4697, 'earnest': 4698, 'helm': 4699, 'recit': 4700, 'cher': 4701, 'colin': 4702, 'cb': 4703, 'rot': 4704, 'melissa': 4705, 'dame': 4706, 'biblic': 4707, 'harrison': 4708, 'heartwarm': 4709, 'pacif': 4710, 'cliffhang': 4711, 'hapless': 4712, 'clad': 4713, 'frontier': 4714, 'dim': 4715, 'pixar': 4716, 'artwork': 4717, 'vibrant': 4718, 'dylan': 4719, 'europa': 4720, 'submit': 4721, 'pickford': 4722, 'wendigo': 4723, 'loretta': 4724, 'static': 4725, 'foil': 4726, 'redneck': 4727, 'bikini': 4728, 'estrang': 4729, 'misfortun': 4730, 'holocaust': 4731, 'http': 4732, 'akin': 4733, 'feast': 4734, 'token': 4735, 'lucil': 4736, 'illus': 4737, 'winchest': 4738, 'rooki': 4739, 'shepherd': 4740, 'choke': 4741, 'sicken': 4742, 'seedi': 4743, 'lui': 4744, 'aris': 4745, 'cerebr': 4746, 'alexandr': 4747, 'pc': 4748, 'vile': 4749, 'wardrob': 4750, 'marlon': 4751, 'uma': 4752, 'toronto': 4753, 'jo': 4754, 'breakfast': 4755, 'isra': 4756, 'blatantli': 4757, 'articl': 4758, 'orphan': 4759, 'bondag': 4760, 'trier': 4761, 'nope': 4762, 'electron': 4763, 'northern': 4764, 'eli': 4765, 'mathieu': 4766, 'razor': 4767, 'flavor': 4768, 'legitim': 4769, 'milo': 4770, 'mason': 4771, 'jordan': 4772, 'venom': 4773, 'antholog': 4774, 'vanessa': 4775, 'comprehend': 4776, 'abund': 4777, 'smack': 4778, 'psych': 4779, 'shorter': 4780, 'ceremoni': 4781, 'cartoonish': 4782, 'knightley': 4783, 'styliz': 4784, 'howl': 4785, 'audrey': 4786, 'disregard': 4787, 'oppon': 4788, 'clinic': 4789, 'leather': 4790, 'huston': 4791, 'affleck': 4792, 'charlton': 4793, 'tack': 4794, 'linear': 4795, 'magician': 4796, 'feminin': 4797, 'swept': 4798, 'fifth': 4799, 'frog': 4800, 'gilbert': 4801, 'highway': 4802, 'outdat': 4803, 'ideolog': 4804, 'nightclub': 4805, 'glare': 4806, 'peer': 4807, 'dudley': 4808, 'deem': 4809, 'retriev': 4810, 'turd': 4811, 'wrestler': 4812, 'gunga': 4813, 'boyer': 4814, 'lifeless': 4815, 'energet': 4816, 'toe': 4817, 'plate': 4818, 'greet': 4819, 'spawn': 4820, 'einstein': 4821, 'chip': 4822, '4th': 4823, 'spine': 4824, 'breakdown': 4825, 'corn': 4826, 'sleaz': 4827, 'btw': 4828, 'bogu': 4829, 'cuban': 4830, 'bastard': 4831, 'senat': 4832, 'potter': 4833, '1994': 4834, '1991': 4835, 'phenomen': 4836, 'client': 4837, 'whack': 4838, 'lavish': 4839, 'conrad': 4840, 'summar': 4841, 'cemeteri': 4842, 'deliver': 4843, 'durat': 4844, 'evolut': 4845, 'braveheart': 4846, 'snatch': 4847, 'tara': 4848, 'moe': 4849, 'compris': 4850, 'salman': 4851, 'monument': 4852, 'uniformli': 4853, 'boo': 4854, 'lighter': 4855, 'newer': 4856, 'goldsworthi': 4857, 'mitch': 4858, 'collector': 4859, 'bori': 4860, 'kazan': 4861, 'alleg': 4862, 'constitut': 4863, 'luxuri': 4864, 'firmli': 4865, 'lex': 4866, 'ol': 4867, 'fluid': 4868, 'kent': 4869, 'bulk': 4870, 'wtf': 4871, 'pronounc': 4872, 'evelyn': 4873, 'embark': 4874, 'replay': 4875, 'spectacl': 4876, 'mcqueen': 4877, 'belli': 4878, 'armstrong': 4879, 'healthi': 4880, 'outright': 4881, 'undertak': 4882, 'undead': 4883, 'occup': 4884, 'jedi': 4885, 'historian': 4886, 'eleven': 4887, 'randolph': 4888, 'ie': 4889, '1977': 4890, 'creek': 4891, 'jare': 4892, 'appl': 4893, 'inaccuraci': 4894, 'jam': 4895, 'judd': 4896, 'cecil': 4897, 'signal': 4898, 'neatli': 4899, 'sorrow': 4900, '1974': 4901, 'trauma': 4902, 'gilliam': 4903, 'jule': 4904, 'capot': 4905, 'clara': 4906, 'liu': 4907, 'nina': 4908, 'antonio': 4909, 'decapit': 4910, 'miami': 4911, 'aussi': 4912, 'palm': 4913, 'congratul': 4914, 'kiddi': 4915, 'vignett': 4916, 'fruit': 4917, 'vain': 4918, 'comb': 4919, 'bsg': 4920, 'galaxi': 4921, 'pepper': 4922, 'spray': 4923, 'groan': 4924, 'propheci': 4925, 'poker': 4926, 'walt': 4927, 'relentless': 4928, 'id': 4929, 'blur': 4930, 'inaccur': 4931, 'ash': 4932, 'paula': 4933, 'mum': 4934, 'abound': 4935, 'unattract': 4936, 'curtain': 4937, 'roar': 4938, 'lauren': 4939, 'forgiven': 4940, 'lanc': 4941, 'pioneer': 4942, 'unsuspect': 4943, 'inclus': 4944, 'knee': 4945, 'subtli': 4946, 'genet': 4947, 'sacrif': 4948, 'comprehens': 4949, 'tokyo': 4950, 'rosario': 4951, '1985': 4952, 'meal': 4953, 'miniseri': 4954, 'cape': 4955, 'truman': 4956, 'sidewalk': 4957, 'porter': 4958, 'basket': 4959, 'conan': 4960, 'bait': 4961, 'goldblum': 4962, 'carmen': 4963, 'asset': 4964, 'dubiou': 4965, 'substanti': 4966, 'jill': 4967, 'motorcycl': 4968, 'cypher': 4969, 'hostil': 4970, 'growth': 4971, 'profil': 4972, 'incorrect': 4973, 'ghetto': 4974, 'modest': 4975, '21st': 4976, 'omin': 4977, 'bravo': 4978, 'victorian': 4979, 'orchestr': 4980, 'scariest': 4981, 'rapidli': 4982, 'scarfac': 4983, 'frontal': 4984, 'turtl': 4985, 'bach': 4986, 'masterson': 4987, 'assort': 4988, 'mice': 4989, 'hackman': 4990, 'macabr': 4991, 'weaker': 4992, 'spill': 4993, 'vastli': 4994, 'reincarn': 4995, 'detach': 4996, 'drone': 4997, 'handicap': 4998, 'casper': 4999}\n"
     ]
    }
   ],
   "source": [
    "print(word_dict)"
   ]
  },
  {
   "cell_type": "code",
   "execution_count": 18,
   "metadata": {},
   "outputs": [
    {
     "data": {
      "text/plain": [
       "2"
      ]
     },
     "execution_count": 18,
     "metadata": {},
     "output_type": "execute_result"
    }
   ],
   "source": [
    "word_dict.get('movi')"
   ]
  },
  {
   "cell_type": "markdown",
   "metadata": {},
   "source": [
    "**Question:** What are the five most frequently appearing (tokenized) words in the training set? Does it makes sense that these words appear frequently in the training set?"
   ]
  },
  {
   "cell_type": "markdown",
   "metadata": {},
   "source": [
    "**Answer:**"
   ]
  },
  {
   "cell_type": "markdown",
   "metadata": {},
   "source": [
    "# TODO: Use this space to determine the five most frequently appearing words in the training set.\n",
    "#print(list(word_dict)[0:5])\n",
    "\n",
    "\n",
    "The five most frequently appearing words in the training set are movi, film , one , like, time. It makes sense that these\n",
    "words appear frequently as they are common vocabulary words, hence can be expected to be widely used by users. \n"
   ]
  },
  {
   "cell_type": "markdown",
   "metadata": {},
   "source": [
    "### Save `word_dict`\n",
    "\n",
    "Later on when we construct an endpoint which processes a submitted review we will need to make use of the `word_dict` which we have created. As such, we will save it to a file now for future use."
   ]
  },
  {
   "cell_type": "code",
   "execution_count": 20,
   "metadata": {},
   "outputs": [],
   "source": [
    "data_dir = '../data/pytorch' # The folder we will use for storing data\n",
    "if not os.path.exists(data_dir): # Make sure that the folder exists\n",
    "    os.makedirs(data_dir)"
   ]
  },
  {
   "cell_type": "code",
   "execution_count": 21,
   "metadata": {},
   "outputs": [],
   "source": [
    "with open(os.path.join(data_dir, 'word_dict.pkl'), \"wb\") as f:\n",
    "    pickle.dump(word_dict, f)\n",
    "    \n",
    "#with open(os.path.join(data_dir, 'word_dict1.pkl'), \"wb\") as f:\n",
    "#    pickle.dump(word_dict1, f)"
   ]
  },
  {
   "cell_type": "markdown",
   "metadata": {},
   "source": [
    "### Transform the reviews\n",
    "\n",
    "Now that we have our word dictionary which allows us to transform the words appearing in the reviews into integers, it is time to make use of it and convert our reviews to their integer sequence representation, making sure to pad or truncate to a fixed length, which in our case is `500`."
   ]
  },
  {
   "cell_type": "code",
   "execution_count": 22,
   "metadata": {},
   "outputs": [],
   "source": [
    "def convert_and_pad(word_dict, sentence, pad=500):\n",
    "    NOWORD = 0 # We will use 0 to represent the 'no word' category\n",
    "    INFREQ = 1 # and we use 1 to represent the infrequent words, i.e., words not appearing in word_dict\n",
    "    \n",
    "    working_sentence = [NOWORD] * pad\n",
    "    \n",
    "    for word_index, word in enumerate(sentence[:pad]):\n",
    "        if word in word_dict:\n",
    "            working_sentence[word_index] = word_dict[word]\n",
    "        else:\n",
    "            working_sentence[word_index] = INFREQ\n",
    "            \n",
    "    return working_sentence, min(len(sentence), pad)\n",
    "\n",
    "def convert_and_pad_data(word_dict, data, pad=500):\n",
    "    result = []\n",
    "    lengths = []\n",
    "    \n",
    "    for sentence in data:\n",
    "        converted, leng = convert_and_pad(word_dict, sentence, pad)\n",
    "        result.append(converted)\n",
    "        lengths.append(leng)\n",
    "           \n",
    "    return np.array(result), np.array(lengths)"
   ]
  },
  {
   "cell_type": "code",
   "execution_count": 25,
   "metadata": {},
   "outputs": [
    {
     "name": "stdout",
     "output_type": "stream",
     "text": [
      "T\n",
      "Th\n",
      "This is a \n",
      "1413\n",
      "774\n",
      "629\n",
      "[]\n",
      "===============\n",
      "[]\n"
     ]
    }
   ],
   "source": [
    "working_sentence= [0] * 100\n",
    "result= []\n",
    "lengths = []\n",
    "for sentence in train_X1[:100]:\n",
    "    for word_index, word in enumerate(sentence[:100]):\n",
    "        if word in word_dict:\n",
    "            working_sentence[word_index]=word_dict[word]\n",
    "        else:\n",
    "            working_sentence[word_index]=1\n",
    "    \n",
    "result=working_sentence\n",
    "lengths=min(len(sentence), 10)\n",
    "print(sentence[:1])\n",
    "print(sentence[:2])\n",
    "print(sentence[:10])\n",
    "print(word_dict['trick'])\n",
    "print(word_dict['treat'])\n",
    "print(word_dict['80'])\n",
    "print(np.array(result1))\n",
    "print(\"===============\")\n",
    "print(np.array(lengths1))"
   ]
  },
  {
   "cell_type": "code",
   "execution_count": 26,
   "metadata": {},
   "outputs": [],
   "source": [
    "train_X, train_X_len = convert_and_pad_data(word_dict, train_X)\n",
    "test_X, test_X_len = convert_and_pad_data(word_dict, test_X)"
   ]
  },
  {
   "cell_type": "markdown",
   "metadata": {},
   "source": [
    "As a quick check to make sure that things are working as intended, check to see what one of the reviews in the training set looks like after having been processeed. Does this look reasonable? What is the length of a review in the training set?"
   ]
  },
  {
   "cell_type": "code",
   "execution_count": 27,
   "metadata": {},
   "outputs": [
    {
     "name": "stdout",
     "output_type": "stream",
     "text": [
      "[ 487    1  279  197  137  184  535  197  920   99   17   79  625  604\n",
      "    2    1  654   78  110    1    1    1    1  295  625  164  425  269\n",
      "  421 1239   27  287    2  148   21  187   12  173  287 2349 2580   91\n",
      "    1   95  222 3166 1480  604    2  838 1109  476   23  927  462  817\n",
      "  305    1 4095   55  888 2471  190  982  554 3638  741   55    1 2349\n",
      "  207  122  164  604    2   35  240 1192  321   18  917  148    2  147\n",
      "  158    2   34  168  244   18  240  406  448  530    1  104  102  164\n",
      "   53   42  134  452 1402  663   86   74   28  604   47  347 4019 2103\n",
      "  982  634  787  143 3486  591    1  113   78  402   63  263   29 1380\n",
      " 1506    1  477  215    2  604    2  123 1762  557 1338 3311   12    2\n",
      "  176    1 1436 1740    0    0    0    0    0    0    0    0    0    0\n",
      "    0    0    0    0    0    0    0    0    0    0    0    0    0    0\n",
      "    0    0    0    0    0    0    0    0    0    0    0    0    0    0\n",
      "    0    0    0    0    0    0    0    0    0    0    0    0    0    0\n",
      "    0    0    0    0    0    0    0    0    0    0    0    0    0    0\n",
      "    0    0    0    0    0    0    0    0    0    0    0    0    0    0\n",
      "    0    0    0    0    0    0    0    0    0    0    0    0    0    0\n",
      "    0    0    0    0    0    0    0    0    0    0    0    0    0    0\n",
      "    0    0    0    0    0    0    0    0    0    0    0    0    0    0\n",
      "    0    0    0    0    0    0    0    0    0    0    0    0    0    0\n",
      "    0    0    0    0    0    0    0    0    0    0    0    0    0    0\n",
      "    0    0    0    0    0    0    0    0    0    0    0    0    0    0\n",
      "    0    0    0    0    0    0    0    0    0    0    0    0    0    0\n",
      "    0    0    0    0    0    0    0    0    0    0    0    0    0    0\n",
      "    0    0    0    0    0    0    0    0    0    0    0    0    0    0\n",
      "    0    0    0    0    0    0    0    0    0    0    0    0    0    0\n",
      "    0    0    0    0    0    0    0    0    0    0    0    0    0    0\n",
      "    0    0    0    0    0    0    0    0    0    0    0    0    0    0\n",
      "    0    0    0    0    0    0    0    0    0    0    0    0    0    0\n",
      "    0    0    0    0    0    0    0    0    0    0    0    0    0    0\n",
      "    0    0    0    0    0    0    0    0    0    0    0    0    0    0\n",
      "    0    0    0    0    0    0    0    0    0    0    0    0    0    0\n",
      "    0    0    0    0    0    0    0    0    0    0    0    0    0    0\n",
      "    0    0    0    0    0    0    0    0    0    0    0    0    0    0\n",
      "    0    0    0    0    0    0    0    0    0    0    0    0    0    0\n",
      "    0    0    0    0    0    0    0    0    0    0]\n",
      "144\n"
     ]
    }
   ],
   "source": [
    "# Use this cell to examine one of the processed reviews to make sure everything is working as intended.\n",
    "\n",
    "print(train_X[0])\n",
    "print(train_X_len[0])"
   ]
  },
  {
   "cell_type": "markdown",
   "metadata": {},
   "source": [
    "**Question:** In the cells above we use the `preprocess_data` and `convert_and_pad_data` methods to process both the training and testing set. Why or why not might this be a problem?"
   ]
  },
  {
   "cell_type": "markdown",
   "metadata": {},
   "source": [
    "**Answer:**\n",
    "\n",
    "Using preprocess_data method to process the training and testing set is acceptable as within the method, testing and training set is processed separately.\n",
    "Using convert_and_pad_data method to process both the training and testing set is acceptable as the method return their respective output to different variables. Hence, there isn't any overlap of data between the training and testing set. Although the method uses the same word dictionary as a reference for both training and testing set, the word dictionary is derived from the training set and not from the testing set, so it may not lead to data leakage from the testing set.\n",
    "\n",
    "                   "
   ]
  },
  {
   "cell_type": "markdown",
   "metadata": {},
   "source": [
    "## Step 3: Upload the data to S3\n",
    "\n",
    "As in the XGBoost notebook, we will need to upload the training dataset to S3 in order for our training code to access it. For now we will save it locally and we will upload to S3 later on.\n",
    "\n",
    "### Save the processed training dataset locally\n",
    "\n",
    "It is important to note the format of the data that we are saving as we will need to know it when we write the training code. In our case, each row of the dataset has the form `label`, `length`, `review[500]` where `review[500]` is a sequence of `500` integers representing the words in the review."
   ]
  },
  {
   "cell_type": "code",
   "execution_count": 28,
   "metadata": {},
   "outputs": [],
   "source": [
    "import pandas as pd\n",
    "    \n",
    "pd.concat([pd.DataFrame(train_y), pd.DataFrame(train_X_len), pd.DataFrame(train_X)], axis=1) \\\n",
    "        .to_csv(os.path.join(data_dir, 'train.csv'), header=False, index=False)"
   ]
  },
  {
   "cell_type": "markdown",
   "metadata": {},
   "source": [
    "### Uploading the training data\n",
    "\n",
    "\n",
    "Next, we need to upload the training data to the SageMaker default S3 bucket so that we can provide access to it while training our model."
   ]
  },
  {
   "cell_type": "code",
   "execution_count": 29,
   "metadata": {},
   "outputs": [],
   "source": [
    "import sagemaker\n",
    "\n",
    "sagemaker_session = sagemaker.Session()\n",
    "\n",
    "bucket = sagemaker_session.default_bucket()\n",
    "prefix = 'sagemaker/sentiment_rnn'\n",
    "\n",
    "role = sagemaker.get_execution_role()"
   ]
  },
  {
   "cell_type": "code",
   "execution_count": 30,
   "metadata": {},
   "outputs": [],
   "source": [
    "input_data = sagemaker_session.upload_data(path=data_dir, bucket=bucket, key_prefix=prefix)"
   ]
  },
  {
   "cell_type": "markdown",
   "metadata": {},
   "source": [
    "**NOTE:** The cell above uploads the entire contents of our data directory. This includes the `word_dict.pkl` file. This is fortunate as we will need this later on when we create an endpoint that accepts an arbitrary review. For now, we will just take note of the fact that it resides in the data directory (and so also in the S3 training bucket) and that we will need to make sure it gets saved in the model directory."
   ]
  },
  {
   "cell_type": "markdown",
   "metadata": {},
   "source": [
    "## Step 4: Build and Train the PyTorch Model\n",
    "\n",
    "In the XGBoost notebook we discussed what a model is in the SageMaker framework. In particular, a model comprises three objects\n",
    "\n",
    " - Model Artifacts,\n",
    " - Training Code, and\n",
    " - Inference Code,\n",
    " \n",
    "each of which interact with one another. In the XGBoost example we used training and inference code that was provided by Amazon. Here we will still be using containers provided by Amazon with the added benefit of being able to include our own custom code.\n",
    "\n",
    "We will start by implementing our own neural network in PyTorch along with a training script. For the purposes of this project we have provided the necessary model object in the `model.py` file, inside of the `train` folder. You can see the provided implementation by running the cell below."
   ]
  },
  {
   "cell_type": "code",
   "execution_count": 31,
   "metadata": {},
   "outputs": [
    {
     "name": "stdout",
     "output_type": "stream",
     "text": [
      "\u001b[34mimport\u001b[39;49;00m \u001b[04m\u001b[36mtorch.nn\u001b[39;49;00m \u001b[34mas\u001b[39;49;00m \u001b[04m\u001b[36mnn\u001b[39;49;00m\r\n",
      "\r\n",
      "\u001b[34mclass\u001b[39;49;00m \u001b[04m\u001b[32mLSTMClassifier\u001b[39;49;00m(nn.Module):\r\n",
      "    \u001b[33m\"\"\"\u001b[39;49;00m\r\n",
      "\u001b[33m    This is the simple RNN model we will be using to perform Sentiment Analysis.\u001b[39;49;00m\r\n",
      "\u001b[33m    \"\"\"\u001b[39;49;00m\r\n",
      "\r\n",
      "    \u001b[34mdef\u001b[39;49;00m \u001b[32m__init__\u001b[39;49;00m(\u001b[36mself\u001b[39;49;00m, embedding_dim, hidden_dim, vocab_size):\r\n",
      "        \u001b[33m\"\"\"\u001b[39;49;00m\r\n",
      "\u001b[33m        Initialize the model by settingg up the various layers.\u001b[39;49;00m\r\n",
      "\u001b[33m        \"\"\"\u001b[39;49;00m\r\n",
      "        \u001b[36msuper\u001b[39;49;00m(LSTMClassifier, \u001b[36mself\u001b[39;49;00m).\u001b[32m__init__\u001b[39;49;00m()\r\n",
      "\r\n",
      "        \u001b[36mself\u001b[39;49;00m.embedding = nn.Embedding(vocab_size, embedding_dim, padding_idx=\u001b[34m0\u001b[39;49;00m)\r\n",
      "        \u001b[36mself\u001b[39;49;00m.lstm = nn.LSTM(embedding_dim, hidden_dim)\r\n",
      "        \u001b[36mself\u001b[39;49;00m.dense = nn.Linear(in_features=hidden_dim, out_features=\u001b[34m1\u001b[39;49;00m)\r\n",
      "        \u001b[36mself\u001b[39;49;00m.sig = nn.Sigmoid()\r\n",
      "        \r\n",
      "        \u001b[36mself\u001b[39;49;00m.word_dict = \u001b[36mNone\u001b[39;49;00m\r\n",
      "\r\n",
      "    \u001b[34mdef\u001b[39;49;00m \u001b[32mforward\u001b[39;49;00m(\u001b[36mself\u001b[39;49;00m, x):\r\n",
      "        \u001b[33m\"\"\"\u001b[39;49;00m\r\n",
      "\u001b[33m        Perform a forward pass of our model on some input.\u001b[39;49;00m\r\n",
      "\u001b[33m        \"\"\"\u001b[39;49;00m\r\n",
      "        x = x.t()\r\n",
      "        lengths = x[\u001b[34m0\u001b[39;49;00m,:]\r\n",
      "        reviews = x[\u001b[34m1\u001b[39;49;00m:,:]\r\n",
      "        embeds = \u001b[36mself\u001b[39;49;00m.embedding(reviews)\r\n",
      "        lstm_out, _ = \u001b[36mself\u001b[39;49;00m.lstm(embeds)\r\n",
      "        out = \u001b[36mself\u001b[39;49;00m.dense(lstm_out)\r\n",
      "        out = out[lengths - \u001b[34m1\u001b[39;49;00m, \u001b[36mrange\u001b[39;49;00m(\u001b[36mlen\u001b[39;49;00m(lengths))]\r\n",
      "        \u001b[34mreturn\u001b[39;49;00m \u001b[36mself\u001b[39;49;00m.sig(out.squeeze())\r\n"
     ]
    }
   ],
   "source": [
    "!pygmentize train/model.py"
   ]
  },
  {
   "cell_type": "markdown",
   "metadata": {},
   "source": [
    "The important takeaway from the implementation provided is that there are three parameters that we may wish to tweak to improve the performance of our model. These are the embedding dimension, the hidden dimension and the size of the vocabulary. We will likely want to make these parameters configurable in the training script so that if we wish to modify them we do not need to modify the script itself. We will see how to do this later on. To start we will write some of the training code in the notebook so that we can more easily diagnose any issues that arise.\n",
    "\n",
    "First we will load a small portion of the training data set to use as a sample. It would be very time consuming to try and train the model completely in the notebook as we do not have access to a gpu and the compute instance that we are using is not particularly powerful. However, we can work on a small bit of the data to get a feel for how our training script is behaving."
   ]
  },
  {
   "cell_type": "code",
   "execution_count": 32,
   "metadata": {},
   "outputs": [],
   "source": [
    "import torch\n",
    "import torch.utils.data\n",
    "\n",
    "# Read in only the first 250 rows\n",
    "train_sample = pd.read_csv(os.path.join(data_dir, 'train.csv'), header=None, names=None, nrows=250)\n",
    "\n",
    "# Turn the input pandas dataframe into tensors\n",
    "train_sample_y = torch.from_numpy(train_sample[[0]].values).float().squeeze()\n",
    "train_sample_X = torch.from_numpy(train_sample.drop([0], axis=1).values).long()\n",
    "\n",
    "# Build the dataset\n",
    "train_sample_ds = torch.utils.data.TensorDataset(train_sample_X, train_sample_y)\n",
    "# Build the dataloader\n",
    "train_sample_dl = torch.utils.data.DataLoader(train_sample_ds, batch_size=50)"
   ]
  },
  {
   "cell_type": "markdown",
   "metadata": {},
   "source": [
    "### (TODO) Writing the training method\n",
    "\n",
    "Next we need to write the training code itself. This should be very similar to training methods that you have written before to train PyTorch models. We will leave any difficult aspects such as model saving / loading and parameter loading until a little later."
   ]
  },
  {
   "cell_type": "code",
   "execution_count": 33,
   "metadata": {},
   "outputs": [],
   "source": [
    "def train(model, train_loader, epochs, optimizer, loss_fn, device):\n",
    "    for epoch in range(1, epochs + 1):\n",
    "        model.train()\n",
    "        total_loss = 0\n",
    "        for batch in train_loader:         \n",
    "            batch_X, batch_y = batch\n",
    "            # zero the parameter gradients\n",
    "            optimizer.zero_grad()\n",
    "            \n",
    "            batch_X = batch_X.to(device)\n",
    "            batch_y = batch_y.to(device)\n",
    "            \n",
    "            outputs = model(batch_X)\n",
    "            loss = loss_fn(outputs, batch_y)\n",
    "            loss.backward()\n",
    "            \n",
    "            \n",
    "            \n",
    "            # TODO: Complete this train method to train the model provided.\n",
    "            optimizer.step()\n",
    "            \n",
    "            total_loss += loss.data.item()\n",
    "        print(\"Epoch: {}, BCELoss: {}\".format(epoch, total_loss / len(train_loader)))"
   ]
  },
  {
   "cell_type": "markdown",
   "metadata": {},
   "source": [
    "Supposing we have the training method above, we will test that it is working by writing a bit of code in the notebook that executes our training method on the small sample training set that we loaded earlier. The reason for doing this in the notebook is so that we have an opportunity to fix any errors that arise early when they are easier to diagnose."
   ]
  },
  {
   "cell_type": "code",
   "execution_count": 34,
   "metadata": {},
   "outputs": [
    {
     "name": "stdout",
     "output_type": "stream",
     "text": [
      "Epoch: 1, BCELoss: 0.6924591779708862\n",
      "Epoch: 2, BCELoss: 0.6808514595031738\n",
      "Epoch: 3, BCELoss: 0.6701670289039612\n",
      "Epoch: 4, BCELoss: 0.6582758545875549\n",
      "Epoch: 5, BCELoss: 0.6439517974853516\n"
     ]
    }
   ],
   "source": [
    "import torch.optim as optim\n",
    "from train.model import LSTMClassifier\n",
    "\n",
    "device = torch.device(\"cuda\" if torch.cuda.is_available() else \"cpu\")\n",
    "model = LSTMClassifier(32, 100, 5000).to(device)\n",
    "optimizer = optim.Adam(model.parameters())\n",
    "loss_fn = torch.nn.BCELoss()\n",
    "\n",
    "train(model, train_sample_dl, 5, optimizer, loss_fn, device)"
   ]
  },
  {
   "cell_type": "markdown",
   "metadata": {},
   "source": [
    "In order to construct a PyTorch model using SageMaker we must provide SageMaker with a training script. We may optionally include a directory which will be copied to the container and from which our training code will be run. When the training container is executed it will check the uploaded directory (if there is one) for a `requirements.txt` file and install any required Python libraries, after which the training script will be run."
   ]
  },
  {
   "cell_type": "markdown",
   "metadata": {},
   "source": [
    "### (TODO) Training the model\n",
    "\n",
    "When a PyTorch model is constructed in SageMaker, an entry point must be specified. This is the Python file which will be executed when the model is trained. Inside of the `train` directory is a file called `train.py` which has been provided and which contains most of the necessary code to train our model. The only thing that is missing is the implementation of the `train()` method which you wrote earlier in this notebook.\n",
    "\n",
    "**TODO**: Copy the `train()` method written above and paste it into the `train/train.py` file where required.\n",
    "\n",
    "The way that SageMaker passes hyperparameters to the training script is by way of arguments. These arguments can then be parsed and used in the training script. To see how this is done take a look at the provided `train/train.py` file."
   ]
  },
  {
   "cell_type": "code",
   "execution_count": 35,
   "metadata": {},
   "outputs": [],
   "source": [
    "from sagemaker.pytorch import PyTorch\n",
    "\n",
    "estimator = PyTorch(entry_point=\"train.py\",\n",
    "                    source_dir=\"train\",\n",
    "                    role=role,\n",
    "                    framework_version='0.4.0',\n",
    "                    train_instance_count=1,\n",
    "                    train_instance_type='ml.p2.xlarge',\n",
    "                    hyperparameters={\n",
    "                        'epochs': 10,\n",
    "                        'hidden_dim': 200,\n",
    "                    })"
   ]
  },
  {
   "cell_type": "code",
   "execution_count": 36,
   "metadata": {},
   "outputs": [
    {
     "name": "stdout",
     "output_type": "stream",
     "text": [
      "2020-03-05 01:51:58 Starting - Starting the training job...\n",
      "2020-03-05 01:52:01 Starting - Launching requested ML instances......\n",
      "2020-03-05 01:53:04 Starting - Preparing the instances for training......\n",
      "2020-03-05 01:54:04 Downloading - Downloading input data...\n",
      "2020-03-05 01:54:39 Training - Downloading the training image..\u001b[34mbash: cannot set terminal process group (-1): Inappropriate ioctl for device\u001b[0m\n",
      "\u001b[34mbash: no job control in this shell\u001b[0m\n",
      "\u001b[34m2020-03-05 01:55:11,548 sagemaker-containers INFO     Imported framework sagemaker_pytorch_container.training\u001b[0m\n",
      "\u001b[34m2020-03-05 01:55:11,572 sagemaker_pytorch_container.training INFO     Block until all host DNS lookups succeed.\u001b[0m\n",
      "\u001b[34m2020-03-05 01:55:11,575 sagemaker_pytorch_container.training INFO     Invoking user training script.\u001b[0m\n",
      "\u001b[34m2020-03-05 01:55:11,783 sagemaker-containers INFO     Module train does not provide a setup.py. \u001b[0m\n",
      "\u001b[34mGenerating setup.py\u001b[0m\n",
      "\u001b[34m2020-03-05 01:55:11,783 sagemaker-containers INFO     Generating setup.cfg\u001b[0m\n",
      "\u001b[34m2020-03-05 01:55:11,783 sagemaker-containers INFO     Generating MANIFEST.in\u001b[0m\n",
      "\u001b[34m2020-03-05 01:55:11,783 sagemaker-containers INFO     Installing module with the following command:\u001b[0m\n",
      "\u001b[34m/usr/bin/python -m pip install -U . -r requirements.txt\u001b[0m\n",
      "\u001b[34mProcessing /opt/ml/code\u001b[0m\n",
      "\u001b[34mCollecting pandas (from -r requirements.txt (line 1))\n",
      "  Downloading https://files.pythonhosted.org/packages/74/24/0cdbf8907e1e3bc5a8da03345c23cbed7044330bb8f73bb12e711a640a00/pandas-0.24.2-cp35-cp35m-manylinux1_x86_64.whl (10.0MB)\u001b[0m\n",
      "\u001b[34mCollecting numpy (from -r requirements.txt (line 2))\n",
      "  Downloading https://files.pythonhosted.org/packages/52/e6/1715e592ef47f28f3f50065322423bb75619ed2f7c24be86380ecc93503c/numpy-1.18.1-cp35-cp35m-manylinux1_x86_64.whl (19.9MB)\u001b[0m\n",
      "\u001b[34mCollecting nltk (from -r requirements.txt (line 3))\n",
      "  Downloading https://files.pythonhosted.org/packages/f6/1d/d925cfb4f324ede997f6d47bea4d9babba51b49e87a767c170b77005889d/nltk-3.4.5.zip (1.5MB)\u001b[0m\n",
      "\u001b[34mCollecting beautifulsoup4 (from -r requirements.txt (line 4))\n",
      "  Downloading https://files.pythonhosted.org/packages/cb/a1/c698cf319e9cfed6b17376281bd0efc6bfc8465698f54170ef60a485ab5d/beautifulsoup4-4.8.2-py3-none-any.whl (106kB)\u001b[0m\n",
      "\u001b[34mCollecting html5lib (from -r requirements.txt (line 5))\n",
      "  Downloading https://files.pythonhosted.org/packages/a5/62/bbd2be0e7943ec8504b517e62bab011b4946e1258842bc159e5dfde15b96/html5lib-1.0.1-py2.py3-none-any.whl (117kB)\u001b[0m\n",
      "\u001b[34mCollecting pytz>=2011k (from pandas->-r requirements.txt (line 1))\n",
      "  Downloading https://files.pythonhosted.org/packages/e7/f9/f0b53f88060247251bf481fa6ea62cd0d25bf1b11a87888e53ce5b7c8ad2/pytz-2019.3-py2.py3-none-any.whl (509kB)\u001b[0m\n",
      "\u001b[34mRequirement already satisfied, skipping upgrade: python-dateutil>=2.5.0 in /usr/local/lib/python3.5/dist-packages (from pandas->-r requirements.txt (line 1)) (2.7.5)\u001b[0m\n",
      "\u001b[34mRequirement already satisfied, skipping upgrade: six in /usr/local/lib/python3.5/dist-packages (from nltk->-r requirements.txt (line 3)) (1.11.0)\u001b[0m\n",
      "\u001b[34mCollecting soupsieve>=1.2 (from beautifulsoup4->-r requirements.txt (line 4))\n",
      "  Downloading https://files.pythonhosted.org/packages/05/cf/ea245e52f55823f19992447b008bcbb7f78efc5960d77f6c34b5b45b36dd/soupsieve-2.0-py2.py3-none-any.whl\u001b[0m\n",
      "\u001b[34mCollecting webencodings (from html5lib->-r requirements.txt (line 5))\n",
      "  Downloading https://files.pythonhosted.org/packages/f4/24/2a3e3df732393fed8b3ebf2ec078f05546de641fe1b667ee316ec1dcf3b7/webencodings-0.5.1-py2.py3-none-any.whl\u001b[0m\n",
      "\u001b[34mBuilding wheels for collected packages: nltk, train\n",
      "  Running setup.py bdist_wheel for nltk: started\u001b[0m\n",
      "\n",
      "2020-03-05 01:55:10 Training - Training image download completed. Training in progress.\u001b[34m  Running setup.py bdist_wheel for nltk: finished with status 'done'\n",
      "  Stored in directory: /root/.cache/pip/wheels/96/86/f6/68ab24c23f207c0077381a5e3904b2815136b879538a24b483\n",
      "  Running setup.py bdist_wheel for train: started\n",
      "  Running setup.py bdist_wheel for train: finished with status 'done'\n",
      "  Stored in directory: /tmp/pip-ephem-wheel-cache-zxl3inui/wheels/35/24/16/37574d11bf9bde50616c67372a334f94fa8356bc7164af8ca3\u001b[0m\n",
      "\u001b[34mSuccessfully built nltk train\u001b[0m\n",
      "\u001b[34mInstalling collected packages: numpy, pytz, pandas, nltk, soupsieve, beautifulsoup4, webencodings, html5lib, train\n",
      "  Found existing installation: numpy 1.15.4\u001b[0m\n",
      "\u001b[34m    Uninstalling numpy-1.15.4:\n",
      "      Successfully uninstalled numpy-1.15.4\u001b[0m\n",
      "\u001b[34mSuccessfully installed beautifulsoup4-4.8.2 html5lib-1.0.1 nltk-3.4.5 numpy-1.18.1 pandas-0.24.2 pytz-2019.3 soupsieve-2.0 train-1.0.0 webencodings-0.5.1\u001b[0m\n",
      "\u001b[34mYou are using pip version 18.1, however version 20.0.2 is available.\u001b[0m\n",
      "\u001b[34mYou should consider upgrading via the 'pip install --upgrade pip' command.\u001b[0m\n",
      "\u001b[34m2020-03-05 01:55:23,570 sagemaker-containers INFO     Invoking user script\n",
      "\u001b[0m\n",
      "\u001b[34mTraining Env:\n",
      "\u001b[0m\n",
      "\u001b[34m{\n",
      "    \"input_data_config\": {\n",
      "        \"training\": {\n",
      "            \"TrainingInputMode\": \"File\",\n",
      "            \"S3DistributionType\": \"FullyReplicated\",\n",
      "            \"RecordWrapperType\": \"None\"\n",
      "        }\n",
      "    },\n",
      "    \"user_entry_point\": \"train.py\",\n",
      "    \"hosts\": [\n",
      "        \"algo-1\"\n",
      "    ],\n",
      "    \"module_name\": \"train\",\n",
      "    \"output_data_dir\": \"/opt/ml/output/data\",\n",
      "    \"channel_input_dirs\": {\n",
      "        \"training\": \"/opt/ml/input/data/training\"\n",
      "    },\n",
      "    \"module_dir\": \"s3://sagemaker-ap-southeast-1-876828306900/sagemaker-pytorch-2020-03-05-01-51-56-358/source/sourcedir.tar.gz\",\n",
      "    \"framework_module\": \"sagemaker_pytorch_container.training:main\",\n",
      "    \"num_cpus\": 4,\n",
      "    \"log_level\": 20,\n",
      "    \"output_intermediate_dir\": \"/opt/ml/output/intermediate\",\n",
      "    \"job_name\": \"sagemaker-pytorch-2020-03-05-01-51-56-358\",\n",
      "    \"additional_framework_parameters\": {},\n",
      "    \"input_dir\": \"/opt/ml/input\",\n",
      "    \"resource_config\": {\n",
      "        \"hosts\": [\n",
      "            \"algo-1\"\n",
      "        ],\n",
      "        \"current_host\": \"algo-1\",\n",
      "        \"network_interface_name\": \"eth0\"\n",
      "    },\n",
      "    \"network_interface_name\": \"eth0\",\n",
      "    \"hyperparameters\": {\n",
      "        \"epochs\": 10,\n",
      "        \"hidden_dim\": 200\n",
      "    },\n",
      "    \"input_config_dir\": \"/opt/ml/input/config\",\n",
      "    \"model_dir\": \"/opt/ml/model\",\n",
      "    \"output_dir\": \"/opt/ml/output\",\n",
      "    \"current_host\": \"algo-1\",\n",
      "    \"num_gpus\": 1\u001b[0m\n",
      "\u001b[34m}\n",
      "\u001b[0m\n",
      "\u001b[34mEnvironment variables:\n",
      "\u001b[0m\n",
      "\u001b[34mSM_OUTPUT_INTERMEDIATE_DIR=/opt/ml/output/intermediate\u001b[0m\n",
      "\u001b[34mSM_RESOURCE_CONFIG={\"current_host\":\"algo-1\",\"hosts\":[\"algo-1\"],\"network_interface_name\":\"eth0\"}\u001b[0m\n",
      "\u001b[34mSM_MODULE_DIR=s3://sagemaker-ap-southeast-1-876828306900/sagemaker-pytorch-2020-03-05-01-51-56-358/source/sourcedir.tar.gz\u001b[0m\n",
      "\u001b[34mSM_INPUT_DIR=/opt/ml/input\u001b[0m\n",
      "\u001b[34mPYTHONPATH=/usr/local/bin:/usr/lib/python35.zip:/usr/lib/python3.5:/usr/lib/python3.5/plat-x86_64-linux-gnu:/usr/lib/python3.5/lib-dynload:/usr/local/lib/python3.5/dist-packages:/usr/lib/python3/dist-packages\u001b[0m\n",
      "\u001b[34mSM_MODULE_NAME=train\u001b[0m\n",
      "\u001b[34mSM_NETWORK_INTERFACE_NAME=eth0\u001b[0m\n",
      "\u001b[34mSM_INPUT_DATA_CONFIG={\"training\":{\"RecordWrapperType\":\"None\",\"S3DistributionType\":\"FullyReplicated\",\"TrainingInputMode\":\"File\"}}\u001b[0m\n",
      "\u001b[34mSM_MODEL_DIR=/opt/ml/model\u001b[0m\n",
      "\u001b[34mSM_TRAINING_ENV={\"additional_framework_parameters\":{},\"channel_input_dirs\":{\"training\":\"/opt/ml/input/data/training\"},\"current_host\":\"algo-1\",\"framework_module\":\"sagemaker_pytorch_container.training:main\",\"hosts\":[\"algo-1\"],\"hyperparameters\":{\"epochs\":10,\"hidden_dim\":200},\"input_config_dir\":\"/opt/ml/input/config\",\"input_data_config\":{\"training\":{\"RecordWrapperType\":\"None\",\"S3DistributionType\":\"FullyReplicated\",\"TrainingInputMode\":\"File\"}},\"input_dir\":\"/opt/ml/input\",\"job_name\":\"sagemaker-pytorch-2020-03-05-01-51-56-358\",\"log_level\":20,\"model_dir\":\"/opt/ml/model\",\"module_dir\":\"s3://sagemaker-ap-southeast-1-876828306900/sagemaker-pytorch-2020-03-05-01-51-56-358/source/sourcedir.tar.gz\",\"module_name\":\"train\",\"network_interface_name\":\"eth0\",\"num_cpus\":4,\"num_gpus\":1,\"output_data_dir\":\"/opt/ml/output/data\",\"output_dir\":\"/opt/ml/output\",\"output_intermediate_dir\":\"/opt/ml/output/intermediate\",\"resource_config\":{\"current_host\":\"algo-1\",\"hosts\":[\"algo-1\"],\"network_interface_name\":\"eth0\"},\"user_entry_point\":\"train.py\"}\u001b[0m\n",
      "\u001b[34mSM_CHANNEL_TRAINING=/opt/ml/input/data/training\u001b[0m\n",
      "\u001b[34mSM_CURRENT_HOST=algo-1\u001b[0m\n",
      "\u001b[34mSM_NUM_CPUS=4\u001b[0m\n",
      "\u001b[34mSM_FRAMEWORK_PARAMS={}\u001b[0m\n",
      "\u001b[34mSM_HP_EPOCHS=10\u001b[0m\n",
      "\u001b[34mSM_HP_HIDDEN_DIM=200\u001b[0m\n",
      "\u001b[34mSM_OUTPUT_DIR=/opt/ml/output\u001b[0m\n",
      "\u001b[34mSM_HOSTS=[\"algo-1\"]\u001b[0m\n",
      "\u001b[34mSM_FRAMEWORK_MODULE=sagemaker_pytorch_container.training:main\u001b[0m\n",
      "\u001b[34mSM_CHANNELS=[\"training\"]\u001b[0m\n",
      "\u001b[34mSM_USER_ENTRY_POINT=train.py\u001b[0m\n",
      "\u001b[34mSM_USER_ARGS=[\"--epochs\",\"10\",\"--hidden_dim\",\"200\"]\u001b[0m\n",
      "\u001b[34mSM_HPS={\"epochs\":10,\"hidden_dim\":200}\u001b[0m\n",
      "\u001b[34mSM_LOG_LEVEL=20\u001b[0m\n",
      "\u001b[34mSM_NUM_GPUS=1\u001b[0m\n",
      "\u001b[34mSM_INPUT_CONFIG_DIR=/opt/ml/input/config\u001b[0m\n",
      "\u001b[34mSM_OUTPUT_DATA_DIR=/opt/ml/output/data\n",
      "\u001b[0m\n",
      "\u001b[34mInvoking script with the following command:\n",
      "\u001b[0m\n",
      "\u001b[34m/usr/bin/python -m train --epochs 10 --hidden_dim 200\n",
      "\n",
      "\u001b[0m\n",
      "\u001b[34mUsing device cuda.\u001b[0m\n",
      "\u001b[34mGet train data loader.\u001b[0m\n"
     ]
    },
    {
     "name": "stdout",
     "output_type": "stream",
     "text": [
      "\u001b[34mModel loaded with embedding_dim 32, hidden_dim 200, vocab_size 5000.\u001b[0m\n",
      "\u001b[34mEpoch: 1, BCELoss: 0.6714202652172166\u001b[0m\n",
      "\u001b[34mEpoch: 2, BCELoss: 0.5855162958709561\u001b[0m\n",
      "\u001b[34mEpoch: 3, BCELoss: 0.4826615556162231\u001b[0m\n",
      "\u001b[34mEpoch: 4, BCELoss: 0.43010715440827973\u001b[0m\n",
      "\u001b[34mEpoch: 5, BCELoss: 0.38749969613795376\u001b[0m\n",
      "\u001b[34mEpoch: 6, BCELoss: 0.3572156167760187\u001b[0m\n",
      "\u001b[34mEpoch: 7, BCELoss: 0.33646819421223234\u001b[0m\n",
      "\u001b[34mEpoch: 8, BCELoss: 0.3058553447528761\u001b[0m\n",
      "\u001b[34mEpoch: 9, BCELoss: 0.28842996456185166\u001b[0m\n",
      "\n",
      "2020-03-05 01:58:29 Uploading - Uploading generated training model\n",
      "2020-03-05 01:58:29 Completed - Training job completed\n",
      "\u001b[34mEpoch: 10, BCELoss: 0.3093633527050213\u001b[0m\n",
      "\u001b[34m2020-03-05 01:58:19,532 sagemaker-containers INFO     Reporting training SUCCESS\u001b[0m\n",
      "Training seconds: 265\n",
      "Billable seconds: 265\n"
     ]
    }
   ],
   "source": [
    "estimator.fit({'training': input_data})"
   ]
  },
  {
   "cell_type": "markdown",
   "metadata": {},
   "source": [
    "## Step 5: Testing the model\n",
    "\n",
    "As mentioned at the top of this notebook, we will be testing this model by first deploying it and then sending the testing data to the deployed endpoint. We will do this so that we can make sure that the deployed model is working correctly.\n",
    "\n",
    "## Step 6: Deploy the model for testing\n",
    "\n",
    "Now that we have trained our model, we would like to test it to see how it performs. Currently our model takes input of the form `review_length, review[500]` where `review[500]` is a sequence of `500` integers which describe the words present in the review, encoded using `word_dict`. Fortunately for us, SageMaker provides built-in inference code for models with simple inputs such as this.\n",
    "\n",
    "There is one thing that we need to provide, however, and that is a function which loads the saved model. This function must be called `model_fn()` and takes as its only parameter a path to the directory where the model artifacts are stored. This function must also be present in the python file which we specified as the entry point. In our case the model loading function has been provided and so no changes need to be made.\n",
    "\n",
    "**NOTE**: When the built-in inference code is run it must import the `model_fn()` method from the `train.py` file. This is why the training code is wrapped in a main guard ( ie, `if __name__ == '__main__':` )\n",
    "\n",
    "Since we don't need to change anything in the code that was uploaded during training, we can simply deploy the current model as-is.\n",
    "\n",
    "**NOTE:** When deploying a model you are asking SageMaker to launch an compute instance that will wait for data to be sent to it. As a result, this compute instance will continue to run until *you* shut it down. This is important to know since the cost of a deployed endpoint depends on how long it has been running for.\n",
    "\n",
    "In other words **If you are no longer using a deployed endpoint, shut it down!**\n",
    "\n",
    "**TODO:** Deploy the trained model."
   ]
  },
  {
   "cell_type": "code",
   "execution_count": 37,
   "metadata": {},
   "outputs": [
    {
     "name": "stdout",
     "output_type": "stream",
     "text": [
      "---------------!"
     ]
    }
   ],
   "source": [
    "# TODO: Deploy the trained model\n",
    "# Deploy my estimator to a SageMaker Endpoint and get a Predictor\n",
    "predictor = estimator.deploy(instance_type='ml.p2.xlarge',\n",
    "                                     initial_instance_count=1)\n"
   ]
  },
  {
   "cell_type": "markdown",
   "metadata": {},
   "source": [
    "## Step 7 - Use the model for testing\n",
    "\n",
    "Once deployed, we can read in the test data and send it off to our deployed model to get some results. Once we collect all of the results we can determine how accurate our model is."
   ]
  },
  {
   "cell_type": "code",
   "execution_count": 38,
   "metadata": {},
   "outputs": [],
   "source": [
    "test_X = pd.concat([pd.DataFrame(test_X_len), pd.DataFrame(test_X)], axis=1)"
   ]
  },
  {
   "cell_type": "code",
   "execution_count": 39,
   "metadata": {},
   "outputs": [],
   "source": [
    "# We split the data into chunks and send each chunk seperately, accumulating the results.\n",
    "\n",
    "def predict(data, rows=512):\n",
    "    split_array = np.array_split(data, int(data.shape[0] / float(rows) + 1))\n",
    "    predictions = np.array([])\n",
    "    for array in split_array:\n",
    "        predictions = np.append(predictions, predictor.predict(array))\n",
    "    \n",
    "    return predictions"
   ]
  },
  {
   "cell_type": "code",
   "execution_count": 40,
   "metadata": {},
   "outputs": [],
   "source": [
    "predictions = predict(test_X.values)\n",
    "predictions = [round(num) for num in predictions]"
   ]
  },
  {
   "cell_type": "code",
   "execution_count": 41,
   "metadata": {},
   "outputs": [
    {
     "data": {
      "text/plain": [
       "0.85048"
      ]
     },
     "execution_count": 41,
     "metadata": {},
     "output_type": "execute_result"
    }
   ],
   "source": [
    "from sklearn.metrics import accuracy_score\n",
    "accuracy_score(test_y, predictions)"
   ]
  },
  {
   "cell_type": "markdown",
   "metadata": {},
   "source": [
    "**Question:** How does this model compare to the XGBoost model you created earlier? Why might these two models perform differently on this dataset? Which do *you* think is better for sentiment analysis?"
   ]
  },
  {
   "cell_type": "markdown",
   "metadata": {},
   "source": [
    "**Answer:**\n",
    "\n",
    "Prior to hyperparameter tuning, my XGBoost model in the previous tutorial exercise returns an accuracy score (0.86272) higher than this Pytorch LSTMClassifier model (0.85048). The two models perform differently on the dataset because they are different algorithms - XGBoost is an optimized distributed gradient boosting library that is based on decision-tree [1] while LSTMClassifier is an artificial recurrent neural network (RNN) architecture [2] . I think that XGBoost is better for supervised sentiment analysis organized in a tabular format. LSTMCLassifier may perform better for datasets with embedded layers [3] . \n",
    "\n",
    "\n",
    "[1]https://xgboost.readthedocs.io/en/latest/\n",
    "[2]https://en.wikipedia.org/wiki/Long_short-term_memory\n",
    "[3]https://towardsdatascience.com/how-to-gain-state-of-the-art-result-on-tabular-data-with-deep-learning-and-embedding-layers-d1eb6b83c52c"
   ]
  },
  {
   "cell_type": "markdown",
   "metadata": {},
   "source": [
    "### (TODO) More testing\n",
    "\n",
    "We now have a trained model which has been deployed and which we can send processed reviews to and which returns the predicted sentiment. However, ultimately we would like to be able to send our model an unprocessed review. That is, we would like to send the review itself as a string. For example, suppose we wish to send the following review to our model."
   ]
  },
  {
   "cell_type": "code",
   "execution_count": 42,
   "metadata": {},
   "outputs": [],
   "source": [
    "test_review = 'The simplest pleasures in life are the best, and this film is one of them. Combining a rather basic storyline of love and adventure this movie transcends the usual weekend fair with wit and unmitigated charm.'\n",
    "\n",
    "\n"
   ]
  },
  {
   "cell_type": "markdown",
   "metadata": {},
   "source": [
    "The question we now need to answer is, how do we send this review to our model?\n",
    "\n",
    "Recall in the first section of this notebook we did a bunch of data processing to the IMDb dataset. In particular, we did two specific things to the provided reviews.\n",
    " - Removed any html tags and stemmed the input\n",
    " - Encoded the review as a sequence of integers using `word_dict`\n",
    " \n",
    "In order process the review we will need to repeat these two steps.\n",
    "\n",
    "**TODO**: Using the `review_to_words` and `convert_and_pad` methods from section one, convert `test_review` into a numpy array `test_data` suitable to send to our model. Remember that our model expects input of the form `review_length, review[500]`."
   ]
  },
  {
   "cell_type": "code",
   "execution_count": 43,
   "metadata": {},
   "outputs": [
    {
     "data": {
      "text/plain": [
       "array(0.6143388, dtype=float32)"
      ]
     },
     "execution_count": 43,
     "metadata": {},
     "output_type": "execute_result"
    }
   ],
   "source": [
    "# TODO: Convert test_review into a form usable by the model and save the results in test_data\n",
    "test_words = review_to_words(test_review)\n",
    "test_review_words,test_reviewlength=convert_and_pad(word_dict,test_words)\n",
    "test_reviewlength\n",
    "test_data=np.array([test_review_words])\n",
    "\n",
    "predictor.predict(test_data)"
   ]
  },
  {
   "cell_type": "code",
   "execution_count": 44,
   "metadata": {},
   "outputs": [
    {
     "data": {
      "text/plain": [
       "array(0.12254813, dtype=float32)"
      ]
     },
     "execution_count": 44,
     "metadata": {},
     "output_type": "execute_result"
    }
   ],
   "source": [
    "#trying out on a bad review\n",
    "bad_review=\"this movie is horrible, a trashy film, a waste of time!!\"\n",
    "bad_words=review_to_words(bad_review)\n",
    "bad_review_words,bad_reviewlength=convert_and_pad(word_dict,bad_words)\n",
    "bad_data=np.array([bad_review_words])\n",
    "predictor.predict(bad_data)"
   ]
  },
  {
   "cell_type": "markdown",
   "metadata": {},
   "source": [
    "Now that we have processed the review, we can send the resulting array to our model to predict the sentiment of the review."
   ]
  },
  {
   "cell_type": "code",
   "execution_count": 45,
   "metadata": {},
   "outputs": [
    {
     "data": {
      "text/plain": [
       "array(0.6143388, dtype=float32)"
      ]
     },
     "execution_count": 45,
     "metadata": {},
     "output_type": "execute_result"
    }
   ],
   "source": [
    "predictor.predict(test_data)"
   ]
  },
  {
   "cell_type": "markdown",
   "metadata": {},
   "source": [
    "Since the return value of our model is close to `1`, we can be certain that the review we submitted is positive."
   ]
  },
  {
   "cell_type": "markdown",
   "metadata": {},
   "source": [
    "### Delete the endpoint\n",
    "\n",
    "Of course, just like in the XGBoost notebook, once we've deployed an endpoint it continues to run until we tell it to shut down. Since we are done using our endpoint for now, we can delete it."
   ]
  },
  {
   "cell_type": "code",
   "execution_count": 47,
   "metadata": {},
   "outputs": [],
   "source": [
    "estimator.delete_endpoint()"
   ]
  },
  {
   "cell_type": "markdown",
   "metadata": {},
   "source": [
    "## Step 6 (again) - Deploy the model for the web app\n",
    "\n",
    "Now that we know that our model is working, it's time to create some custom inference code so that we can send the model a review which has not been processed and have it determine the sentiment of the review.\n",
    "\n",
    "As we saw above, by default the estimator which we created, when deployed, will use the entry script and directory which we provided when creating the model. However, since we now wish to accept a string as input and our model expects a processed review, we need to write some custom inference code.\n",
    "\n",
    "We will store the code that we write in the `serve` directory. Provided in this directory is the `model.py` file that we used to construct our model, a `utils.py` file which contains the `review_to_words` and `convert_and_pad` pre-processing functions which we used during the initial data processing, and `predict.py`, the file which will contain our custom inference code. Note also that `requirements.txt` is present which will tell SageMaker what Python libraries are required by our custom inference code.\n",
    "\n",
    "When deploying a PyTorch model in SageMaker, you are expected to provide four functions which the SageMaker inference container will use.\n",
    " - `model_fn`: This function is the same function that we used in the training script and it tells SageMaker how to load our model.\n",
    " - `input_fn`: This function receives the raw serialized input that has been sent to the model's endpoint and its job is to de-serialize and make the input available for the inference code.\n",
    " - `output_fn`: This function takes the output of the inference code and its job is to serialize this output and return it to the caller of the model's endpoint.\n",
    " - `predict_fn`: The heart of the inference script, this is where the actual prediction is done and is the function which you will need to complete.\n",
    "\n",
    "For the simple website that we are constructing during this project, the `input_fn` and `output_fn` methods are relatively straightforward. We only require being able to accept a string as input and we expect to return a single value as output. You might imagine though that in a more complex application the input or output may be image data or some other binary data which would require some effort to serialize.\n",
    "\n",
    "### (TODO) Writing inference code\n",
    "\n",
    "Before writing our custom inference code, we will begin by taking a look at the code which has been provided."
   ]
  },
  {
   "cell_type": "code",
   "execution_count": 74,
   "metadata": {},
   "outputs": [
    {
     "name": "stdout",
     "output_type": "stream",
     "text": [
      "\u001b[34mimport\u001b[39;49;00m \u001b[04m\u001b[36margparse\u001b[39;49;00m\r\n",
      "\u001b[34mimport\u001b[39;49;00m \u001b[04m\u001b[36mjson\u001b[39;49;00m\r\n",
      "\u001b[34mimport\u001b[39;49;00m \u001b[04m\u001b[36mos\u001b[39;49;00m\r\n",
      "\u001b[34mimport\u001b[39;49;00m \u001b[04m\u001b[36mpickle\u001b[39;49;00m\r\n",
      "\u001b[34mimport\u001b[39;49;00m \u001b[04m\u001b[36msys\u001b[39;49;00m\r\n",
      "\u001b[34mimport\u001b[39;49;00m \u001b[04m\u001b[36msagemaker_containers\u001b[39;49;00m\r\n",
      "\u001b[34mimport\u001b[39;49;00m \u001b[04m\u001b[36mpandas\u001b[39;49;00m \u001b[34mas\u001b[39;49;00m \u001b[04m\u001b[36mpd\u001b[39;49;00m\r\n",
      "\u001b[34mimport\u001b[39;49;00m \u001b[04m\u001b[36mnumpy\u001b[39;49;00m \u001b[34mas\u001b[39;49;00m \u001b[04m\u001b[36mnp\u001b[39;49;00m\r\n",
      "\u001b[34mimport\u001b[39;49;00m \u001b[04m\u001b[36mtorch\u001b[39;49;00m\r\n",
      "\u001b[34mimport\u001b[39;49;00m \u001b[04m\u001b[36mtorch.nn\u001b[39;49;00m \u001b[34mas\u001b[39;49;00m \u001b[04m\u001b[36mnn\u001b[39;49;00m\r\n",
      "\u001b[34mimport\u001b[39;49;00m \u001b[04m\u001b[36mtorch.optim\u001b[39;49;00m \u001b[34mas\u001b[39;49;00m \u001b[04m\u001b[36moptim\u001b[39;49;00m\r\n",
      "\u001b[34mimport\u001b[39;49;00m \u001b[04m\u001b[36mtorch.utils.data\u001b[39;49;00m\r\n",
      "\r\n",
      "\u001b[34mfrom\u001b[39;49;00m \u001b[04m\u001b[36mmodel\u001b[39;49;00m \u001b[34mimport\u001b[39;49;00m LSTMClassifier\r\n",
      "\r\n",
      "\u001b[34mfrom\u001b[39;49;00m \u001b[04m\u001b[36mutils\u001b[39;49;00m \u001b[34mimport\u001b[39;49;00m review_to_words, convert_and_pad\r\n",
      "\r\n",
      "\u001b[34mdef\u001b[39;49;00m \u001b[32mmodel_fn\u001b[39;49;00m(model_dir):\r\n",
      "    \u001b[33m\"\"\"Load the PyTorch model from the `model_dir` directory.\"\"\"\u001b[39;49;00m\r\n",
      "    \u001b[34mprint\u001b[39;49;00m(\u001b[33m\"\u001b[39;49;00m\u001b[33mLoading model.\u001b[39;49;00m\u001b[33m\"\u001b[39;49;00m)\r\n",
      "\r\n",
      "    \u001b[37m# First, load the parameters used to create the model.\u001b[39;49;00m\r\n",
      "    model_info = {}\r\n",
      "    model_info_path = os.path.join(model_dir, \u001b[33m'\u001b[39;49;00m\u001b[33mmodel_info.pth\u001b[39;49;00m\u001b[33m'\u001b[39;49;00m)\r\n",
      "    \u001b[34mwith\u001b[39;49;00m \u001b[36mopen\u001b[39;49;00m(model_info_path, \u001b[33m'\u001b[39;49;00m\u001b[33mrb\u001b[39;49;00m\u001b[33m'\u001b[39;49;00m) \u001b[34mas\u001b[39;49;00m f:\r\n",
      "        model_info = torch.load(f)\r\n",
      "\r\n",
      "    \u001b[34mprint\u001b[39;49;00m(\u001b[33m\"\u001b[39;49;00m\u001b[33mmodel_info: {}\u001b[39;49;00m\u001b[33m\"\u001b[39;49;00m.format(model_info))\r\n",
      "\r\n",
      "    \u001b[37m# Determine the device and construct the model.\u001b[39;49;00m\r\n",
      "    device = torch.device(\u001b[33m\"\u001b[39;49;00m\u001b[33mcuda\u001b[39;49;00m\u001b[33m\"\u001b[39;49;00m \u001b[34mif\u001b[39;49;00m torch.cuda.is_available() \u001b[34melse\u001b[39;49;00m \u001b[33m\"\u001b[39;49;00m\u001b[33mcpu\u001b[39;49;00m\u001b[33m\"\u001b[39;49;00m)\r\n",
      "    model = LSTMClassifier(model_info[\u001b[33m'\u001b[39;49;00m\u001b[33membedding_dim\u001b[39;49;00m\u001b[33m'\u001b[39;49;00m], model_info[\u001b[33m'\u001b[39;49;00m\u001b[33mhidden_dim\u001b[39;49;00m\u001b[33m'\u001b[39;49;00m], model_info[\u001b[33m'\u001b[39;49;00m\u001b[33mvocab_size\u001b[39;49;00m\u001b[33m'\u001b[39;49;00m])\r\n",
      "\r\n",
      "    \u001b[37m# Load the store model parameters.\u001b[39;49;00m\r\n",
      "    model_path = os.path.join(model_dir, \u001b[33m'\u001b[39;49;00m\u001b[33mmodel.pth\u001b[39;49;00m\u001b[33m'\u001b[39;49;00m)\r\n",
      "    \u001b[34mwith\u001b[39;49;00m \u001b[36mopen\u001b[39;49;00m(model_path, \u001b[33m'\u001b[39;49;00m\u001b[33mrb\u001b[39;49;00m\u001b[33m'\u001b[39;49;00m) \u001b[34mas\u001b[39;49;00m f:\r\n",
      "        model.load_state_dict(torch.load(f))\r\n",
      "\r\n",
      "    \u001b[37m# Load the saved word_dict.\u001b[39;49;00m\r\n",
      "    word_dict_path = os.path.join(model_dir, \u001b[33m'\u001b[39;49;00m\u001b[33mword_dict.pkl\u001b[39;49;00m\u001b[33m'\u001b[39;49;00m)\r\n",
      "    \u001b[34mwith\u001b[39;49;00m \u001b[36mopen\u001b[39;49;00m(word_dict_path, \u001b[33m'\u001b[39;49;00m\u001b[33mrb\u001b[39;49;00m\u001b[33m'\u001b[39;49;00m) \u001b[34mas\u001b[39;49;00m f:\r\n",
      "        model.word_dict = pickle.load(f)\r\n",
      "\r\n",
      "    model.to(device).eval()\r\n",
      "\r\n",
      "    \u001b[34mprint\u001b[39;49;00m(\u001b[33m\"\u001b[39;49;00m\u001b[33mDone loading model.\u001b[39;49;00m\u001b[33m\"\u001b[39;49;00m)\r\n",
      "    \u001b[34mreturn\u001b[39;49;00m model\r\n",
      "\r\n",
      "\u001b[34mdef\u001b[39;49;00m \u001b[32minput_fn\u001b[39;49;00m(serialized_input_data, content_type):\r\n",
      "    \u001b[34mprint\u001b[39;49;00m(\u001b[33m'\u001b[39;49;00m\u001b[33mDeserializing the input data.\u001b[39;49;00m\u001b[33m'\u001b[39;49;00m)\r\n",
      "    \u001b[34mif\u001b[39;49;00m content_type == \u001b[33m'\u001b[39;49;00m\u001b[33mtext/plain\u001b[39;49;00m\u001b[33m'\u001b[39;49;00m:\r\n",
      "        data = serialized_input_data.decode(\u001b[33m'\u001b[39;49;00m\u001b[33mutf-8\u001b[39;49;00m\u001b[33m'\u001b[39;49;00m)\r\n",
      "        \u001b[34mreturn\u001b[39;49;00m data\r\n",
      "    \u001b[34mraise\u001b[39;49;00m \u001b[36mException\u001b[39;49;00m(\u001b[33m'\u001b[39;49;00m\u001b[33mRequested unsupported ContentType in content_type: \u001b[39;49;00m\u001b[33m'\u001b[39;49;00m + content_type)\r\n",
      "\r\n",
      "\u001b[34mdef\u001b[39;49;00m \u001b[32moutput_fn\u001b[39;49;00m(prediction_output, accept):\r\n",
      "    \u001b[34mprint\u001b[39;49;00m(\u001b[33m'\u001b[39;49;00m\u001b[33mSerializing the generated output.\u001b[39;49;00m\u001b[33m'\u001b[39;49;00m)\r\n",
      "    \u001b[34mreturn\u001b[39;49;00m \u001b[36mstr\u001b[39;49;00m(prediction_output)\r\n",
      "\r\n",
      "\u001b[34mdef\u001b[39;49;00m \u001b[32mpredict_fn\u001b[39;49;00m(input_data, model):\r\n",
      "    \u001b[34mprint\u001b[39;49;00m(\u001b[33m'\u001b[39;49;00m\u001b[33mInferring sentiment of input data.\u001b[39;49;00m\u001b[33m'\u001b[39;49;00m)\r\n",
      "\r\n",
      "    device = torch.device(\u001b[33m\"\u001b[39;49;00m\u001b[33mcuda\u001b[39;49;00m\u001b[33m\"\u001b[39;49;00m \u001b[34mif\u001b[39;49;00m torch.cuda.is_available() \u001b[34melse\u001b[39;49;00m \u001b[33m\"\u001b[39;49;00m\u001b[33mcpu\u001b[39;49;00m\u001b[33m\"\u001b[39;49;00m)\r\n",
      "    \r\n",
      "    \u001b[34mif\u001b[39;49;00m model.word_dict \u001b[35mis\u001b[39;49;00m \u001b[36mNone\u001b[39;49;00m:\r\n",
      "        \u001b[34mraise\u001b[39;49;00m \u001b[36mException\u001b[39;49;00m(\u001b[33m'\u001b[39;49;00m\u001b[33mModel has not been loaded properly, no word_dict.\u001b[39;49;00m\u001b[33m'\u001b[39;49;00m)\r\n",
      "    \r\n",
      "    \u001b[37m# TODO: Process input_data so that it is ready to be sent to our model.\u001b[39;49;00m\r\n",
      "    \u001b[37m#       You should produce two variables:\u001b[39;49;00m\r\n",
      "    \u001b[37m#         data_X   - A sequence of length 500 which represents the converted review\u001b[39;49;00m\r\n",
      "    \u001b[37m#         data_len - The length of the review\u001b[39;49;00m\r\n",
      "\r\n",
      "   \r\n",
      "    X = review_to_words(input_data)\r\n",
      "    data_X, data_len = convert_and_pad(model.word_dict, X)\r\n",
      "\r\n",
      "    \u001b[37m# Using data_X and data_len we construct an appropriate input tensor. Remember\u001b[39;49;00m\r\n",
      "    \u001b[37m# that our model expects input data of the form 'len, review[500]'.\u001b[39;49;00m\r\n",
      "    data_pack = np.hstack((data_len, data_X))\r\n",
      "    data_pack = data_pack.reshape(\u001b[34m1\u001b[39;49;00m, -\u001b[34m1\u001b[39;49;00m)\r\n",
      "    \r\n",
      "    data = torch.from_numpy(data_pack)\r\n",
      "    data = data.to(device)\r\n",
      "\r\n",
      "    \u001b[37m# Make sure to put the model into evaluation mode\u001b[39;49;00m\r\n",
      "    model.eval()\r\n",
      "\r\n",
      "    \u001b[37m# TODO: Compute the result of applying the model to the input data. The variable `result` should\u001b[39;49;00m\r\n",
      "    \u001b[37m#       be a numpy array which contains a single integer which is either 1 or 0\u001b[39;49;00m\r\n",
      "\r\n",
      "    \r\n",
      "    \u001b[34mwith\u001b[39;49;00m torch.no_grad(): \r\n",
      "        output = model.forward(data)   \r\n",
      "    result = np.round(output.cpu().numpy()).astype(\u001b[36mint\u001b[39;49;00m)\r\n",
      "    \r\n",
      "    \u001b[34mreturn\u001b[39;49;00m result\r\n"
     ]
    }
   ],
   "source": [
    "!pygmentize serve/predict.py"
   ]
  },
  {
   "cell_type": "markdown",
   "metadata": {},
   "source": [
    "As mentioned earlier, the `model_fn` method is the same as the one provided in the training code and the `input_fn` and `output_fn` methods are very simple and your task will be to complete the `predict_fn` method. Make sure that you save the completed file as `predict.py` in the `serve` directory.\n",
    "\n",
    "**TODO**: Complete the `predict_fn()` method in the `serve/predict.py` file."
   ]
  },
  {
   "cell_type": "markdown",
   "metadata": {},
   "source": [
    "### Deploying the model\n",
    "\n",
    "Now that the custom inference code has been written, we will create and deploy our model. To begin with, we need to construct a new PyTorchModel object which points to the model artifacts created during training and also points to the inference code that we wish to use. Then we can call the deploy method to launch the deployment container.\n",
    "\n",
    "**NOTE**: The default behaviour for a deployed PyTorch model is to assume that any input passed to the predictor is a `numpy` array. In our case we want to send a string so we need to construct a simple wrapper around the `RealTimePredictor` class to accomodate simple strings. In a more complicated situation you may want to provide a serialization object, for example if you wanted to sent image data."
   ]
  },
  {
   "cell_type": "code",
   "execution_count": 94,
   "metadata": {},
   "outputs": [
    {
     "name": "stdout",
     "output_type": "stream",
     "text": [
      "---------------!"
     ]
    }
   ],
   "source": [
    "from sagemaker.predictor import RealTimePredictor\n",
    "from sagemaker.pytorch import PyTorchModel\n",
    "\n",
    "class StringPredictor(RealTimePredictor):\n",
    "    def __init__(self, endpoint_name, sagemaker_session):\n",
    "        super(StringPredictor, self).__init__(endpoint_name, sagemaker_session, content_type='text/plain')\n",
    "\n",
    "model = PyTorchModel(model_data=estimator.model_data,\n",
    "                     role = role,\n",
    "                     framework_version='0.4.0',\n",
    "                     entry_point='predict.py',\n",
    "                     source_dir='serve',\n",
    "                     predictor_cls=StringPredictor)\n",
    "predictor = model.deploy(initial_instance_count=1, instance_type='ml.p2.xlarge')"
   ]
  },
  {
   "cell_type": "markdown",
   "metadata": {},
   "source": [
    "### Testing the model\n",
    "\n",
    "Now that we have deployed our model with the custom inference code, we should test to see if everything is working. Here we test our model by loading the first `250` positive and negative reviews and send them to the endpoint, then collect the results. The reason for only sending some of the data is that the amount of time it takes for our model to process the input and then perform inference is quite long and so testing the entire data set would be prohibitive."
   ]
  },
  {
   "cell_type": "code",
   "execution_count": 88,
   "metadata": {},
   "outputs": [],
   "source": [
    "import glob\n",
    "\n",
    "def test_reviews(data_dir='../data/aclImdb', stop=250):\n",
    "    \n",
    "    results = []\n",
    "    ground = []\n",
    "    \n",
    "    # We make sure to test both positive and negative reviews    \n",
    "    for sentiment in ['pos', 'neg']:\n",
    "        \n",
    "        path = os.path.join(data_dir, 'test', sentiment, '*.txt')\n",
    "        files = glob.glob(path)\n",
    "        \n",
    "        files_read = 0\n",
    "        \n",
    "        print('Starting ', sentiment, ' files')\n",
    "        \n",
    "        # Iterate through the files and send them to the predictor\n",
    "        for f in files:\n",
    "            with open(f) as review:\n",
    "                # First, we store the ground truth (was the review positive or negative)\n",
    "                if sentiment == 'pos':\n",
    "                    ground.append(1)\n",
    "                else:\n",
    "                    ground.append(0)\n",
    "                # Read in the review and convert to 'utf-8' for transmission via HTTP\n",
    "                review_input = review.read().encode('utf-8')\n",
    "                #print(review_input[0:10])\n",
    "                #print(\"\\n\")\n",
    "                # Send the review to the predictor and store the results\n",
    "                results.append(int(predictor.predict(review_input)))\n",
    "                \n",
    "            # Sending reviews to our endpoint one at a time takes a while so we\n",
    "            # only send a small number of reviews\n",
    "            files_read += 1\n",
    "            if files_read == stop:\n",
    "                break\n",
    "            \n",
    "    return ground, results"
   ]
  },
  {
   "cell_type": "code",
   "execution_count": 95,
   "metadata": {},
   "outputs": [
    {
     "name": "stdout",
     "output_type": "stream",
     "text": [
      "Starting  pos  files\n",
      "Starting  neg  files\n"
     ]
    }
   ],
   "source": [
    "ground, results = test_reviews()"
   ]
  },
  {
   "cell_type": "code",
   "execution_count": 96,
   "metadata": {},
   "outputs": [
    {
     "data": {
      "text/plain": [
       "0.826"
      ]
     },
     "execution_count": 96,
     "metadata": {},
     "output_type": "execute_result"
    }
   ],
   "source": [
    "from sklearn.metrics import accuracy_score\n",
    "accuracy_score(ground, results)"
   ]
  },
  {
   "cell_type": "markdown",
   "metadata": {},
   "source": [
    "As an additional test, we can try sending the `test_review` that we looked at earlier."
   ]
  },
  {
   "cell_type": "code",
   "execution_count": 97,
   "metadata": {},
   "outputs": [
    {
     "data": {
      "text/plain": [
       "b'0'"
      ]
     },
     "execution_count": 97,
     "metadata": {},
     "output_type": "execute_result"
    }
   ],
   "source": [
    "predictor.predict(bad_review)"
   ]
  },
  {
   "cell_type": "markdown",
   "metadata": {},
   "source": [
    "Now that we know our endpoint is working as expected, we can set up the web page that will interact with it. If you don't have time to finish the project now, make sure to skip down to the end of this notebook and shut down your endpoint. You can deploy it again when you come back."
   ]
  },
  {
   "cell_type": "markdown",
   "metadata": {},
   "source": [
    "## Step 7 (again): Use the model for the web app\n",
    "\n",
    "> **TODO:** This entire section and the next contain tasks for you to complete, mostly using the AWS console.\n",
    "\n",
    "So far we have been accessing our model endpoint by constructing a predictor object which uses the endpoint and then just using the predictor object to perform inference. What if we wanted to create a web app which accessed our model? The way things are set up currently makes that not possible since in order to access a SageMaker endpoint the app would first have to authenticate with AWS using an IAM role which included access to SageMaker endpoints. However, there is an easier way! We just need to use some additional AWS services.\n",
    "\n",
    "<img src=\"Web App Diagram.svg\">\n",
    "\n",
    "The diagram above gives an overview of how the various services will work together. On the far right is the model which we trained above and which is deployed using SageMaker. On the far left is our web app that collects a user's movie review, sends it off and expects a positive or negative sentiment in return.\n",
    "\n",
    "In the middle is where some of the magic happens. We will construct a Lambda function, which you can think of as a straightforward Python function that can be executed whenever a specified event occurs. We will give this function permission to send and recieve data from a SageMaker endpoint.\n",
    "\n",
    "Lastly, the method we will use to execute the Lambda function is a new endpoint that we will create using API Gateway. This endpoint will be a url that listens for data to be sent to it. Once it gets some data it will pass that data on to the Lambda function and then return whatever the Lambda function returns. Essentially it will act as an interface that lets our web app communicate with the Lambda function.\n",
    "\n",
    "### Setting up a Lambda function\n",
    "\n",
    "The first thing we are going to do is set up a Lambda function. This Lambda function will be executed whenever our public API has data sent to it. When it is executed it will receive the data, perform any sort of processing that is required, send the data (the review) to the SageMaker endpoint we've created and then return the result.\n",
    "\n",
    "#### Part A: Create an IAM Role for the Lambda function\n",
    "\n",
    "Since we want the Lambda function to call a SageMaker endpoint, we need to make sure that it has permission to do so. To do this, we will construct a role that we can later give the Lambda function.\n",
    "\n",
    "Using the AWS Console, navigate to the **IAM** page and click on **Roles**. Then, click on **Create role**. Make sure that the **AWS service** is the type of trusted entity selected and choose **Lambda** as the service that will use this role, then click **Next: Permissions**.\n",
    "\n",
    "In the search box type `sagemaker` and select the check box next to the **AmazonSageMakerFullAccess** policy. Then, click on **Next: Review**.\n",
    "\n",
    "Lastly, give this role a name. Make sure you use a name that you will remember later on, for example `LambdaSageMakerRole`. Then, click on **Create role**.\n",
    "\n",
    "#### Part B: Create a Lambda function\n",
    "\n",
    "Now it is time to actually create the Lambda function.\n",
    "\n",
    "Using the AWS Console, navigate to the AWS Lambda page and click on **Create a function**. When you get to the next page, make sure that **Author from scratch** is selected. Now, name your Lambda function, using a name that you will remember later on, for example `sentiment_analysis_func`. Make sure that the **Python 3.6** runtime is selected and then choose the role that you created in the previous part. Then, click on **Create Function**.\n",
    "\n",
    "On the next page you will see some information about the Lambda function you've just created. If you scroll down you should see an editor in which you can write the code that will be executed when your Lambda function is triggered. In our example, we will use the code below. \n",
    "\n",
    "```python\n",
    "# We need to use the low-level library to interact with SageMaker since the SageMaker API\n",
    "# is not available natively through Lambda.\n",
    "import boto3\n",
    "\n",
    "def lambda_handler(event, context):\n",
    "\n",
    "    # The SageMaker runtime is what allows us to invoke the endpoint that we've created.\n",
    "    runtime = boto3.Session().client('sagemaker-runtime')\n",
    "\n",
    "    # Now we use the SageMaker runtime to invoke our endpoint, sending the review we were given\n",
    "    response = runtime.invoke_endpoint(EndpointName = '**ENDPOINT NAME HERE**',    # The name of the endpoint we created\n",
    "                                       ContentType = 'text/plain',                 # The data format that is expected\n",
    "                                       Body = event['body'])                       # The actual review\n",
    "\n",
    "    # The response is an HTTP response whose body contains the result of our inference\n",
    "    result = response['Body'].read().decode('utf-8')\n",
    "\n",
    "    return {\n",
    "        'statusCode' : 200,\n",
    "        'headers' : { 'Content-Type' : 'text/plain', 'Access-Control-Allow-Origin' : '*' },\n",
    "        'body' : result\n",
    "    }\n",
    "```\n",
    "\n",
    "Once you have copy and pasted the code above into the Lambda code editor, replace the `**ENDPOINT NAME HERE**` portion with the name of the endpoint that we deployed earlier. You can determine the name of the endpoint using the code cell below."
   ]
  },
  {
   "cell_type": "code",
   "execution_count": 98,
   "metadata": {},
   "outputs": [
    {
     "data": {
      "text/plain": [
       "'sagemaker-pytorch-2020-03-05-12-52-00-889'"
      ]
     },
     "execution_count": 98,
     "metadata": {},
     "output_type": "execute_result"
    }
   ],
   "source": [
    "predictor.endpoint"
   ]
  },
  {
   "cell_type": "markdown",
   "metadata": {},
   "source": [
    "Once you have added the endpoint name to the Lambda function, click on **Save**. Your Lambda function is now up and running. Next we need to create a way for our web app to execute the Lambda function.\n",
    "\n",
    "### Setting up API Gateway\n",
    "\n",
    "Now that our Lambda function is set up, it is time to create a new API using API Gateway that will trigger the Lambda function we have just created.\n",
    "\n",
    "Using AWS Console, navigate to **Amazon API Gateway** and then click on **Get started**.\n",
    "\n",
    "On the next page, make sure that **New API** is selected and give the new api a name, for example, `sentiment_analysis_api`. Then, click on **Create API**.\n",
    "\n",
    "Now we have created an API, however it doesn't currently do anything. What we want it to do is to trigger the Lambda function that we created earlier.\n",
    "\n",
    "Select the **Actions** dropdown menu and click **Create Method**. A new blank method will be created, select its dropdown menu and select **POST**, then click on the check mark beside it.\n",
    "\n",
    "For the integration point, make sure that **Lambda Function** is selected and click on the **Use Lambda Proxy integration**. This option makes sure that the data that is sent to the API is then sent directly to the Lambda function with no processing. It also means that the return value must be a proper response object as it will also not be processed by API Gateway.\n",
    "\n",
    "Type the name of the Lambda function you created earlier into the **Lambda Function** text entry box and then click on **Save**. Click on **OK** in the pop-up box that then appears, giving permission to API Gateway to invoke the Lambda function you created.\n",
    "\n",
    "The last step in creating the API Gateway is to select the **Actions** dropdown and click on **Deploy API**. You will need to create a new Deployment stage and name it anything you like, for example `prod`.\n",
    "\n",
    "You have now successfully set up a public API to access your SageMaker model. Make sure to copy or write down the URL provided to invoke your newly created public API as this will be needed in the next step. This URL can be found at the top of the page, highlighted in blue next to the text **Invoke URL**."
   ]
  },
  {
   "cell_type": "markdown",
   "metadata": {},
   "source": [
    "## Step 4: Deploying our web app\n",
    "\n",
    "Now that we have a publicly available API, we can start using it in a web app. For our purposes, we have provided a simple static html file which can make use of the public api you created earlier.\n",
    "\n",
    "In the `website` folder there should be a file called `index.html`. Download the file to your computer and open that file up in a text editor of your choice. There should be a line which contains **\\*\\*REPLACE WITH PUBLIC API URL\\*\\***. Replace this string with the url that you wrote down in the last step and then save the file.\n",
    "\n",
    "Now, if you open `index.html` on your local computer, your browser will behave as a local web server and you can use the provided site to interact with your SageMaker model.\n",
    "\n",
    "If you'd like to go further, you can host this html file anywhere you'd like, for example using github or hosting a static site on Amazon's S3. Once you have done this you can share the link with anyone you'd like and have them play with it too!\n",
    "\n",
    "> **Important Note** In order for the web app to communicate with the SageMaker endpoint, the endpoint has to actually be deployed and running. This means that you are paying for it. Make sure that the endpoint is running when you want to use the web app but that you shut it down when you don't need it, otherwise you will end up with a surprisingly large AWS bill.\n",
    "\n",
    "**TODO:** Make sure that you include the edited `index.html` file in your project submission."
   ]
  },
  {
   "cell_type": "markdown",
   "metadata": {},
   "source": [
    "Now that your web app is working, trying playing around with it and see how well it works.\n",
    "\n",
    "**Question**: Give an example of a review that you entered into your web app. What was the predicted sentiment of your example review?"
   ]
  },
  {
   "cell_type": "markdown",
   "metadata": {},
   "source": [
    "**Answer:**\n",
    "\n",
    "I really enjoy the movie. It is an eye-opening experience. The entire cast is fantastic, and the cinematography is excellent. Highly recommended!\n",
    "\n",
    "Your review was POSITIVE!"
   ]
  },
  {
   "cell_type": "markdown",
   "metadata": {},
   "source": [
    "### Delete the endpoint\n",
    "\n",
    "Remember to always shut down your endpoint if you are no longer using it. You are charged for the length of time that the endpoint is running so if you forget and leave it on you could end up with an unexpectedly large bill."
   ]
  },
  {
   "cell_type": "code",
   "execution_count": 99,
   "metadata": {},
   "outputs": [],
   "source": [
    "predictor.delete_endpoint()"
   ]
  },
  {
   "cell_type": "code",
   "execution_count": null,
   "metadata": {},
   "outputs": [],
   "source": []
  }
 ],
 "metadata": {
  "kernelspec": {
   "display_name": "conda_pytorch_p36",
   "language": "python",
   "name": "conda_pytorch_p36"
  },
  "language_info": {
   "codemirror_mode": {
    "name": "ipython",
    "version": 3
   },
   "file_extension": ".py",
   "mimetype": "text/x-python",
   "name": "python",
   "nbconvert_exporter": "python",
   "pygments_lexer": "ipython3",
   "version": "3.6.5"
  }
 },
 "nbformat": 4,
 "nbformat_minor": 2
}
